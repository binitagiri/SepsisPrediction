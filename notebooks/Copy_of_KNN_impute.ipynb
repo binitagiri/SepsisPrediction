{
  "cells": [
    {
      "cell_type": "code",
      "execution_count": null,
      "metadata": {
        "colab": {
          "base_uri": "https://localhost:8080/"
        },
        "id": "UNlmO7GsR05T",
        "outputId": "6bbe248f-9acc-4b0e-b207-009fd2c73739"
      },
      "outputs": [
        {
          "output_type": "stream",
          "name": "stdout",
          "text": [
            "Mounted at /content/drive\n"
          ]
        }
      ],
      "source": [
        "#Mounting the google drive\n",
        "from google.colab import drive\n",
        "drive.mount('/content/drive')\n",
        "Path='drive/My Drive'"
      ]
    },
    {
      "cell_type": "code",
      "execution_count": null,
      "metadata": {
        "id": "3lzMmXtjR27X"
      },
      "outputs": [],
      "source": [
        "import pandas as pd\n",
        "import numpy as np\n",
        "import seaborn as snb\n",
        "import matplotlib.pyplot as plt"
      ]
    },
    {
      "cell_type": "code",
      "execution_count": null,
      "metadata": {
        "id": "FFLcu5maR3F2"
      },
      "outputs": [],
      "source": [
        "df=pd.read_csv(Path+'/septic_patients_data_alone.csv')"
      ]
    },
    {
      "cell_type": "code",
      "execution_count": null,
      "metadata": {
        "id": "7Fwp5K06txNU"
      },
      "outputs": [],
      "source": [
        "#df=df.drop(columns=['EtCO2', 'Bilirubin_direct','TroponinI','Fibrinogen','sepsisType','Unit1','Unit2'])\n",
        "#df=df.drop(columns=['sepsisType'])\n",
        "       "
      ]
    },
    {
      "cell_type": "markdown",
      "source": [
        "# **Imputing** **the Null's using Interpolation**"
      ],
      "metadata": {
        "id": "T1ZnFheojfth"
      }
    },
    {
      "cell_type": "code",
      "source": [
        "PIdArray=df['Patient_ID'].unique()\n",
        "df_output=pd.DataFrame()\n",
        "for i in PIdArray:\n",
        "    df_new=df[df['Patient_ID']==i].interpolate(limit_direction='both')\n",
        "    df_output=df_output.append(df_new)"
      ],
      "metadata": {
        "id": "QmZs4Ny1vo2J"
      },
      "execution_count": null,
      "outputs": []
    },
    {
      "cell_type": "code",
      "source": [
        "from sklearn.model_selection import train_test_split\n",
        "import xgboost as xgb\n",
        "from sklearn.metrics import accuracy_score"
      ],
      "metadata": {
        "id": "IEXZVbPPMLi8"
      },
      "execution_count": null,
      "outputs": []
    },
    {
      "cell_type": "code",
      "source": [
        "#clf = LogisticRegression(solver=\"liblinear\", random_state=0).fit(X, y)\n",
        "x = df_output.drop(['sepsisType','SepsisLabel'], axis=1) # assigning features to x, y\n",
        "y = df_output['SepsisLabel']\n",
        "x_train, x_val, y_train, y_val = train_test_split(x, y, test_size=0.2, random_state=42)\n",
        "xgb_cl = xgb.XGBClassifier(objective='binary:logistic',n_estimator=6,seed=42)\n",
        "xgb_cl.fit(x_train, y_train)\n",
        "preds = xgb_cl.predict(x_val)\n",
        "accuracy = accuracy_score(y_val, preds)\n",
        "accuracy"
      ],
      "metadata": {
        "colab": {
          "base_uri": "https://localhost:8080/"
        },
        "id": "VkEt3DbdMjRc",
        "outputId": "0ed25384-98a9-4d46-b1d7-e45297b9bff1"
      },
      "execution_count": null,
      "outputs": [
        {
          "output_type": "execute_result",
          "data": {
            "text/plain": [
              "0.8527927614407517"
            ]
          },
          "metadata": {},
          "execution_count": 7
        }
      ]
    },
    {
      "cell_type": "markdown",
      "source": [
        "# **Confusion matrix** \n"
      ],
      "metadata": {
        "id": "jrTkmSP8jYbn"
      }
    },
    {
      "cell_type": "code",
      "source": [
        "from sklearn.metrics import confusion_matrix\n",
        "cm = confusion_matrix(y_val, preds)\n",
        "fig, ax = plt.subplots(figsize=(5, 5))\n",
        "ax.matshow(cm, cmap=plt.cm.Oranges, alpha=0.3)\n",
        "for i in range(cm.shape[0]):\n",
        "    for j in range(cm.shape[1]):\n",
        "        ax.text(x=j, y=i,s=cm[i, j], va='center', ha='center', size='xx-large')\n",
        " \n",
        "plt.xlabel('Predictions', fontsize=18)\n",
        "plt.ylabel('Actuals', fontsize=18)\n",
        "plt.title('Confusion Matrix', fontsize=18)\n",
        "plt.show()"
      ],
      "metadata": {
        "colab": {
          "base_uri": "https://localhost:8080/",
          "height": 358
        },
        "id": "nnPFout8N-Av",
        "outputId": "06070870-99a2-489f-ac13-d58228aa35d7"
      },
      "execution_count": null,
      "outputs": [
        {
          "output_type": "display_data",
          "data": {
            "image/png": "[encoded data removed]",
            "text/plain": [
              "<Figure size 360x360 with 1 Axes>"
            ]
          },
          "metadata": {
            "needs_background": "light"
          }
        }
      ]
    },
    {
      "cell_type": "markdown",
      "source": [
        "True Positive (TP) = 721; meaning 721 positive class data points were correctly classified by the model\n",
        "\n",
        "True Negative (TN) = 28685; meaning 28685 negative class data points were correctly classified by the model\n",
        "\n",
        "False Positive (FP) = 208; meaning 208 negative class data points were incorrectly classified as belonging to the positive class by the model\n",
        "\n",
        "False Negative (FN) = 4868; meaning 4868 positive class data points were incorrectly classified as belonging to the negative class by the model\n"
      ],
      "metadata": {
        "id": "aLHquZaooI1z"
      }
    },
    {
      "cell_type": "markdown",
      "source": [
        "# Recall , Precision, F1 Score \n",
        "\n",
        "*   Precision :\n",
        "\n",
        "Precision tells us how many of the correctly predicted cases actually turned out to be positive.\n",
        "\n",
        "Model precision score represents the model’s ability to correctly predict the positives out of all the positive predictions it made. \n",
        "The precision score is a useful measure of the success of prediction when the classes are very imbalanced. Mathematically,\n",
        " it represents the ratio of true positive to the sum of true positive and false positive.\n",
        "\n",
        "Precision Score = TP / (FP + TP)\n",
        "\n",
        "For example, machine learning models are used in medical diagnosis applications \n",
        "where the doctor wants machine learning models that will not provide a label of pneumonia if the patient does not have this disease. \n",
        "Oncologists ideally want models that can identify all cancerous lesions without any false-positive results, \n",
        "and hence one could use a precision score in such cases. \n",
        "Note that a greater number of false positives will result in a lot of stress for the patients in general although that may not turn\n",
        "out to be fatal from a health perspective.\n",
        " Further tests will be able to negate the false positive prediction.\n",
        "\n",
        "* Model **recall** score represents the model’s ability to correctly predict the positives out of actual positives. \n",
        "* **F1 Score ** : It is termed as a harmonic mean of Precision and Recall and it can give us better metrics of incorrectly classified classes than the Accuracy Metric.\n",
        "\n",
        "It can be a better measure to use if we need to seek a balance between Precision and Recall\n",
        "\n",
        "\n",
        "\n"
      ],
      "metadata": {
        "id": "8D8Btw4QY2gw"
      }
    },
    {
      "cell_type": "code",
      "source": [
        "from sklearn.metrics import classification_report\n",
        "from sklearn.metrics import f1_score\n",
        "from sklearn.metrics import precision_score, recall_score, f1_score, accuracy_score\n",
        "#tp, fn, fp, tn = confusion_matrix(y_val, preds)\n",
        "tp, fn, fp, tn = confusion_matrix(y_val, preds,labels=[1,0]).reshape(-1)\n",
        "print('Outcome values : \\n', tp, fn, fp, tn)\n",
        "print(\"------------------\")\n",
        "\n",
        "print('Recall: %.2f' % recall_score(y_val, preds))\n",
        "print(\"------------------\")\n",
        "print('Precision: %.2f' % precision_score(y_val, preds))\n",
        "print(\"------------------\")\n",
        "print('F1 Score: %.2f' % f1_score(y_val, preds))\n",
        "#f1_score(y_val, preds, average='weighted') \n",
        "\n",
        "#classification report for precision, recall f1-score and accuracy\n",
        "#matrix = classification_report(y_val, preds,labels=[1,0])\n",
        "#print('Classification report : \\n',matrix)"
      ],
      "metadata": {
        "colab": {
          "base_uri": "https://localhost:8080/"
        },
        "id": "KKf2ud01N20m",
        "outputId": "2077bb18-101c-4b59-d766-7d6c5dd38667"
      },
      "execution_count": null,
      "outputs": [
        {
          "output_type": "stream",
          "name": "stdout",
          "text": [
            "Outcome values : \n",
            " 721 4868 208 28685\n",
            "------------------\n",
            "Recall: 0.13\n",
            "------------------\n",
            "Precision: 0.78\n",
            "------------------\n",
            "F1 Score: 0.22\n"
          ]
        }
      ]
    },
    {
      "cell_type": "code",
      "source": [
        "# Verifing\n",
        "Recall=tp/(tp+fn)\n",
        "Recall"
      ],
      "metadata": {
        "colab": {
          "base_uri": "https://localhost:8080/"
        },
        "id": "WrX5q2qZW83D",
        "outputId": "e3debc15-818e-42b5-ff01-84945f98783a"
      },
      "execution_count": null,
      "outputs": [
        {
          "output_type": "execute_result",
          "data": {
            "text/plain": [
              "0.1290033995348005"
            ]
          },
          "metadata": {},
          "execution_count": 12
        }
      ]
    },
    {
      "cell_type": "markdown",
      "source": [
        "#Classification report for precision, recall f1-score and accuracy"
      ],
      "metadata": {
        "id": "RvARkcwbi-bW"
      }
    },
    {
      "cell_type": "code",
      "source": [
        "#classification report for precision, recall f1-score and accuracy\n",
        "from sklearn.metrics import classification_report\n",
        "matrix = classification_report(y_val, preds,labels=[1,0])\n",
        "print('Classification report : \\n',matrix)"
      ],
      "metadata": {
        "colab": {
          "base_uri": "https://localhost:8080/"
        },
        "id": "XGeF5oh-hqU9",
        "outputId": "55f6f700-184f-49f8-dfa1-52ed464af4ab"
      },
      "execution_count": null,
      "outputs": [
        {
          "output_type": "stream",
          "name": "stdout",
          "text": [
            "Classification report : \n",
            "               precision    recall  f1-score   support\n",
            "\n",
            "           1       0.78      0.13      0.22      5589\n",
            "           0       0.85      0.99      0.92     28893\n",
            "\n",
            "    accuracy                           0.85     34482\n",
            "   macro avg       0.82      0.56      0.57     34482\n",
            "weighted avg       0.84      0.85      0.81     34482\n",
            "\n"
          ]
        }
      ]
    },
    {
      "cell_type": "markdown",
      "source": [
        "#  AUC - ROC Curve\n",
        "\n",
        "AUC - ROC curve is a performance measurement for the classification problems at various threshold settings. ROC is a probability curve and AUC represents the degree or measure of separability. It tells how much the model is capable of distinguishing between classes. Higher the AUC, the better the model is at predicting 0 classes as 0 and 1 classes as 1. By analogy, the Higher the AUC, the better the model is at distinguishing between patients with the disease and no disease.\n",
        "The ROC curve is plotted with TPR against the FPR where TPR is on the y-axis and FPR is on the x-axis **bold text**."
      ],
      "metadata": {
        "id": "B8YOCqjAiwDp"
      }
    },
    {
      "cell_type": "code",
      "source": [
        "from sklearn import metrics\n",
        "#use model to predict probability that given y value is 1\n",
        "y_preds = xgb_cl.predict_proba(x_val)\n",
        "# take the second column because the classifier outputs scores for\n",
        "# the 0 class as well\n",
        "predss = y_preds[:,1]\n",
        "\n",
        "#calculate AUC of model\n",
        "auc = metrics.roc_auc_score(y_val, predss)\n",
        "\n",
        "# fpr means false-positive-rate\n",
        "# tpr means true-positive-rate\n",
        "#fpr, tpr, _ = metrics.roc_curve(y_val, predss)\n",
        "\n",
        "#auc_score = metrics.auc(fpr, tpr)\n",
        "\n",
        "# clear current figure\n",
        "#plt.clf()\n",
        "\n",
        "plt.title('ROC Curve')\n",
        "plt.plot(fpr, tpr, label='AUC = {:.2f}'.format(auc))\n",
        "\n",
        "plt.plot([0,1],[0,1],'r--')\n",
        "\n",
        "plt.xlim([-0.1,1.1])\n",
        "plt.ylim([-0.1,1.1])\n",
        "plt.ylabel('True Positive Rate')\n",
        "plt.xlabel('False Positive Rate')\n",
        "\n",
        "plt.legend(loc='lower right')\n",
        "plt.show()"
      ],
      "metadata": {
        "colab": {
          "base_uri": "https://localhost:8080/",
          "height": 295
        },
        "id": "9yFG1iJDV3bU",
        "outputId": "c8fc9295-df80-45f4-c3ea-d14dfde6ce31"
      },
      "execution_count": null,
      "outputs": [
        {
          "output_type": "display_data",
          "data": {
            "image/png": "[encoded data removed]",
            "text/plain": [
              "<Figure size 432x288 with 1 Axes>"
            ]
          },
          "metadata": {
            "needs_background": "light"
          }
        }
      ]
    },
    {
      "cell_type": "markdown",
      "source": [
        "So our model's AUC is 0.81, it means there is a 81% chance that the model will be able to distinguish between positive class and negative class."
      ],
      "metadata": {
        "id": "vT3Dt_vXiCWY"
      }
    },
    {
      "cell_type": "code",
      "source": [
        ""
      ],
      "metadata": {
        "id": "7BoVHj7IYR_m"
      },
      "execution_count": null,
      "outputs": []
    },
    {
      "cell_type": "code",
      "source": [
        ""
      ],
      "metadata": {
        "id": "j4_YWjHhYSEJ"
      },
      "execution_count": null,
      "outputs": []
    },
    {
      "cell_type": "code",
      "source": [
        ""
      ],
      "metadata": {
        "id": "Zb6VkpbLYSI8"
      },
      "execution_count": null,
      "outputs": []
    },
    {
      "cell_type": "code",
      "source": [
        "xgb_cl_prob=xgb_cl.predict_proba(x_val)\n",
        "xgb_cl_prob=xgb_cl_prob[:,1]\n",
        "xgb_cl_auc=roc_auc_score(y_val,xgb_cl_prob)\n",
        "print(xgb_cl_auc)"
      ],
      "metadata": {
        "colab": {
          "base_uri": "https://localhost:8080/"
        },
        "id": "BC_Ea8GxxIBI",
        "outputId": "9b1f8211-8b92-4830-a79c-8a812200ef7c"
      },
      "execution_count": null,
      "outputs": [
        {
          "output_type": "stream",
          "name": "stdout",
          "text": [
            "0.8070050752160705\n"
          ]
        }
      ]
    },
    {
      "cell_type": "code",
      "source": [
        "rf_fpr,rf_tpr,_=roc_curve(y_val,xgb_cl_prob)\n",
        "plt.plot(rf_fpr,rf_tpr)"
      ],
      "metadata": {
        "colab": {
          "base_uri": "https://localhost:8080/",
          "height": 282
        },
        "id": "gpz5dU0M2aJC",
        "outputId": "818b1ea2-3a2e-4c02-9c5b-15b6d455f558"
      },
      "execution_count": null,
      "outputs": [
        {
          "output_type": "execute_result",
          "data": {
            "text/plain": [
              "[<matplotlib.lines.Line2D at 0x7f5b88d40d90>]"
            ]
          },
          "metadata": {},
          "execution_count": 15
        },
        {
          "output_type": "display_data",
          "data": {
            "image/png": "[encoded data removed]",
            "text/plain": [
              "<Figure size 432x288 with 1 Axes>"
            ]
          },
          "metadata": {
            "needs_background": "light"
          }
        }
      ]
    },
    {
      "cell_type": "code",
      "source": [
        ""
      ],
      "metadata": {
        "id": "NjlKsRLd2aML"
      },
      "execution_count": null,
      "outputs": []
    },
    {
      "cell_type": "code",
      "source": [
        "# build importance data\n",
        "importance_data = sorted(list(zip(df_output.columns,xgb_cl.feature_importances_)),key=lambda tpl:tpl[1],reverse=True)\n",
        "\n",
        "xs = range(len(importance_data))\n",
        "labels = [x for (x,_) in importance_data]\n",
        "ys = [y for (_,y) in importance_data]\n",
        "\n",
        "# plot\n",
        "from matplotlib.pyplot import figure\n",
        "figure(figsize=(45, 8), dpi=70)\n",
        "plt.clf()\n",
        "plt.bar(xs,ys,width=0.5)\n",
        "plt.xticks(xs,labels)\n",
        "plt.show()"
      ],
      "metadata": {
        "id": "6cq2MXAP2aVD"
      },
      "execution_count": null,
      "outputs": []
    },
    {
      "cell_type": "code",
      "source": [
        ""
      ],
      "metadata": {
        "id": "yp2kQGgT3Oj4"
      },
      "execution_count": null,
      "outputs": []
    },
    {
      "cell_type": "code",
      "source": [
        ""
      ],
      "metadata": {
        "id": "3v7AeH5c3OrW"
      },
      "execution_count": null,
      "outputs": []
    },
    {
      "cell_type": "code",
      "source": [
        "len(PIdArray)"
      ],
      "metadata": {
        "colab": {
          "base_uri": "https://localhost:8080/"
        },
        "id": "2YAUJKUkNl8O",
        "outputId": "426d8665-4c7a-40d5-f5dd-99d1c4ed0cd7"
      },
      "execution_count": null,
      "outputs": [
        {
          "output_type": "execute_result",
          "data": {
            "text/plain": [
              "2932"
            ]
          },
          "metadata": {},
          "execution_count": 39
        }
      ]
    },
    {
      "cell_type": "code",
      "execution_count": null,
      "metadata": {
        "id": "4MVCPWU1YlKp"
      },
      "outputs": [],
      "source": [
        "df1=df_output[:40103]"
      ]
    },
    {
      "cell_type": "code",
      "source": [
        "df1.shape"
      ],
      "metadata": {
        "colab": {
          "base_uri": "https://localhost:8080/"
        },
        "id": "rQUYfymdPe9b",
        "outputId": "d8e4ab54-5fad-4883-e71a-0e57cfa41edb"
      },
      "execution_count": null,
      "outputs": [
        {
          "output_type": "execute_result",
          "data": {
            "text/plain": [
              "(40103, 39)"
            ]
          },
          "metadata": {},
          "execution_count": 8
        }
      ]
    },
    {
      "cell_type": "code",
      "execution_count": null,
      "metadata": {
        "id": "Nckz6ZFTR3I_"
      },
      "outputs": [],
      "source": [
        "from sklearn.impute import KNNImputer\n",
        "knn = KNNImputer(n_neighbors=3, add_indicator=False)"
      ]
    },
    {
      "cell_type": "code",
      "execution_count": null,
      "metadata": {
        "id": "KIAgMPNZpsyB"
      },
      "outputs": [],
      "source": [
        "df2=knn.fit_transform(df1)"
      ]
    },
    {
      "cell_type": "code",
      "execution_count": null,
      "metadata": {
        "id": "tanii59GuEID"
      },
      "outputs": [],
      "source": [
        "df_1st=pd.DataFrame(df2,columns = df_output.columns)"
      ]
    },
    {
      "cell_type": "code",
      "source": [
        "df_1st.columns"
      ],
      "metadata": {
        "colab": {
          "base_uri": "https://localhost:8080/"
        },
        "id": "_3n2woBPZBwh",
        "outputId": "46cb370e-c583-47a3-ae79-7452f7c2d370"
      },
      "execution_count": null,
      "outputs": [
        {
          "output_type": "execute_result",
          "data": {
            "text/plain": [
              "Index(['Unnamed: 0', 'Unnamed: 0.1', 'Hour', 'HR', 'O2Sat', 'Temp', 'SBP',\n",
              "       'MAP', 'DBP', 'Resp', 'BaseExcess', 'HCO3', 'FiO2', 'pH', 'PaCO2',\n",
              "       'SaO2', 'AST', 'BUN', 'Alkalinephos', 'Calcium', 'Chloride',\n",
              "       'Creatinine', 'Glucose', 'Lactate', 'Magnesium', 'Phosphate',\n",
              "       'Potassium', 'Bilirubin_total', 'Hct', 'Hgb', 'PTT', 'WBC', 'Platelets',\n",
              "       'Age', 'Gender', 'HospAdmTime', 'ICULOS', 'SepsisLabel', 'Patient_ID'],\n",
              "      dtype='object')"
            ]
          },
          "metadata": {},
          "execution_count": 17
        }
      ]
    },
    {
      "cell_type": "code",
      "execution_count": null,
      "metadata": {
        "colab": {
          "base_uri": "https://localhost:8080/"
        },
        "id": "CxAbFncDSHAx",
        "outputId": "0f6edefa-4017-4fff-efbc-7c000e856bfc"
      },
      "outputs": [
        {
          "output_type": "execute_result",
          "data": {
            "text/plain": [
              "(40103, 39)"
            ]
          },
          "metadata": {},
          "execution_count": 12
        }
      ],
      "source": [
        "df_1st.shape"
      ]
    },
    {
      "cell_type": "code",
      "source": [
        "df_1st.columns"
      ],
      "metadata": {
        "id": "2YYrA4k3rW27",
        "outputId": "7d29d441-e8ef-4684-e981-b4d6e89c8529",
        "colab": {
          "base_uri": "https://localhost:8080/"
        }
      },
      "execution_count": null,
      "outputs": [
        {
          "output_type": "execute_result",
          "data": {
            "text/plain": [
              "Index(['Unnamed: 0', 'Unnamed: 0.1', 'Hour', 'HR', 'O2Sat', 'Temp', 'SBP',\n",
              "       'MAP', 'DBP', 'Resp', 'BaseExcess', 'HCO3', 'FiO2', 'pH', 'PaCO2',\n",
              "       'SaO2', 'AST', 'BUN', 'Alkalinephos', 'Calcium', 'Chloride',\n",
              "       'Creatinine', 'Glucose', 'Lactate', 'Magnesium', 'Phosphate',\n",
              "       'Potassium', 'Bilirubin_total', 'Hct', 'Hgb', 'PTT', 'WBC', 'Platelets',\n",
              "       'Age', 'Gender', 'HospAdmTime', 'ICULOS', 'SepsisLabel', 'Patient_ID'],\n",
              "      dtype='object')"
            ]
          },
          "metadata": {},
          "execution_count": 19
        }
      ]
    },
    {
      "cell_type": "code",
      "execution_count": null,
      "metadata": {
        "colab": {
          "base_uri": "https://localhost:8080/",
          "height": 256
        },
        "id": "QL2CMJ9KtiRu",
        "outputId": "83bfaec4-cf95-479b-d425-12d21bf45322"
      },
      "outputs": [
        {
          "output_type": "execute_result",
          "data": {
            "text/html": [
              "\n",
              "  <div id=\"df-566aef97-7664-40a9-8224-d47f11d7bcd0\">\n",
              "    <div class=\"colab-df-container\">\n",
              "      <div>\n",
              "<style scoped>\n",
              "    .dataframe tbody tr th:only-of-type {\n",
              "        vertical-align: middle;\n",
              "    }\n",
              "\n",
              "    .dataframe tbody tr th {\n",
              "        vertical-align: top;\n",
              "    }\n",
              "\n",
              "    .dataframe thead th {\n",
              "        text-align: right;\n",
              "    }\n",
              "</style>\n",
              "<table border=\"1\" class=\"dataframe\">\n",
              "  <thead>\n",
              "    <tr style=\"text-align: right;\">\n",
              "      <th></th>\n",
              "      <th>Unnamed: 0</th>\n",
              "      <th>Unnamed: 0.1</th>\n",
              "      <th>Hour</th>\n",
              "      <th>HR</th>\n",
              "      <th>O2Sat</th>\n",
              "      <th>Temp</th>\n",
              "      <th>SBP</th>\n",
              "      <th>MAP</th>\n",
              "      <th>DBP</th>\n",
              "      <th>Resp</th>\n",
              "      <th>BaseExcess</th>\n",
              "      <th>HCO3</th>\n",
              "      <th>FiO2</th>\n",
              "      <th>pH</th>\n",
              "      <th>PaCO2</th>\n",
              "      <th>SaO2</th>\n",
              "      <th>AST</th>\n",
              "      <th>BUN</th>\n",
              "      <th>Alkalinephos</th>\n",
              "      <th>Calcium</th>\n",
              "      <th>Chloride</th>\n",
              "      <th>Creatinine</th>\n",
              "      <th>Glucose</th>\n",
              "      <th>Lactate</th>\n",
              "      <th>Magnesium</th>\n",
              "      <th>Phosphate</th>\n",
              "      <th>Potassium</th>\n",
              "      <th>Bilirubin_total</th>\n",
              "      <th>Hct</th>\n",
              "      <th>Hgb</th>\n",
              "      <th>PTT</th>\n",
              "      <th>WBC</th>\n",
              "      <th>Platelets</th>\n",
              "      <th>Age</th>\n",
              "      <th>Gender</th>\n",
              "      <th>HospAdmTime</th>\n",
              "      <th>ICULOS</th>\n",
              "      <th>SepsisLabel</th>\n",
              "      <th>Patient_ID</th>\n",
              "    </tr>\n",
              "  </thead>\n",
              "  <tbody>\n",
              "    <tr>\n",
              "      <th>0</th>\n",
              "      <td>235</td>\n",
              "      <td>0</td>\n",
              "      <td>0</td>\n",
              "      <td>77.0</td>\n",
              "      <td>100.0</td>\n",
              "      <td>NaN</td>\n",
              "      <td>97.0</td>\n",
              "      <td>26.5</td>\n",
              "      <td>68.0</td>\n",
              "      <td>21.00</td>\n",
              "      <td>-3.0</td>\n",
              "      <td>22.000000</td>\n",
              "      <td>1.0</td>\n",
              "      <td>7.29</td>\n",
              "      <td>48.0</td>\n",
              "      <td>96.0</td>\n",
              "      <td>92.0</td>\n",
              "      <td>33.000000</td>\n",
              "      <td>60.0</td>\n",
              "      <td>8.300000</td>\n",
              "      <td>107.000000</td>\n",
              "      <td>0.900</td>\n",
              "      <td>158.0</td>\n",
              "      <td>1.7</td>\n",
              "      <td>2.000000</td>\n",
              "      <td>3.700000</td>\n",
              "      <td>4.8</td>\n",
              "      <td>0.9</td>\n",
              "      <td>42.200000</td>\n",
              "      <td>15.600000</td>\n",
              "      <td>27.2</td>\n",
              "      <td>17.700000</td>\n",
              "      <td>158.000000</td>\n",
              "      <td>59.28</td>\n",
              "      <td>1</td>\n",
              "      <td>-0.02</td>\n",
              "      <td>3</td>\n",
              "      <td>0</td>\n",
              "      <td>11093</td>\n",
              "    </tr>\n",
              "    <tr>\n",
              "      <th>1</th>\n",
              "      <td>236</td>\n",
              "      <td>1</td>\n",
              "      <td>1</td>\n",
              "      <td>71.5</td>\n",
              "      <td>97.5</td>\n",
              "      <td>NaN</td>\n",
              "      <td>97.0</td>\n",
              "      <td>83.5</td>\n",
              "      <td>68.0</td>\n",
              "      <td>16.50</td>\n",
              "      <td>-3.0</td>\n",
              "      <td>22.000000</td>\n",
              "      <td>1.0</td>\n",
              "      <td>7.29</td>\n",
              "      <td>48.0</td>\n",
              "      <td>96.0</td>\n",
              "      <td>92.0</td>\n",
              "      <td>33.000000</td>\n",
              "      <td>60.0</td>\n",
              "      <td>8.300000</td>\n",
              "      <td>107.000000</td>\n",
              "      <td>0.900</td>\n",
              "      <td>158.0</td>\n",
              "      <td>1.7</td>\n",
              "      <td>2.000000</td>\n",
              "      <td>3.700000</td>\n",
              "      <td>4.8</td>\n",
              "      <td>0.9</td>\n",
              "      <td>42.200000</td>\n",
              "      <td>15.600000</td>\n",
              "      <td>27.2</td>\n",
              "      <td>17.700000</td>\n",
              "      <td>158.000000</td>\n",
              "      <td>59.28</td>\n",
              "      <td>1</td>\n",
              "      <td>-0.02</td>\n",
              "      <td>4</td>\n",
              "      <td>0</td>\n",
              "      <td>11093</td>\n",
              "    </tr>\n",
              "    <tr>\n",
              "      <th>2</th>\n",
              "      <td>237</td>\n",
              "      <td>2</td>\n",
              "      <td>2</td>\n",
              "      <td>79.0</td>\n",
              "      <td>100.0</td>\n",
              "      <td>NaN</td>\n",
              "      <td>106.0</td>\n",
              "      <td>87.0</td>\n",
              "      <td>72.0</td>\n",
              "      <td>20.75</td>\n",
              "      <td>-3.0</td>\n",
              "      <td>22.000000</td>\n",
              "      <td>1.0</td>\n",
              "      <td>7.29</td>\n",
              "      <td>48.0</td>\n",
              "      <td>96.0</td>\n",
              "      <td>92.0</td>\n",
              "      <td>33.000000</td>\n",
              "      <td>60.0</td>\n",
              "      <td>8.283333</td>\n",
              "      <td>107.000000</td>\n",
              "      <td>0.875</td>\n",
              "      <td>172.0</td>\n",
              "      <td>1.7</td>\n",
              "      <td>2.000000</td>\n",
              "      <td>3.694444</td>\n",
              "      <td>4.8</td>\n",
              "      <td>0.9</td>\n",
              "      <td>42.200000</td>\n",
              "      <td>15.600000</td>\n",
              "      <td>27.2</td>\n",
              "      <td>17.700000</td>\n",
              "      <td>156.888889</td>\n",
              "      <td>59.28</td>\n",
              "      <td>1</td>\n",
              "      <td>-0.02</td>\n",
              "      <td>5</td>\n",
              "      <td>0</td>\n",
              "      <td>11093</td>\n",
              "    </tr>\n",
              "    <tr>\n",
              "      <th>3</th>\n",
              "      <td>238</td>\n",
              "      <td>3</td>\n",
              "      <td>3</td>\n",
              "      <td>61.0</td>\n",
              "      <td>100.0</td>\n",
              "      <td>NaN</td>\n",
              "      <td>151.0</td>\n",
              "      <td>95.0</td>\n",
              "      <td>90.0</td>\n",
              "      <td>16.00</td>\n",
              "      <td>-3.0</td>\n",
              "      <td>22.142857</td>\n",
              "      <td>0.6</td>\n",
              "      <td>7.29</td>\n",
              "      <td>36.5</td>\n",
              "      <td>96.0</td>\n",
              "      <td>92.0</td>\n",
              "      <td>32.428571</td>\n",
              "      <td>60.0</td>\n",
              "      <td>8.266667</td>\n",
              "      <td>106.714286</td>\n",
              "      <td>0.850</td>\n",
              "      <td>186.0</td>\n",
              "      <td>1.7</td>\n",
              "      <td>1.985714</td>\n",
              "      <td>3.688889</td>\n",
              "      <td>4.6</td>\n",
              "      <td>0.9</td>\n",
              "      <td>42.047059</td>\n",
              "      <td>15.541176</td>\n",
              "      <td>27.2</td>\n",
              "      <td>17.423529</td>\n",
              "      <td>155.777778</td>\n",
              "      <td>59.28</td>\n",
              "      <td>1</td>\n",
              "      <td>-0.02</td>\n",
              "      <td>6</td>\n",
              "      <td>0</td>\n",
              "      <td>11093</td>\n",
              "    </tr>\n",
              "  </tbody>\n",
              "</table>\n",
              "</div>\n",
              "      <button class=\"colab-df-convert\" onclick=\"convertToInteractive('df-566aef97-7664-40a9-8224-d47f11d7bcd0')\"\n",
              "              title=\"Convert this dataframe to an interactive table.\"\n",
              "              style=\"display:none;\">\n",
              "        \n",
              "  <svg xmlns=\"http://www.w3.org/2000/svg\" height=\"24px\"viewBox=\"0 0 24 24\"\n",
              "       width=\"24px\">\n",
              "    <path d=\"M0 0h24v24H0V0z\" fill=\"none\"/>\n",
              "    <path d=\"M18.56 5.44l.94 2.06.94-2.06 2.06-.94-2.06-.94-.94-2.06-.94 2.06-2.06.94zm-11 1L8.5 8.5l.94-2.06 2.06-.94-2.06-.94L8.5 2.5l-.94 2.06-2.06.94zm10 10l.94 2.06.94-2.06 2.06-.94-2.06-.94-.94-2.06-.94 2.06-2.06.94z\"/><path d=\"M17.41 7.96l-1.37-1.37c-.4-.4-.92-.59-1.43-.59-.52 0-1.04.2-1.43.59L10.3 9.45l-7.72 7.72c-.78.78-.78 2.05 0 2.83L4 21.41c.39.39.9.59 1.41.59.51 0 1.02-.2 1.41-.59l7.78-7.78 2.81-2.81c.8-.78.8-2.07 0-2.86zM5.41 20L4 18.59l7.72-7.72 1.47 1.35L5.41 20z\"/>\n",
              "  </svg>\n",
              "      </button>\n",
              "      \n",
              "  <style>\n",
              "    .colab-df-container {\n",
              "      display:flex;\n",
              "      flex-wrap:wrap;\n",
              "      gap: 12px;\n",
              "    }\n",
              "\n",
              "    .colab-df-convert {\n",
              "      background-color: #E8F0FE;\n",
              "      border: none;\n",
              "      border-radius: 50%;\n",
              "      cursor: pointer;\n",
              "      display: none;\n",
              "      fill: #1967D2;\n",
              "      height: 32px;\n",
              "      padding: 0 0 0 0;\n",
              "      width: 32px;\n",
              "    }\n",
              "\n",
              "    .colab-df-convert:hover {\n",
              "      background-color: #E2EBFA;\n",
              "      box-shadow: 0px 1px 2px rgba(60, 64, 67, 0.3), 0px 1px 3px 1px rgba(60, 64, 67, 0.15);\n",
              "      fill: #174EA6;\n",
              "    }\n",
              "\n",
              "    [theme=dark] .colab-df-convert {\n",
              "      background-color: #3B4455;\n",
              "      fill: #D2E3FC;\n",
              "    }\n",
              "\n",
              "    [theme=dark] .colab-df-convert:hover {\n",
              "      background-color: #434B5C;\n",
              "      box-shadow: 0px 1px 3px 1px rgba(0, 0, 0, 0.15);\n",
              "      filter: drop-shadow(0px 1px 2px rgba(0, 0, 0, 0.3));\n",
              "      fill: #FFFFFF;\n",
              "    }\n",
              "  </style>\n",
              "\n",
              "      <script>\n",
              "        const buttonEl =\n",
              "          document.querySelector('#df-566aef97-7664-40a9-8224-d47f11d7bcd0 button.colab-df-convert');\n",
              "        buttonEl.style.display =\n",
              "          google.colab.kernel.accessAllowed ? 'block' : 'none';\n",
              "\n",
              "        async function convertToInteractive(key) {\n",
              "          const element = document.querySelector('#df-566aef97-7664-40a9-8224-d47f11d7bcd0');\n",
              "          const dataTable =\n",
              "            await google.colab.kernel.invokeFunction('convertToInteractive',\n",
              "                                                     [key], {});\n",
              "          if (!dataTable) return;\n",
              "\n",
              "          const docLinkHtml = 'Like what you see? Visit the ' +\n",
              "            '<a target=\"_blank\" href=https://colab.research.google.com/notebooks/data_table.ipynb>data table notebook</a>'\n",
              "            + ' to learn more about interactive tables.';\n",
              "          element.innerHTML = '';\n",
              "          dataTable['output_type'] = 'display_data';\n",
              "          await google.colab.output.renderOutput(dataTable, element);\n",
              "          const docLink = document.createElement('div');\n",
              "          docLink.innerHTML = docLinkHtml;\n",
              "          element.appendChild(docLink);\n",
              "        }\n",
              "      </script>\n",
              "    </div>\n",
              "  </div>\n",
              "  "
            ],
            "text/plain": [
              "   Unnamed: 0  Unnamed: 0.1  Hour  ...  ICULOS  SepsisLabel  Patient_ID\n",
              "0         235             0     0  ...       3            0       11093\n",
              "1         236             1     1  ...       4            0       11093\n",
              "2         237             2     2  ...       5            0       11093\n",
              "3         238             3     3  ...       6            0       11093\n",
              "\n",
              "[4 rows x 39 columns]"
            ]
          },
          "metadata": {},
          "execution_count": 20
        }
      ],
      "source": [
        "df1.head(4)"
      ]
    },
    {
      "cell_type": "code",
      "execution_count": null,
      "metadata": {
        "id": "o5sTkNx9pM2z"
      },
      "outputs": [],
      "source": [
        "df4=df_output[40103:80008]"
      ]
    },
    {
      "cell_type": "code",
      "execution_count": null,
      "metadata": {
        "id": "q_SN-uqOtKJq"
      },
      "outputs": [],
      "source": [
        "df5=knn.fit_transform(df4)\n"
      ]
    },
    {
      "cell_type": "code",
      "source": [
        "df_2nd=pd.DataFrame(df5,columns = df.columns)"
      ],
      "metadata": {
        "id": "KAvI9Y1-xjdl"
      },
      "execution_count": null,
      "outputs": []
    },
    {
      "cell_type": "code",
      "source": [
        "df_2nd"
      ],
      "metadata": {
        "colab": {
          "base_uri": "https://localhost:8080/",
          "height": 505
        },
        "id": "EYu_RCvnxnbw",
        "outputId": "ad3105ca-67c7-460a-8e08-9fcf14bc8151"
      },
      "execution_count": null,
      "outputs": [
        {
          "output_type": "execute_result",
          "data": {
            "text/html": [
              "\n",
              "  <div id=\"df-2e24b249-6302-40fa-9322-31cd99b9ca5d\">\n",
              "    <div class=\"colab-df-container\">\n",
              "      <div>\n",
              "<style scoped>\n",
              "    .dataframe tbody tr th:only-of-type {\n",
              "        vertical-align: middle;\n",
              "    }\n",
              "\n",
              "    .dataframe tbody tr th {\n",
              "        vertical-align: top;\n",
              "    }\n",
              "\n",
              "    .dataframe thead th {\n",
              "        text-align: right;\n",
              "    }\n",
              "</style>\n",
              "<table border=\"1\" class=\"dataframe\">\n",
              "  <thead>\n",
              "    <tr style=\"text-align: right;\">\n",
              "      <th></th>\n",
              "      <th>Unnamed: 0</th>\n",
              "      <th>Unnamed: 0.1</th>\n",
              "      <th>Hour</th>\n",
              "      <th>HR</th>\n",
              "      <th>O2Sat</th>\n",
              "      <th>Temp</th>\n",
              "      <th>SBP</th>\n",
              "      <th>MAP</th>\n",
              "      <th>DBP</th>\n",
              "      <th>Resp</th>\n",
              "      <th>BaseExcess</th>\n",
              "      <th>HCO3</th>\n",
              "      <th>FiO2</th>\n",
              "      <th>pH</th>\n",
              "      <th>PaCO2</th>\n",
              "      <th>SaO2</th>\n",
              "      <th>AST</th>\n",
              "      <th>BUN</th>\n",
              "      <th>Alkalinephos</th>\n",
              "      <th>Calcium</th>\n",
              "      <th>Chloride</th>\n",
              "      <th>Creatinine</th>\n",
              "      <th>Glucose</th>\n",
              "      <th>Lactate</th>\n",
              "      <th>Magnesium</th>\n",
              "      <th>Phosphate</th>\n",
              "      <th>Potassium</th>\n",
              "      <th>Bilirubin_total</th>\n",
              "      <th>Hct</th>\n",
              "      <th>Hgb</th>\n",
              "      <th>PTT</th>\n",
              "      <th>WBC</th>\n",
              "      <th>Platelets</th>\n",
              "      <th>Age</th>\n",
              "      <th>Gender</th>\n",
              "      <th>HospAdmTime</th>\n",
              "      <th>ICULOS</th>\n",
              "      <th>SepsisLabel</th>\n",
              "      <th>Patient_ID</th>\n",
              "    </tr>\n",
              "  </thead>\n",
              "  <tbody>\n",
              "    <tr>\n",
              "      <th>0</th>\n",
              "      <td>307242.0</td>\n",
              "      <td>147.0</td>\n",
              "      <td>147.0</td>\n",
              "      <td>89.0</td>\n",
              "      <td>99.0</td>\n",
              "      <td>38.670</td>\n",
              "      <td>190.00</td>\n",
              "      <td>111.00</td>\n",
              "      <td>78.0</td>\n",
              "      <td>22.0</td>\n",
              "      <td>2.000000</td>\n",
              "      <td>29.000000</td>\n",
              "      <td>0.4</td>\n",
              "      <td>7.450000</td>\n",
              "      <td>39.0</td>\n",
              "      <td>98.0</td>\n",
              "      <td>36.0</td>\n",
              "      <td>33.000000</td>\n",
              "      <td>42.0</td>\n",
              "      <td>8.600000</td>\n",
              "      <td>112.0</td>\n",
              "      <td>0.8</td>\n",
              "      <td>138.000000</td>\n",
              "      <td>0.9</td>\n",
              "      <td>2.30</td>\n",
              "      <td>3.700000</td>\n",
              "      <td>3.500000</td>\n",
              "      <td>1.2</td>\n",
              "      <td>38.90</td>\n",
              "      <td>13.60</td>\n",
              "      <td>29.7</td>\n",
              "      <td>6.00</td>\n",
              "      <td>125.0</td>\n",
              "      <td>56.99</td>\n",
              "      <td>1.0</td>\n",
              "      <td>-0.02</td>\n",
              "      <td>149.0</td>\n",
              "      <td>1.0</td>\n",
              "      <td>373.0</td>\n",
              "    </tr>\n",
              "    <tr>\n",
              "      <th>1</th>\n",
              "      <td>307391.0</td>\n",
              "      <td>0.0</td>\n",
              "      <td>0.0</td>\n",
              "      <td>77.0</td>\n",
              "      <td>97.0</td>\n",
              "      <td>37.280</td>\n",
              "      <td>88.00</td>\n",
              "      <td>63.00</td>\n",
              "      <td>53.0</td>\n",
              "      <td>13.0</td>\n",
              "      <td>-6.444444</td>\n",
              "      <td>21.000000</td>\n",
              "      <td>0.5</td>\n",
              "      <td>7.323333</td>\n",
              "      <td>34.0</td>\n",
              "      <td>93.0</td>\n",
              "      <td>8.0</td>\n",
              "      <td>69.000000</td>\n",
              "      <td>416.0</td>\n",
              "      <td>8.700000</td>\n",
              "      <td>102.0</td>\n",
              "      <td>1.3</td>\n",
              "      <td>119.000000</td>\n",
              "      <td>1.2</td>\n",
              "      <td>2.20</td>\n",
              "      <td>3.100000</td>\n",
              "      <td>4.900000</td>\n",
              "      <td>1.2</td>\n",
              "      <td>29.90</td>\n",
              "      <td>10.40</td>\n",
              "      <td>26.0</td>\n",
              "      <td>10.40</td>\n",
              "      <td>223.0</td>\n",
              "      <td>74.18</td>\n",
              "      <td>1.0</td>\n",
              "      <td>-0.03</td>\n",
              "      <td>1.0</td>\n",
              "      <td>0.0</td>\n",
              "      <td>5554.0</td>\n",
              "    </tr>\n",
              "    <tr>\n",
              "      <th>2</th>\n",
              "      <td>307392.0</td>\n",
              "      <td>1.0</td>\n",
              "      <td>1.0</td>\n",
              "      <td>77.0</td>\n",
              "      <td>97.0</td>\n",
              "      <td>37.280</td>\n",
              "      <td>88.00</td>\n",
              "      <td>63.00</td>\n",
              "      <td>53.0</td>\n",
              "      <td>13.0</td>\n",
              "      <td>-6.444444</td>\n",
              "      <td>21.000000</td>\n",
              "      <td>0.5</td>\n",
              "      <td>7.323333</td>\n",
              "      <td>34.0</td>\n",
              "      <td>93.0</td>\n",
              "      <td>8.0</td>\n",
              "      <td>69.000000</td>\n",
              "      <td>416.0</td>\n",
              "      <td>8.700000</td>\n",
              "      <td>102.0</td>\n",
              "      <td>1.3</td>\n",
              "      <td>119.000000</td>\n",
              "      <td>1.2</td>\n",
              "      <td>2.20</td>\n",
              "      <td>3.100000</td>\n",
              "      <td>4.900000</td>\n",
              "      <td>1.2</td>\n",
              "      <td>29.90</td>\n",
              "      <td>10.40</td>\n",
              "      <td>26.0</td>\n",
              "      <td>10.40</td>\n",
              "      <td>223.0</td>\n",
              "      <td>74.18</td>\n",
              "      <td>1.0</td>\n",
              "      <td>-0.03</td>\n",
              "      <td>2.0</td>\n",
              "      <td>0.0</td>\n",
              "      <td>5554.0</td>\n",
              "    </tr>\n",
              "    <tr>\n",
              "      <th>3</th>\n",
              "      <td>307393.0</td>\n",
              "      <td>2.0</td>\n",
              "      <td>2.0</td>\n",
              "      <td>78.0</td>\n",
              "      <td>95.0</td>\n",
              "      <td>37.280</td>\n",
              "      <td>90.00</td>\n",
              "      <td>60.00</td>\n",
              "      <td>53.0</td>\n",
              "      <td>20.0</td>\n",
              "      <td>-6.444444</td>\n",
              "      <td>21.200000</td>\n",
              "      <td>0.5</td>\n",
              "      <td>7.323333</td>\n",
              "      <td>34.0</td>\n",
              "      <td>93.0</td>\n",
              "      <td>8.0</td>\n",
              "      <td>68.200000</td>\n",
              "      <td>416.0</td>\n",
              "      <td>8.700000</td>\n",
              "      <td>102.4</td>\n",
              "      <td>1.3</td>\n",
              "      <td>119.000000</td>\n",
              "      <td>1.2</td>\n",
              "      <td>2.21</td>\n",
              "      <td>3.100000</td>\n",
              "      <td>4.890000</td>\n",
              "      <td>1.2</td>\n",
              "      <td>29.73</td>\n",
              "      <td>10.35</td>\n",
              "      <td>26.0</td>\n",
              "      <td>10.27</td>\n",
              "      <td>223.0</td>\n",
              "      <td>74.18</td>\n",
              "      <td>1.0</td>\n",
              "      <td>-0.03</td>\n",
              "      <td>3.0</td>\n",
              "      <td>0.0</td>\n",
              "      <td>5554.0</td>\n",
              "    </tr>\n",
              "    <tr>\n",
              "      <th>4</th>\n",
              "      <td>307394.0</td>\n",
              "      <td>3.0</td>\n",
              "      <td>3.0</td>\n",
              "      <td>77.5</td>\n",
              "      <td>96.0</td>\n",
              "      <td>37.140</td>\n",
              "      <td>88.00</td>\n",
              "      <td>60.00</td>\n",
              "      <td>53.0</td>\n",
              "      <td>20.0</td>\n",
              "      <td>-6.444444</td>\n",
              "      <td>21.400000</td>\n",
              "      <td>0.5</td>\n",
              "      <td>7.323333</td>\n",
              "      <td>34.0</td>\n",
              "      <td>93.0</td>\n",
              "      <td>8.0</td>\n",
              "      <td>67.400000</td>\n",
              "      <td>416.0</td>\n",
              "      <td>8.700000</td>\n",
              "      <td>102.8</td>\n",
              "      <td>1.3</td>\n",
              "      <td>119.000000</td>\n",
              "      <td>1.2</td>\n",
              "      <td>2.22</td>\n",
              "      <td>3.100000</td>\n",
              "      <td>4.880000</td>\n",
              "      <td>1.2</td>\n",
              "      <td>29.56</td>\n",
              "      <td>10.30</td>\n",
              "      <td>26.0</td>\n",
              "      <td>10.14</td>\n",
              "      <td>223.0</td>\n",
              "      <td>74.18</td>\n",
              "      <td>1.0</td>\n",
              "      <td>-0.03</td>\n",
              "      <td>4.0</td>\n",
              "      <td>0.0</td>\n",
              "      <td>5554.0</td>\n",
              "    </tr>\n",
              "    <tr>\n",
              "      <th>...</th>\n",
              "      <td>...</td>\n",
              "      <td>...</td>\n",
              "      <td>...</td>\n",
              "      <td>...</td>\n",
              "      <td>...</td>\n",
              "      <td>...</td>\n",
              "      <td>...</td>\n",
              "      <td>...</td>\n",
              "      <td>...</td>\n",
              "      <td>...</td>\n",
              "      <td>...</td>\n",
              "      <td>...</td>\n",
              "      <td>...</td>\n",
              "      <td>...</td>\n",
              "      <td>...</td>\n",
              "      <td>...</td>\n",
              "      <td>...</td>\n",
              "      <td>...</td>\n",
              "      <td>...</td>\n",
              "      <td>...</td>\n",
              "      <td>...</td>\n",
              "      <td>...</td>\n",
              "      <td>...</td>\n",
              "      <td>...</td>\n",
              "      <td>...</td>\n",
              "      <td>...</td>\n",
              "      <td>...</td>\n",
              "      <td>...</td>\n",
              "      <td>...</td>\n",
              "      <td>...</td>\n",
              "      <td>...</td>\n",
              "      <td>...</td>\n",
              "      <td>...</td>\n",
              "      <td>...</td>\n",
              "      <td>...</td>\n",
              "      <td>...</td>\n",
              "      <td>...</td>\n",
              "      <td>...</td>\n",
              "      <td>...</td>\n",
              "    </tr>\n",
              "    <tr>\n",
              "      <th>39900</th>\n",
              "      <td>599929.0</td>\n",
              "      <td>113.0</td>\n",
              "      <td>113.0</td>\n",
              "      <td>62.0</td>\n",
              "      <td>96.0</td>\n",
              "      <td>36.915</td>\n",
              "      <td>130.00</td>\n",
              "      <td>79.00</td>\n",
              "      <td>51.0</td>\n",
              "      <td>18.0</td>\n",
              "      <td>-4.700000</td>\n",
              "      <td>19.230769</td>\n",
              "      <td>0.5</td>\n",
              "      <td>7.324000</td>\n",
              "      <td>39.3</td>\n",
              "      <td>73.0</td>\n",
              "      <td>16.0</td>\n",
              "      <td>59.461538</td>\n",
              "      <td>48.0</td>\n",
              "      <td>8.023077</td>\n",
              "      <td>109.0</td>\n",
              "      <td>5.3</td>\n",
              "      <td>68.461538</td>\n",
              "      <td>0.7</td>\n",
              "      <td>2.20</td>\n",
              "      <td>6.830769</td>\n",
              "      <td>4.469231</td>\n",
              "      <td>0.3</td>\n",
              "      <td>29.70</td>\n",
              "      <td>10.50</td>\n",
              "      <td>33.3</td>\n",
              "      <td>6.60</td>\n",
              "      <td>147.0</td>\n",
              "      <td>71.31</td>\n",
              "      <td>1.0</td>\n",
              "      <td>-49.71</td>\n",
              "      <td>114.0</td>\n",
              "      <td>1.0</td>\n",
              "      <td>4847.0</td>\n",
              "    </tr>\n",
              "    <tr>\n",
              "      <th>39901</th>\n",
              "      <td>599930.0</td>\n",
              "      <td>114.0</td>\n",
              "      <td>114.0</td>\n",
              "      <td>61.0</td>\n",
              "      <td>97.0</td>\n",
              "      <td>37.000</td>\n",
              "      <td>154.00</td>\n",
              "      <td>94.00</td>\n",
              "      <td>60.0</td>\n",
              "      <td>18.0</td>\n",
              "      <td>-4.800000</td>\n",
              "      <td>19.384615</td>\n",
              "      <td>0.5</td>\n",
              "      <td>7.316000</td>\n",
              "      <td>40.2</td>\n",
              "      <td>73.0</td>\n",
              "      <td>16.0</td>\n",
              "      <td>59.769231</td>\n",
              "      <td>48.0</td>\n",
              "      <td>8.038462</td>\n",
              "      <td>109.0</td>\n",
              "      <td>5.3</td>\n",
              "      <td>68.769231</td>\n",
              "      <td>0.7</td>\n",
              "      <td>2.20</td>\n",
              "      <td>6.884615</td>\n",
              "      <td>4.515385</td>\n",
              "      <td>0.3</td>\n",
              "      <td>29.70</td>\n",
              "      <td>10.50</td>\n",
              "      <td>33.3</td>\n",
              "      <td>6.60</td>\n",
              "      <td>147.0</td>\n",
              "      <td>71.31</td>\n",
              "      <td>1.0</td>\n",
              "      <td>-49.71</td>\n",
              "      <td>115.0</td>\n",
              "      <td>1.0</td>\n",
              "      <td>4847.0</td>\n",
              "    </tr>\n",
              "    <tr>\n",
              "      <th>39902</th>\n",
              "      <td>599931.0</td>\n",
              "      <td>115.0</td>\n",
              "      <td>115.0</td>\n",
              "      <td>68.5</td>\n",
              "      <td>97.0</td>\n",
              "      <td>37.085</td>\n",
              "      <td>194.25</td>\n",
              "      <td>123.17</td>\n",
              "      <td>79.5</td>\n",
              "      <td>18.0</td>\n",
              "      <td>-4.900000</td>\n",
              "      <td>19.538462</td>\n",
              "      <td>0.5</td>\n",
              "      <td>7.308000</td>\n",
              "      <td>41.1</td>\n",
              "      <td>73.0</td>\n",
              "      <td>16.0</td>\n",
              "      <td>60.076923</td>\n",
              "      <td>48.0</td>\n",
              "      <td>8.053846</td>\n",
              "      <td>109.0</td>\n",
              "      <td>5.3</td>\n",
              "      <td>69.076923</td>\n",
              "      <td>0.7</td>\n",
              "      <td>2.20</td>\n",
              "      <td>6.938462</td>\n",
              "      <td>4.561538</td>\n",
              "      <td>0.3</td>\n",
              "      <td>29.70</td>\n",
              "      <td>10.50</td>\n",
              "      <td>33.3</td>\n",
              "      <td>6.60</td>\n",
              "      <td>147.0</td>\n",
              "      <td>71.31</td>\n",
              "      <td>1.0</td>\n",
              "      <td>-49.71</td>\n",
              "      <td>116.0</td>\n",
              "      <td>1.0</td>\n",
              "      <td>4847.0</td>\n",
              "    </tr>\n",
              "    <tr>\n",
              "      <th>39903</th>\n",
              "      <td>599932.0</td>\n",
              "      <td>116.0</td>\n",
              "      <td>116.0</td>\n",
              "      <td>81.0</td>\n",
              "      <td>97.0</td>\n",
              "      <td>37.170</td>\n",
              "      <td>186.00</td>\n",
              "      <td>115.67</td>\n",
              "      <td>75.0</td>\n",
              "      <td>20.5</td>\n",
              "      <td>-5.000000</td>\n",
              "      <td>19.692308</td>\n",
              "      <td>0.5</td>\n",
              "      <td>7.300000</td>\n",
              "      <td>42.0</td>\n",
              "      <td>73.0</td>\n",
              "      <td>16.0</td>\n",
              "      <td>60.384615</td>\n",
              "      <td>48.0</td>\n",
              "      <td>8.069231</td>\n",
              "      <td>109.0</td>\n",
              "      <td>5.3</td>\n",
              "      <td>69.384615</td>\n",
              "      <td>0.7</td>\n",
              "      <td>2.20</td>\n",
              "      <td>6.992308</td>\n",
              "      <td>4.607692</td>\n",
              "      <td>0.3</td>\n",
              "      <td>29.70</td>\n",
              "      <td>10.50</td>\n",
              "      <td>33.3</td>\n",
              "      <td>6.60</td>\n",
              "      <td>147.0</td>\n",
              "      <td>71.31</td>\n",
              "      <td>1.0</td>\n",
              "      <td>-49.71</td>\n",
              "      <td>117.0</td>\n",
              "      <td>1.0</td>\n",
              "      <td>4847.0</td>\n",
              "    </tr>\n",
              "    <tr>\n",
              "      <th>39904</th>\n",
              "      <td>599933.0</td>\n",
              "      <td>117.0</td>\n",
              "      <td>117.0</td>\n",
              "      <td>82.0</td>\n",
              "      <td>95.0</td>\n",
              "      <td>37.170</td>\n",
              "      <td>119.75</td>\n",
              "      <td>71.00</td>\n",
              "      <td>50.0</td>\n",
              "      <td>12.0</td>\n",
              "      <td>-5.000000</td>\n",
              "      <td>19.846154</td>\n",
              "      <td>0.5</td>\n",
              "      <td>7.300000</td>\n",
              "      <td>42.0</td>\n",
              "      <td>73.0</td>\n",
              "      <td>16.0</td>\n",
              "      <td>60.692308</td>\n",
              "      <td>48.0</td>\n",
              "      <td>8.084615</td>\n",
              "      <td>109.0</td>\n",
              "      <td>5.3</td>\n",
              "      <td>69.692308</td>\n",
              "      <td>0.7</td>\n",
              "      <td>2.20</td>\n",
              "      <td>7.046154</td>\n",
              "      <td>4.653846</td>\n",
              "      <td>0.3</td>\n",
              "      <td>29.70</td>\n",
              "      <td>10.50</td>\n",
              "      <td>33.3</td>\n",
              "      <td>6.60</td>\n",
              "      <td>147.0</td>\n",
              "      <td>71.31</td>\n",
              "      <td>1.0</td>\n",
              "      <td>-49.71</td>\n",
              "      <td>118.0</td>\n",
              "      <td>1.0</td>\n",
              "      <td>4847.0</td>\n",
              "    </tr>\n",
              "  </tbody>\n",
              "</table>\n",
              "<p>39905 rows × 39 columns</p>\n",
              "</div>\n",
              "      <button class=\"colab-df-convert\" onclick=\"convertToInteractive('df-2e24b249-6302-40fa-9322-31cd99b9ca5d')\"\n",
              "              title=\"Convert this dataframe to an interactive table.\"\n",
              "              style=\"display:none;\">\n",
              "        \n",
              "  <svg xmlns=\"http://www.w3.org/2000/svg\" height=\"24px\"viewBox=\"0 0 24 24\"\n",
              "       width=\"24px\">\n",
              "    <path d=\"M0 0h24v24H0V0z\" fill=\"none\"/>\n",
              "    <path d=\"M18.56 5.44l.94 2.06.94-2.06 2.06-.94-2.06-.94-.94-2.06-.94 2.06-2.06.94zm-11 1L8.5 8.5l.94-2.06 2.06-.94-2.06-.94L8.5 2.5l-.94 2.06-2.06.94zm10 10l.94 2.06.94-2.06 2.06-.94-2.06-.94-.94-2.06-.94 2.06-2.06.94z\"/><path d=\"M17.41 7.96l-1.37-1.37c-.4-.4-.92-.59-1.43-.59-.52 0-1.04.2-1.43.59L10.3 9.45l-7.72 7.72c-.78.78-.78 2.05 0 2.83L4 21.41c.39.39.9.59 1.41.59.51 0 1.02-.2 1.41-.59l7.78-7.78 2.81-2.81c.8-.78.8-2.07 0-2.86zM5.41 20L4 18.59l7.72-7.72 1.47 1.35L5.41 20z\"/>\n",
              "  </svg>\n",
              "      </button>\n",
              "      \n",
              "  <style>\n",
              "    .colab-df-container {\n",
              "      display:flex;\n",
              "      flex-wrap:wrap;\n",
              "      gap: 12px;\n",
              "    }\n",
              "\n",
              "    .colab-df-convert {\n",
              "      background-color: #E8F0FE;\n",
              "      border: none;\n",
              "      border-radius: 50%;\n",
              "      cursor: pointer;\n",
              "      display: none;\n",
              "      fill: #1967D2;\n",
              "      height: 32px;\n",
              "      padding: 0 0 0 0;\n",
              "      width: 32px;\n",
              "    }\n",
              "\n",
              "    .colab-df-convert:hover {\n",
              "      background-color: #E2EBFA;\n",
              "      box-shadow: 0px 1px 2px rgba(60, 64, 67, 0.3), 0px 1px 3px 1px rgba(60, 64, 67, 0.15);\n",
              "      fill: #174EA6;\n",
              "    }\n",
              "\n",
              "    [theme=dark] .colab-df-convert {\n",
              "      background-color: #3B4455;\n",
              "      fill: #D2E3FC;\n",
              "    }\n",
              "\n",
              "    [theme=dark] .colab-df-convert:hover {\n",
              "      background-color: #434B5C;\n",
              "      box-shadow: 0px 1px 3px 1px rgba(0, 0, 0, 0.15);\n",
              "      filter: drop-shadow(0px 1px 2px rgba(0, 0, 0, 0.3));\n",
              "      fill: #FFFFFF;\n",
              "    }\n",
              "  </style>\n",
              "\n",
              "      <script>\n",
              "        const buttonEl =\n",
              "          document.querySelector('#df-2e24b249-6302-40fa-9322-31cd99b9ca5d button.colab-df-convert');\n",
              "        buttonEl.style.display =\n",
              "          google.colab.kernel.accessAllowed ? 'block' : 'none';\n",
              "\n",
              "        async function convertToInteractive(key) {\n",
              "          const element = document.querySelector('#df-2e24b249-6302-40fa-9322-31cd99b9ca5d');\n",
              "          const dataTable =\n",
              "            await google.colab.kernel.invokeFunction('convertToInteractive',\n",
              "                                                     [key], {});\n",
              "          if (!dataTable) return;\n",
              "\n",
              "          const docLinkHtml = 'Like what you see? Visit the ' +\n",
              "            '<a target=\"_blank\" href=https://colab.research.google.com/notebooks/data_table.ipynb>data table notebook</a>'\n",
              "            + ' to learn more about interactive tables.';\n",
              "          element.innerHTML = '';\n",
              "          dataTable['output_type'] = 'display_data';\n",
              "          await google.colab.output.renderOutput(dataTable, element);\n",
              "          const docLink = document.createElement('div');\n",
              "          docLink.innerHTML = docLinkHtml;\n",
              "          element.appendChild(docLink);\n",
              "        }\n",
              "      </script>\n",
              "    </div>\n",
              "  </div>\n",
              "  "
            ],
            "text/plain": [
              "       Unnamed: 0  Unnamed: 0.1   Hour  ...  ICULOS  SepsisLabel  Patient_ID\n",
              "0        307242.0         147.0  147.0  ...   149.0          1.0       373.0\n",
              "1        307391.0           0.0    0.0  ...     1.0          0.0      5554.0\n",
              "2        307392.0           1.0    1.0  ...     2.0          0.0      5554.0\n",
              "3        307393.0           2.0    2.0  ...     3.0          0.0      5554.0\n",
              "4        307394.0           3.0    3.0  ...     4.0          0.0      5554.0\n",
              "...           ...           ...    ...  ...     ...          ...         ...\n",
              "39900    599929.0         113.0  113.0  ...   114.0          1.0      4847.0\n",
              "39901    599930.0         114.0  114.0  ...   115.0          1.0      4847.0\n",
              "39902    599931.0         115.0  115.0  ...   116.0          1.0      4847.0\n",
              "39903    599932.0         116.0  116.0  ...   117.0          1.0      4847.0\n",
              "39904    599933.0         117.0  117.0  ...   118.0          1.0      4847.0\n",
              "\n",
              "[39905 rows x 39 columns]"
            ]
          },
          "metadata": {},
          "execution_count": 24
        }
      ]
    },
    {
      "cell_type": "code",
      "source": [
        "df6=df[80008:119928]"
      ],
      "metadata": {
        "id": "816eaBawxq6p"
      },
      "execution_count": null,
      "outputs": []
    },
    {
      "cell_type": "code",
      "source": [
        "df7=knn.fit_transform(df6)"
      ],
      "metadata": {
        "id": "kO4FKNTsxz2N"
      },
      "execution_count": null,
      "outputs": []
    },
    {
      "cell_type": "code",
      "source": [
        "df_3rd=pd.DataFrame(df7,columns = df.columns)"
      ],
      "metadata": {
        "id": "aurx6lmQzp3T"
      },
      "execution_count": null,
      "outputs": []
    },
    {
      "cell_type": "code",
      "source": [
        "df8=df[119928:172410]"
      ],
      "metadata": {
        "id": "-jakT342zxRC"
      },
      "execution_count": null,
      "outputs": []
    },
    {
      "cell_type": "code",
      "source": [
        "df9=knn.fit_transform(df8)"
      ],
      "metadata": {
        "id": "7J_7CmWg0N0B"
      },
      "execution_count": null,
      "outputs": []
    },
    {
      "cell_type": "code",
      "source": [
        "df_4th=pd.DataFrame(df9,columns = df.columns)"
      ],
      "metadata": {
        "id": "-rLzXQE90QfD"
      },
      "execution_count": null,
      "outputs": []
    },
    {
      "cell_type": "code",
      "source": [
        "df_Interpolate_KNN = pd.concat([df_1st, df_2nd,df_3rd,df_4th])"
      ],
      "metadata": {
        "id": "kBjzXmWF1W-7"
      },
      "execution_count": null,
      "outputs": []
    },
    {
      "cell_type": "code",
      "source": [
        "df_Interpolate_KNN"
      ],
      "metadata": {
        "colab": {
          "base_uri": "https://localhost:8080/",
          "height": 505
        },
        "id": "tSlWLQYm1fo6",
        "outputId": "695468ed-4fd2-4ea7-ab33-8eac2d6b973d"
      },
      "execution_count": null,
      "outputs": [
        {
          "output_type": "execute_result",
          "data": {
            "text/html": [
              "\n",
              "  <div id=\"df-f46ce5c1-1531-4ae0-9d9a-c745a895d7a7\">\n",
              "    <div class=\"colab-df-container\">\n",
              "      <div>\n",
              "<style scoped>\n",
              "    .dataframe tbody tr th:only-of-type {\n",
              "        vertical-align: middle;\n",
              "    }\n",
              "\n",
              "    .dataframe tbody tr th {\n",
              "        vertical-align: top;\n",
              "    }\n",
              "\n",
              "    .dataframe thead th {\n",
              "        text-align: right;\n",
              "    }\n",
              "</style>\n",
              "<table border=\"1\" class=\"dataframe\">\n",
              "  <thead>\n",
              "    <tr style=\"text-align: right;\">\n",
              "      <th></th>\n",
              "      <th>Unnamed: 0</th>\n",
              "      <th>Unnamed: 0.1</th>\n",
              "      <th>Hour</th>\n",
              "      <th>HR</th>\n",
              "      <th>O2Sat</th>\n",
              "      <th>Temp</th>\n",
              "      <th>SBP</th>\n",
              "      <th>MAP</th>\n",
              "      <th>DBP</th>\n",
              "      <th>Resp</th>\n",
              "      <th>BaseExcess</th>\n",
              "      <th>HCO3</th>\n",
              "      <th>FiO2</th>\n",
              "      <th>pH</th>\n",
              "      <th>PaCO2</th>\n",
              "      <th>SaO2</th>\n",
              "      <th>AST</th>\n",
              "      <th>BUN</th>\n",
              "      <th>Alkalinephos</th>\n",
              "      <th>Calcium</th>\n",
              "      <th>Chloride</th>\n",
              "      <th>Creatinine</th>\n",
              "      <th>Glucose</th>\n",
              "      <th>Lactate</th>\n",
              "      <th>Magnesium</th>\n",
              "      <th>Phosphate</th>\n",
              "      <th>Potassium</th>\n",
              "      <th>Bilirubin_total</th>\n",
              "      <th>Hct</th>\n",
              "      <th>Hgb</th>\n",
              "      <th>PTT</th>\n",
              "      <th>WBC</th>\n",
              "      <th>Platelets</th>\n",
              "      <th>Age</th>\n",
              "      <th>Gender</th>\n",
              "      <th>HospAdmTime</th>\n",
              "      <th>ICULOS</th>\n",
              "      <th>SepsisLabel</th>\n",
              "      <th>Patient_ID</th>\n",
              "    </tr>\n",
              "  </thead>\n",
              "  <tbody>\n",
              "    <tr>\n",
              "      <th>0</th>\n",
              "      <td>235.0</td>\n",
              "      <td>0.0</td>\n",
              "      <td>0.0</td>\n",
              "      <td>77.0</td>\n",
              "      <td>100.0</td>\n",
              "      <td>36.452222</td>\n",
              "      <td>97.0</td>\n",
              "      <td>26.5</td>\n",
              "      <td>68.0</td>\n",
              "      <td>21.000000</td>\n",
              "      <td>-3.000000</td>\n",
              "      <td>22.000000</td>\n",
              "      <td>1.000000</td>\n",
              "      <td>7.290000</td>\n",
              "      <td>48.000000</td>\n",
              "      <td>96.000000</td>\n",
              "      <td>92.000000</td>\n",
              "      <td>33.000000</td>\n",
              "      <td>60.000000</td>\n",
              "      <td>8.300000</td>\n",
              "      <td>107.000000</td>\n",
              "      <td>0.900000</td>\n",
              "      <td>158.0</td>\n",
              "      <td>1.700000</td>\n",
              "      <td>2.000000</td>\n",
              "      <td>3.700000</td>\n",
              "      <td>4.800000</td>\n",
              "      <td>0.9</td>\n",
              "      <td>42.200000</td>\n",
              "      <td>15.600000</td>\n",
              "      <td>27.2</td>\n",
              "      <td>17.700000</td>\n",
              "      <td>158.000000</td>\n",
              "      <td>59.28</td>\n",
              "      <td>1.0</td>\n",
              "      <td>-0.02</td>\n",
              "      <td>3.0</td>\n",
              "      <td>0.0</td>\n",
              "      <td>11093.0</td>\n",
              "    </tr>\n",
              "    <tr>\n",
              "      <th>1</th>\n",
              "      <td>236.0</td>\n",
              "      <td>1.0</td>\n",
              "      <td>1.0</td>\n",
              "      <td>71.5</td>\n",
              "      <td>97.5</td>\n",
              "      <td>36.440000</td>\n",
              "      <td>97.0</td>\n",
              "      <td>83.5</td>\n",
              "      <td>68.0</td>\n",
              "      <td>16.500000</td>\n",
              "      <td>-3.000000</td>\n",
              "      <td>22.000000</td>\n",
              "      <td>1.000000</td>\n",
              "      <td>7.290000</td>\n",
              "      <td>48.000000</td>\n",
              "      <td>96.000000</td>\n",
              "      <td>92.000000</td>\n",
              "      <td>33.000000</td>\n",
              "      <td>60.000000</td>\n",
              "      <td>8.300000</td>\n",
              "      <td>107.000000</td>\n",
              "      <td>0.900000</td>\n",
              "      <td>158.0</td>\n",
              "      <td>1.700000</td>\n",
              "      <td>2.000000</td>\n",
              "      <td>3.700000</td>\n",
              "      <td>4.800000</td>\n",
              "      <td>0.9</td>\n",
              "      <td>42.200000</td>\n",
              "      <td>15.600000</td>\n",
              "      <td>27.2</td>\n",
              "      <td>17.700000</td>\n",
              "      <td>158.000000</td>\n",
              "      <td>59.28</td>\n",
              "      <td>1.0</td>\n",
              "      <td>-0.02</td>\n",
              "      <td>4.0</td>\n",
              "      <td>0.0</td>\n",
              "      <td>11093.0</td>\n",
              "    </tr>\n",
              "    <tr>\n",
              "      <th>2</th>\n",
              "      <td>237.0</td>\n",
              "      <td>2.0</td>\n",
              "      <td>2.0</td>\n",
              "      <td>79.0</td>\n",
              "      <td>100.0</td>\n",
              "      <td>36.440000</td>\n",
              "      <td>106.0</td>\n",
              "      <td>87.0</td>\n",
              "      <td>72.0</td>\n",
              "      <td>20.750000</td>\n",
              "      <td>-3.000000</td>\n",
              "      <td>22.000000</td>\n",
              "      <td>1.000000</td>\n",
              "      <td>7.290000</td>\n",
              "      <td>48.000000</td>\n",
              "      <td>96.000000</td>\n",
              "      <td>92.000000</td>\n",
              "      <td>33.000000</td>\n",
              "      <td>60.000000</td>\n",
              "      <td>8.283333</td>\n",
              "      <td>107.000000</td>\n",
              "      <td>0.875000</td>\n",
              "      <td>172.0</td>\n",
              "      <td>1.700000</td>\n",
              "      <td>2.000000</td>\n",
              "      <td>3.694444</td>\n",
              "      <td>4.800000</td>\n",
              "      <td>0.9</td>\n",
              "      <td>42.200000</td>\n",
              "      <td>15.600000</td>\n",
              "      <td>27.2</td>\n",
              "      <td>17.700000</td>\n",
              "      <td>156.888889</td>\n",
              "      <td>59.28</td>\n",
              "      <td>1.0</td>\n",
              "      <td>-0.02</td>\n",
              "      <td>5.0</td>\n",
              "      <td>0.0</td>\n",
              "      <td>11093.0</td>\n",
              "    </tr>\n",
              "    <tr>\n",
              "      <th>3</th>\n",
              "      <td>238.0</td>\n",
              "      <td>3.0</td>\n",
              "      <td>3.0</td>\n",
              "      <td>61.0</td>\n",
              "      <td>100.0</td>\n",
              "      <td>36.440000</td>\n",
              "      <td>151.0</td>\n",
              "      <td>95.0</td>\n",
              "      <td>90.0</td>\n",
              "      <td>16.000000</td>\n",
              "      <td>-3.000000</td>\n",
              "      <td>22.142857</td>\n",
              "      <td>0.600000</td>\n",
              "      <td>7.290000</td>\n",
              "      <td>36.500000</td>\n",
              "      <td>96.000000</td>\n",
              "      <td>92.000000</td>\n",
              "      <td>32.428571</td>\n",
              "      <td>60.000000</td>\n",
              "      <td>8.266667</td>\n",
              "      <td>106.714286</td>\n",
              "      <td>0.850000</td>\n",
              "      <td>186.0</td>\n",
              "      <td>1.700000</td>\n",
              "      <td>1.985714</td>\n",
              "      <td>3.688889</td>\n",
              "      <td>4.600000</td>\n",
              "      <td>0.9</td>\n",
              "      <td>42.047059</td>\n",
              "      <td>15.541176</td>\n",
              "      <td>27.2</td>\n",
              "      <td>17.423529</td>\n",
              "      <td>155.777778</td>\n",
              "      <td>59.28</td>\n",
              "      <td>1.0</td>\n",
              "      <td>-0.02</td>\n",
              "      <td>6.0</td>\n",
              "      <td>0.0</td>\n",
              "      <td>11093.0</td>\n",
              "    </tr>\n",
              "    <tr>\n",
              "      <th>4</th>\n",
              "      <td>239.0</td>\n",
              "      <td>4.0</td>\n",
              "      <td>4.0</td>\n",
              "      <td>49.0</td>\n",
              "      <td>100.0</td>\n",
              "      <td>36.440000</td>\n",
              "      <td>145.0</td>\n",
              "      <td>92.0</td>\n",
              "      <td>84.0</td>\n",
              "      <td>20.000000</td>\n",
              "      <td>-1.000000</td>\n",
              "      <td>22.285714</td>\n",
              "      <td>0.600000</td>\n",
              "      <td>7.490000</td>\n",
              "      <td>25.000000</td>\n",
              "      <td>96.000000</td>\n",
              "      <td>92.000000</td>\n",
              "      <td>31.857143</td>\n",
              "      <td>60.000000</td>\n",
              "      <td>8.250000</td>\n",
              "      <td>106.428571</td>\n",
              "      <td>0.825000</td>\n",
              "      <td>200.0</td>\n",
              "      <td>1.702273</td>\n",
              "      <td>1.971429</td>\n",
              "      <td>3.683333</td>\n",
              "      <td>4.400000</td>\n",
              "      <td>0.9</td>\n",
              "      <td>41.894118</td>\n",
              "      <td>15.482353</td>\n",
              "      <td>27.2</td>\n",
              "      <td>17.147059</td>\n",
              "      <td>154.666667</td>\n",
              "      <td>59.28</td>\n",
              "      <td>1.0</td>\n",
              "      <td>-0.02</td>\n",
              "      <td>7.0</td>\n",
              "      <td>0.0</td>\n",
              "      <td>11093.0</td>\n",
              "    </tr>\n",
              "    <tr>\n",
              "      <th>...</th>\n",
              "      <td>...</td>\n",
              "      <td>...</td>\n",
              "      <td>...</td>\n",
              "      <td>...</td>\n",
              "      <td>...</td>\n",
              "      <td>...</td>\n",
              "      <td>...</td>\n",
              "      <td>...</td>\n",
              "      <td>...</td>\n",
              "      <td>...</td>\n",
              "      <td>...</td>\n",
              "      <td>...</td>\n",
              "      <td>...</td>\n",
              "      <td>...</td>\n",
              "      <td>...</td>\n",
              "      <td>...</td>\n",
              "      <td>...</td>\n",
              "      <td>...</td>\n",
              "      <td>...</td>\n",
              "      <td>...</td>\n",
              "      <td>...</td>\n",
              "      <td>...</td>\n",
              "      <td>...</td>\n",
              "      <td>...</td>\n",
              "      <td>...</td>\n",
              "      <td>...</td>\n",
              "      <td>...</td>\n",
              "      <td>...</td>\n",
              "      <td>...</td>\n",
              "      <td>...</td>\n",
              "      <td>...</td>\n",
              "      <td>...</td>\n",
              "      <td>...</td>\n",
              "      <td>...</td>\n",
              "      <td>...</td>\n",
              "      <td>...</td>\n",
              "      <td>...</td>\n",
              "      <td>...</td>\n",
              "      <td>...</td>\n",
              "    </tr>\n",
              "    <tr>\n",
              "      <th>52477</th>\n",
              "      <td>1551371.0</td>\n",
              "      <td>5.0</td>\n",
              "      <td>5.0</td>\n",
              "      <td>54.5</td>\n",
              "      <td>98.5</td>\n",
              "      <td>37.200000</td>\n",
              "      <td>104.5</td>\n",
              "      <td>74.0</td>\n",
              "      <td>55.0</td>\n",
              "      <td>12.333333</td>\n",
              "      <td>-2.066667</td>\n",
              "      <td>23.300000</td>\n",
              "      <td>0.403333</td>\n",
              "      <td>7.383333</td>\n",
              "      <td>45.000000</td>\n",
              "      <td>97.600000</td>\n",
              "      <td>118.666667</td>\n",
              "      <td>18.666667</td>\n",
              "      <td>102.666667</td>\n",
              "      <td>8.266667</td>\n",
              "      <td>100.666667</td>\n",
              "      <td>1.173333</td>\n",
              "      <td>226.0</td>\n",
              "      <td>2.820000</td>\n",
              "      <td>2.300000</td>\n",
              "      <td>2.733333</td>\n",
              "      <td>4.133333</td>\n",
              "      <td>15.2</td>\n",
              "      <td>31.466667</td>\n",
              "      <td>10.800000</td>\n",
              "      <td>46.6</td>\n",
              "      <td>14.433333</td>\n",
              "      <td>142.000000</td>\n",
              "      <td>66.00</td>\n",
              "      <td>1.0</td>\n",
              "      <td>0.00</td>\n",
              "      <td>6.0</td>\n",
              "      <td>1.0</td>\n",
              "      <td>119010.0</td>\n",
              "    </tr>\n",
              "    <tr>\n",
              "      <th>52478</th>\n",
              "      <td>1551372.0</td>\n",
              "      <td>6.0</td>\n",
              "      <td>6.0</td>\n",
              "      <td>54.0</td>\n",
              "      <td>96.0</td>\n",
              "      <td>36.666667</td>\n",
              "      <td>112.0</td>\n",
              "      <td>74.0</td>\n",
              "      <td>52.0</td>\n",
              "      <td>13.000000</td>\n",
              "      <td>-2.066667</td>\n",
              "      <td>23.300000</td>\n",
              "      <td>0.500000</td>\n",
              "      <td>7.430000</td>\n",
              "      <td>39.000000</td>\n",
              "      <td>98.900000</td>\n",
              "      <td>103.000000</td>\n",
              "      <td>16.666667</td>\n",
              "      <td>110.333333</td>\n",
              "      <td>3.440000</td>\n",
              "      <td>100.666667</td>\n",
              "      <td>0.960000</td>\n",
              "      <td>206.0</td>\n",
              "      <td>2.573333</td>\n",
              "      <td>2.266667</td>\n",
              "      <td>2.800000</td>\n",
              "      <td>4.066667</td>\n",
              "      <td>10.3</td>\n",
              "      <td>30.666667</td>\n",
              "      <td>10.433333</td>\n",
              "      <td>46.6</td>\n",
              "      <td>15.766667</td>\n",
              "      <td>122.000000</td>\n",
              "      <td>66.00</td>\n",
              "      <td>1.0</td>\n",
              "      <td>0.00</td>\n",
              "      <td>7.0</td>\n",
              "      <td>1.0</td>\n",
              "      <td>119010.0</td>\n",
              "    </tr>\n",
              "    <tr>\n",
              "      <th>52479</th>\n",
              "      <td>1551373.0</td>\n",
              "      <td>7.0</td>\n",
              "      <td>7.0</td>\n",
              "      <td>67.5</td>\n",
              "      <td>96.5</td>\n",
              "      <td>36.900000</td>\n",
              "      <td>118.0</td>\n",
              "      <td>77.0</td>\n",
              "      <td>55.0</td>\n",
              "      <td>11.000000</td>\n",
              "      <td>-2.066667</td>\n",
              "      <td>23.300000</td>\n",
              "      <td>0.403333</td>\n",
              "      <td>7.390000</td>\n",
              "      <td>46.333333</td>\n",
              "      <td>97.733333</td>\n",
              "      <td>103.000000</td>\n",
              "      <td>16.666667</td>\n",
              "      <td>110.333333</td>\n",
              "      <td>5.830000</td>\n",
              "      <td>100.666667</td>\n",
              "      <td>0.960000</td>\n",
              "      <td>224.0</td>\n",
              "      <td>2.866667</td>\n",
              "      <td>2.266667</td>\n",
              "      <td>2.800000</td>\n",
              "      <td>4.266667</td>\n",
              "      <td>10.3</td>\n",
              "      <td>30.666667</td>\n",
              "      <td>10.433333</td>\n",
              "      <td>46.6</td>\n",
              "      <td>15.766667</td>\n",
              "      <td>122.000000</td>\n",
              "      <td>66.00</td>\n",
              "      <td>1.0</td>\n",
              "      <td>0.00</td>\n",
              "      <td>8.0</td>\n",
              "      <td>1.0</td>\n",
              "      <td>119010.0</td>\n",
              "    </tr>\n",
              "    <tr>\n",
              "      <th>52480</th>\n",
              "      <td>1551374.0</td>\n",
              "      <td>8.0</td>\n",
              "      <td>8.0</td>\n",
              "      <td>67.0</td>\n",
              "      <td>96.0</td>\n",
              "      <td>36.900000</td>\n",
              "      <td>115.5</td>\n",
              "      <td>76.0</td>\n",
              "      <td>55.5</td>\n",
              "      <td>11.000000</td>\n",
              "      <td>-2.066667</td>\n",
              "      <td>23.300000</td>\n",
              "      <td>0.403333</td>\n",
              "      <td>7.390000</td>\n",
              "      <td>46.333333</td>\n",
              "      <td>97.733333</td>\n",
              "      <td>103.000000</td>\n",
              "      <td>16.666667</td>\n",
              "      <td>110.333333</td>\n",
              "      <td>5.830000</td>\n",
              "      <td>100.666667</td>\n",
              "      <td>0.960000</td>\n",
              "      <td>181.0</td>\n",
              "      <td>2.866667</td>\n",
              "      <td>2.266667</td>\n",
              "      <td>2.800000</td>\n",
              "      <td>4.266667</td>\n",
              "      <td>10.3</td>\n",
              "      <td>30.666667</td>\n",
              "      <td>10.433333</td>\n",
              "      <td>46.6</td>\n",
              "      <td>15.766667</td>\n",
              "      <td>122.000000</td>\n",
              "      <td>66.00</td>\n",
              "      <td>1.0</td>\n",
              "      <td>0.00</td>\n",
              "      <td>9.0</td>\n",
              "      <td>1.0</td>\n",
              "      <td>119010.0</td>\n",
              "    </tr>\n",
              "    <tr>\n",
              "      <th>52481</th>\n",
              "      <td>1551375.0</td>\n",
              "      <td>9.0</td>\n",
              "      <td>9.0</td>\n",
              "      <td>64.5</td>\n",
              "      <td>95.0</td>\n",
              "      <td>36.900000</td>\n",
              "      <td>113.5</td>\n",
              "      <td>74.5</td>\n",
              "      <td>55.0</td>\n",
              "      <td>11.000000</td>\n",
              "      <td>-2.066667</td>\n",
              "      <td>23.300000</td>\n",
              "      <td>0.403333</td>\n",
              "      <td>7.390000</td>\n",
              "      <td>46.333333</td>\n",
              "      <td>97.733333</td>\n",
              "      <td>103.000000</td>\n",
              "      <td>16.666667</td>\n",
              "      <td>110.333333</td>\n",
              "      <td>5.830000</td>\n",
              "      <td>100.666667</td>\n",
              "      <td>0.960000</td>\n",
              "      <td>170.0</td>\n",
              "      <td>2.866667</td>\n",
              "      <td>2.266667</td>\n",
              "      <td>2.800000</td>\n",
              "      <td>4.266667</td>\n",
              "      <td>10.3</td>\n",
              "      <td>30.666667</td>\n",
              "      <td>10.433333</td>\n",
              "      <td>46.6</td>\n",
              "      <td>15.766667</td>\n",
              "      <td>122.000000</td>\n",
              "      <td>66.00</td>\n",
              "      <td>1.0</td>\n",
              "      <td>0.00</td>\n",
              "      <td>10.0</td>\n",
              "      <td>1.0</td>\n",
              "      <td>119010.0</td>\n",
              "    </tr>\n",
              "  </tbody>\n",
              "</table>\n",
              "<p>172410 rows × 39 columns</p>\n",
              "</div>\n",
              "      <button class=\"colab-df-convert\" onclick=\"convertToInteractive('df-f46ce5c1-1531-4ae0-9d9a-c745a895d7a7')\"\n",
              "              title=\"Convert this dataframe to an interactive table.\"\n",
              "              style=\"display:none;\">\n",
              "        \n",
              "  <svg xmlns=\"http://www.w3.org/2000/svg\" height=\"24px\"viewBox=\"0 0 24 24\"\n",
              "       width=\"24px\">\n",
              "    <path d=\"M0 0h24v24H0V0z\" fill=\"none\"/>\n",
              "    <path d=\"M18.56 5.44l.94 2.06.94-2.06 2.06-.94-2.06-.94-.94-2.06-.94 2.06-2.06.94zm-11 1L8.5 8.5l.94-2.06 2.06-.94-2.06-.94L8.5 2.5l-.94 2.06-2.06.94zm10 10l.94 2.06.94-2.06 2.06-.94-2.06-.94-.94-2.06-.94 2.06-2.06.94z\"/><path d=\"M17.41 7.96l-1.37-1.37c-.4-.4-.92-.59-1.43-.59-.52 0-1.04.2-1.43.59L10.3 9.45l-7.72 7.72c-.78.78-.78 2.05 0 2.83L4 21.41c.39.39.9.59 1.41.59.51 0 1.02-.2 1.41-.59l7.78-7.78 2.81-2.81c.8-.78.8-2.07 0-2.86zM5.41 20L4 18.59l7.72-7.72 1.47 1.35L5.41 20z\"/>\n",
              "  </svg>\n",
              "      </button>\n",
              "      \n",
              "  <style>\n",
              "    .colab-df-container {\n",
              "      display:flex;\n",
              "      flex-wrap:wrap;\n",
              "      gap: 12px;\n",
              "    }\n",
              "\n",
              "    .colab-df-convert {\n",
              "      background-color: #E8F0FE;\n",
              "      border: none;\n",
              "      border-radius: 50%;\n",
              "      cursor: pointer;\n",
              "      display: none;\n",
              "      fill: #1967D2;\n",
              "      height: 32px;\n",
              "      padding: 0 0 0 0;\n",
              "      width: 32px;\n",
              "    }\n",
              "\n",
              "    .colab-df-convert:hover {\n",
              "      background-color: #E2EBFA;\n",
              "      box-shadow: 0px 1px 2px rgba(60, 64, 67, 0.3), 0px 1px 3px 1px rgba(60, 64, 67, 0.15);\n",
              "      fill: #174EA6;\n",
              "    }\n",
              "\n",
              "    [theme=dark] .colab-df-convert {\n",
              "      background-color: #3B4455;\n",
              "      fill: #D2E3FC;\n",
              "    }\n",
              "\n",
              "    [theme=dark] .colab-df-convert:hover {\n",
              "      background-color: #434B5C;\n",
              "      box-shadow: 0px 1px 3px 1px rgba(0, 0, 0, 0.15);\n",
              "      filter: drop-shadow(0px 1px 2px rgba(0, 0, 0, 0.3));\n",
              "      fill: #FFFFFF;\n",
              "    }\n",
              "  </style>\n",
              "\n",
              "      <script>\n",
              "        const buttonEl =\n",
              "          document.querySelector('#df-f46ce5c1-1531-4ae0-9d9a-c745a895d7a7 button.colab-df-convert');\n",
              "        buttonEl.style.display =\n",
              "          google.colab.kernel.accessAllowed ? 'block' : 'none';\n",
              "\n",
              "        async function convertToInteractive(key) {\n",
              "          const element = document.querySelector('#df-f46ce5c1-1531-4ae0-9d9a-c745a895d7a7');\n",
              "          const dataTable =\n",
              "            await google.colab.kernel.invokeFunction('convertToInteractive',\n",
              "                                                     [key], {});\n",
              "          if (!dataTable) return;\n",
              "\n",
              "          const docLinkHtml = 'Like what you see? Visit the ' +\n",
              "            '<a target=\"_blank\" href=https://colab.research.google.com/notebooks/data_table.ipynb>data table notebook</a>'\n",
              "            + ' to learn more about interactive tables.';\n",
              "          element.innerHTML = '';\n",
              "          dataTable['output_type'] = 'display_data';\n",
              "          await google.colab.output.renderOutput(dataTable, element);\n",
              "          const docLink = document.createElement('div');\n",
              "          docLink.innerHTML = docLinkHtml;\n",
              "          element.appendChild(docLink);\n",
              "        }\n",
              "      </script>\n",
              "    </div>\n",
              "  </div>\n",
              "  "
            ],
            "text/plain": [
              "       Unnamed: 0  Unnamed: 0.1  Hour  ...  ICULOS  SepsisLabel  Patient_ID\n",
              "0           235.0           0.0   0.0  ...     3.0          0.0     11093.0\n",
              "1           236.0           1.0   1.0  ...     4.0          0.0     11093.0\n",
              "2           237.0           2.0   2.0  ...     5.0          0.0     11093.0\n",
              "3           238.0           3.0   3.0  ...     6.0          0.0     11093.0\n",
              "4           239.0           4.0   4.0  ...     7.0          0.0     11093.0\n",
              "...           ...           ...   ...  ...     ...          ...         ...\n",
              "52477   1551371.0           5.0   5.0  ...     6.0          1.0    119010.0\n",
              "52478   1551372.0           6.0   6.0  ...     7.0          1.0    119010.0\n",
              "52479   1551373.0           7.0   7.0  ...     8.0          1.0    119010.0\n",
              "52480   1551374.0           8.0   8.0  ...     9.0          1.0    119010.0\n",
              "52481   1551375.0           9.0   9.0  ...    10.0          1.0    119010.0\n",
              "\n",
              "[172410 rows x 39 columns]"
            ]
          },
          "metadata": {},
          "execution_count": 21
        }
      ]
    },
    {
      "cell_type": "code",
      "source": [
        "df_Interpolate_KNN.columns\n"
      ],
      "metadata": {
        "colab": {
          "base_uri": "https://localhost:8080/"
        },
        "id": "DWjFi8Q_1h_2",
        "outputId": "ce4b6f68-de9c-4456-e40b-eadc7990d937"
      },
      "execution_count": null,
      "outputs": [
        {
          "output_type": "execute_result",
          "data": {
            "text/plain": [
              "Index(['Unnamed: 0', 'Unnamed: 0.1', 'Hour', 'HR', 'O2Sat', 'Temp', 'SBP',\n",
              "       'MAP', 'DBP', 'Resp', 'BaseExcess', 'HCO3', 'FiO2', 'pH', 'PaCO2',\n",
              "       'SaO2', 'AST', 'BUN', 'Alkalinephos', 'Calcium', 'Chloride',\n",
              "       'Creatinine', 'Glucose', 'Lactate', 'Magnesium', 'Phosphate',\n",
              "       'Potassium', 'Bilirubin_total', 'Hct', 'Hgb', 'PTT', 'WBC', 'Platelets',\n",
              "       'Age', 'Gender', 'HospAdmTime', 'ICULOS', 'SepsisLabel', 'Patient_ID'],\n",
              "      dtype='object')"
            ]
          },
          "metadata": {},
          "execution_count": 29
        }
      ]
    },
    {
      "cell_type": "code",
      "source": [
        "df_Interpolate_KNN.isnull().sum()"
      ],
      "metadata": {
        "colab": {
          "base_uri": "https://localhost:8080/"
        },
        "id": "gSJaN9lI16q1",
        "outputId": "81c5bd4f-a811-4c5d-92ed-99faf059088b"
      },
      "execution_count": null,
      "outputs": [
        {
          "output_type": "execute_result",
          "data": {
            "text/plain": [
              "Unnamed: 0         0\n",
              "Unnamed: 0.1       0\n",
              "Hour               0\n",
              "HR                 0\n",
              "O2Sat              0\n",
              "Temp               0\n",
              "SBP                0\n",
              "MAP                0\n",
              "DBP                0\n",
              "Resp               0\n",
              "BaseExcess         0\n",
              "HCO3               0\n",
              "FiO2               0\n",
              "pH                 0\n",
              "PaCO2              0\n",
              "SaO2               0\n",
              "AST                0\n",
              "BUN                0\n",
              "Alkalinephos       0\n",
              "Calcium            0\n",
              "Chloride           0\n",
              "Creatinine         0\n",
              "Glucose            0\n",
              "Lactate            0\n",
              "Magnesium          0\n",
              "Phosphate          0\n",
              "Potassium          0\n",
              "Bilirubin_total    0\n",
              "Hct                0\n",
              "Hgb                0\n",
              "PTT                0\n",
              "WBC                0\n",
              "Platelets          0\n",
              "Age                0\n",
              "Gender             0\n",
              "HospAdmTime        0\n",
              "ICULOS             0\n",
              "SepsisLabel        0\n",
              "Patient_ID         0\n",
              "dtype: int64"
            ]
          },
          "metadata": {},
          "execution_count": 22
        }
      ]
    },
    {
      "cell_type": "code",
      "source": [
        "#Output after Interpolation\n",
        "df_Interpolate_KNN.to_csv(Path+'/KNN_IMPUTE_FINALL.csv')"
      ],
      "metadata": {
        "id": "m9YJL3sS_0BE"
      },
      "execution_count": null,
      "outputs": []
    },
    {
      "cell_type": "code",
      "source": [
        "%matplotlib inline\n",
        "\n",
        "from sklearn.model_selection import train_test_split\n",
        "import xgboost as xgb\n",
        "from sklearn.metrics import accuracy_score"
      ],
      "metadata": {
        "id": "XwCazgEUPySR"
      },
      "execution_count": null,
      "outputs": []
    },
    {
      "cell_type": "code",
      "source": [
        "#Sepsis Only DataSet\n",
        "#df_sepsis_only_dataset=pd.read_csv(\"septic_patients_data_alone_df.csv\")\n",
        "#df=pd.read_csv(Path+'/septic_patients_data_alone.csv')\n",
        "df_KNN=pd.read_csv(Path+\"/KNN_IMPUTE_FINALL.csv\")"
      ],
      "metadata": {
        "id": "uySaoPuWPyV1"
      },
      "execution_count": null,
      "outputs": []
    },
    {
      "cell_type": "code",
      "source": [
        "def xgboost_base(train):\n",
        "  x = train.drop(['SepsisLabel'], axis=1) # assigning features to x, y\n",
        "  y = train['SepsisLabel']\n",
        "  x_train, x_val, y_train, y_val = train_test_split(x, y, test_size=0.2, random_state=42)\n",
        "  xgb_cl = xgb.XGBClassifier(objective='binary:logistic',n_estimator=6,seed=42)\n",
        "  xgb_cl.fit(x_train, y_train)\n",
        "  preds = xgb_cl.predict(x_val)\n",
        "  accuracy = accuracy_score(y_val, preds)\n",
        "  return accuracy"
      ],
      "metadata": {
        "id": "LmWQ4q3BPyZr"
      },
      "execution_count": null,
      "outputs": []
    },
    {
      "cell_type": "code",
      "source": [
        "#accuracy_sepsis_only_dataset=xgboost_base(df_sepsis_only_dataset)\n",
        "accuracy_sepsis_only_dataset=xgboost_base(df_Interpolate_KNN)"
      ],
      "metadata": {
        "id": "1Nh6P9VMPydM"
      },
      "execution_count": null,
      "outputs": []
    },
    {
      "cell_type": "code",
      "source": [
        "print(\"accuracy_sepsis_only_dataset: %.2f%%\" % (accuracy_sepsis_only_dataset * 100.0))"
      ],
      "metadata": {
        "id": "YiwmCtW5Pyf1",
        "colab": {
          "base_uri": "https://localhost:8080/"
        },
        "outputId": "e1b11e79-ac21-4452-cf1b-2d2477358e5e"
      },
      "execution_count": null,
      "outputs": [
        {
          "output_type": "stream",
          "name": "stdout",
          "text": [
            "accuracy_sepsis_only_dataset: 83.87%\n"
          ]
        }
      ]
    },
    {
      "cell_type": "code",
      "source": [
        "x = df_KNN.drop(['SepsisLabel'], axis=1) # assigning features to x, y\n",
        "y = df_KNN['SepsisLabel']\n",
        "x_train, x_val, y_train, y_val = train_test_split(x, y, test_size=0.2, random_state=42)\n",
        "xgb_cl = xgb.XGBClassifier(objective='binary:logistic',n_estimator=6,seed=42)\n",
        "xgb_cl.fit(x_train, y_train)\n",
        "preds = xgb_cl.predict(x_val)\n",
        "accuracy = accuracy_score(y_val, preds)\n",
        "accuracy"
      ],
      "metadata": {
        "colab": {
          "base_uri": "https://localhost:8080/"
        },
        "id": "sY-DvCW-Il1f",
        "outputId": "e01bbeca-e142-4965-eed4-81c9273780de"
      },
      "execution_count": null,
      "outputs": [
        {
          "output_type": "execute_result",
          "data": {
            "text/plain": [
              "0.8388724551940143"
            ]
          },
          "metadata": {},
          "execution_count": 33
        }
      ]
    },
    {
      "cell_type": "code",
      "source": [
        "# Making the Confusion Matrix\n",
        "from sklearn.metrics import confusion_matrix\n",
        "cm = confusion_matrix(y_val, preds)\n",
        "print(cm)\n",
        "\n"
      ],
      "metadata": {
        "id": "NA3u5Qj3_EoY",
        "colab": {
          "base_uri": "https://localhost:8080/",
          "height": 236
        },
        "outputId": "ec436cb6-a0f1-4dbc-9ed2-8b3fbdb90a01"
      },
      "execution_count": null,
      "outputs": [
        {
          "output_type": "error",
          "ename": "NameError",
          "evalue": "ignored",
          "traceback": [
            "\u001b[0;31m---------------------------------------------------------------------------\u001b[0m",
            "\u001b[0;31mNameError\u001b[0m                                 Traceback (most recent call last)",
            "\u001b[0;32m<ipython-input-2-8f4de141aba4>\u001b[0m in \u001b[0;36m<module>\u001b[0;34m()\u001b[0m\n\u001b[1;32m      1\u001b[0m \u001b[0;31m# Making the Confusion Matrix\u001b[0m\u001b[0;34m\u001b[0m\u001b[0;34m\u001b[0m\u001b[0;34m\u001b[0m\u001b[0m\n\u001b[1;32m      2\u001b[0m \u001b[0;32mfrom\u001b[0m \u001b[0msklearn\u001b[0m\u001b[0;34m.\u001b[0m\u001b[0mmetrics\u001b[0m \u001b[0;32mimport\u001b[0m \u001b[0mconfusion_matrix\u001b[0m\u001b[0;34m\u001b[0m\u001b[0;34m\u001b[0m\u001b[0m\n\u001b[0;32m----> 3\u001b[0;31m \u001b[0mcm\u001b[0m \u001b[0;34m=\u001b[0m \u001b[0mconfusion_matrix\u001b[0m\u001b[0;34m(\u001b[0m\u001b[0my_val\u001b[0m\u001b[0;34m,\u001b[0m \u001b[0mpreds\u001b[0m\u001b[0;34m)\u001b[0m\u001b[0;34m\u001b[0m\u001b[0;34m\u001b[0m\u001b[0m\n\u001b[0m\u001b[1;32m      4\u001b[0m \u001b[0mprint\u001b[0m\u001b[0;34m(\u001b[0m\u001b[0mcm\u001b[0m\u001b[0;34m)\u001b[0m\u001b[0;34m\u001b[0m\u001b[0;34m\u001b[0m\u001b[0m\n\u001b[1;32m      5\u001b[0m \u001b[0;34m\u001b[0m\u001b[0m\n",
            "\u001b[0;31mNameError\u001b[0m: name 'y_val' is not defined"
          ]
        }
      ]
    },
    {
      "cell_type": "code",
      "source": [
        "from sklearn.metrics import classification_report\n",
        "from sklearn.metrics import f1_score\n",
        "#tp, fn, fp, tn = confusion_matrix(y_val, preds)\n",
        "tp, fn, fp, tn = confusion_matrix(y_val, preds,labels=[1,0]).reshape(-1)\n",
        "print('Outcome values : \\n', tp, fn, fp, tn)\n",
        "\n",
        "f1_score(y_val, preds, average='micro')  \n",
        "\n",
        "f1_score(y_val, preds, average='weighted') \n",
        "\n",
        "# classification report for precision, recall f1-score and accuracy\n",
        "matrix = classification_report(y_val, preds,labels=[1,0])\n",
        "print('Classification report : \\n',matrix)"
      ],
      "metadata": {
        "id": "5zyr6goc_H23",
        "colab": {
          "base_uri": "https://localhost:8080/",
          "height": 236
        },
        "outputId": "5becf8e5-c85a-483d-cf38-8010c422c522"
      },
      "execution_count": null,
      "outputs": [
        {
          "output_type": "error",
          "ename": "NameError",
          "evalue": "ignored",
          "traceback": [
            "\u001b[0;31m---------------------------------------------------------------------------\u001b[0m",
            "\u001b[0;31mNameError\u001b[0m                                 Traceback (most recent call last)",
            "\u001b[0;32m<ipython-input-1-316aef341d0f>\u001b[0m in \u001b[0;36m<module>\u001b[0;34m()\u001b[0m\n\u001b[1;32m      2\u001b[0m \u001b[0;32mfrom\u001b[0m \u001b[0msklearn\u001b[0m\u001b[0;34m.\u001b[0m\u001b[0mmetrics\u001b[0m \u001b[0;32mimport\u001b[0m \u001b[0mf1_score\u001b[0m\u001b[0;34m\u001b[0m\u001b[0;34m\u001b[0m\u001b[0m\n\u001b[1;32m      3\u001b[0m \u001b[0;31m#tp, fn, fp, tn = confusion_matrix(y_val, preds)\u001b[0m\u001b[0;34m\u001b[0m\u001b[0;34m\u001b[0m\u001b[0;34m\u001b[0m\u001b[0m\n\u001b[0;32m----> 4\u001b[0;31m \u001b[0mtp\u001b[0m\u001b[0;34m,\u001b[0m \u001b[0mfn\u001b[0m\u001b[0;34m,\u001b[0m \u001b[0mfp\u001b[0m\u001b[0;34m,\u001b[0m \u001b[0mtn\u001b[0m \u001b[0;34m=\u001b[0m \u001b[0mconfusion_matrix\u001b[0m\u001b[0;34m(\u001b[0m\u001b[0my_val\u001b[0m\u001b[0;34m,\u001b[0m \u001b[0mpreds\u001b[0m\u001b[0;34m,\u001b[0m\u001b[0mlabels\u001b[0m\u001b[0;34m=\u001b[0m\u001b[0;34m[\u001b[0m\u001b[0;36m1\u001b[0m\u001b[0;34m,\u001b[0m\u001b[0;36m0\u001b[0m\u001b[0;34m]\u001b[0m\u001b[0;34m)\u001b[0m\u001b[0;34m.\u001b[0m\u001b[0mreshape\u001b[0m\u001b[0;34m(\u001b[0m\u001b[0;34m-\u001b[0m\u001b[0;36m1\u001b[0m\u001b[0;34m)\u001b[0m\u001b[0;34m\u001b[0m\u001b[0;34m\u001b[0m\u001b[0m\n\u001b[0m\u001b[1;32m      5\u001b[0m \u001b[0mprint\u001b[0m\u001b[0;34m(\u001b[0m\u001b[0;34m'Outcome values : \\n'\u001b[0m\u001b[0;34m,\u001b[0m \u001b[0mtp\u001b[0m\u001b[0;34m,\u001b[0m \u001b[0mfn\u001b[0m\u001b[0;34m,\u001b[0m \u001b[0mfp\u001b[0m\u001b[0;34m,\u001b[0m \u001b[0mtn\u001b[0m\u001b[0;34m)\u001b[0m\u001b[0;34m\u001b[0m\u001b[0;34m\u001b[0m\u001b[0m\n\u001b[1;32m      6\u001b[0m \u001b[0;34m\u001b[0m\u001b[0m\n",
            "\u001b[0;31mNameError\u001b[0m: name 'confusion_matrix' is not defined"
          ]
        }
      ]
    }
  ],
  "metadata": {
    "colab": {
      "name": "Copy of KNN_impute.ipynb",
      "provenance": [],
      "collapsed_sections": []
    },
    "kernelspec": {
      "display_name": "Python 3",
      "name": "python3"
    },
    "language_info": {
      "name": "python"
    },
    "accelerator": "GPU"
  },
  "nbformat": 4,
  "nbformat_minor": 0
}