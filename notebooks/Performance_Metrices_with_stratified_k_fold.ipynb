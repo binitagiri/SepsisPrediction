{
  "cells": [
    {
      "cell_type": "code",
      "execution_count": null,
      "metadata": {
        "colab": {
          "base_uri": "https://localhost:8080/"
        },
        "id": "UNlmO7GsR05T",
        "outputId": "886378d3-847b-407e-ada3-a139ef5b2636"
      },
      "outputs": [
        {
          "output_type": "stream",
          "name": "stdout",
          "text": [
            "Mounted at /content/drive\n"
          ]
        }
      ],
      "source": [
        "#Mounting the google drive\n",
        "from google.colab import drive\n",
        "drive.mount('/content/drive')\n",
        "Path='drive/My Drive'"
      ]
    },
    {
      "cell_type": "code",
      "execution_count": null,
      "metadata": {
        "id": "3lzMmXtjR27X"
      },
      "outputs": [],
      "source": [
        "import pandas as pd\n",
        "import numpy as np\n",
        "import seaborn as snb\n",
        "import matplotlib.pyplot as plt"
      ]
    },
    {
      "cell_type": "code",
      "execution_count": null,
      "metadata": {
        "id": "FFLcu5maR3F2"
      },
      "outputs": [],
      "source": [
        "df=pd.read_csv(Path+'/septic_patients_data_alone.csv')"
      ]
    },
    {
      "cell_type": "code",
      "execution_count": null,
      "metadata": {
        "colab": {
          "base_uri": "https://localhost:8080/"
        },
        "id": "D23oGptlPb7o",
        "outputId": "f237e1fd-d72f-46f6-b7c2-2a879d825f88"
      },
      "outputs": [
        {
          "output_type": "execute_result",
          "data": {
            "text/plain": [
              "0    144494\n",
              "1     27916\n",
              "Name: SepsisLabel, dtype: int64"
            ]
          },
          "metadata": {},
          "execution_count": 5
        }
      ],
      "source": [
        "df['SepsisLabel'].value_counts()\n"
      ]
    },
    {
      "cell_type": "code",
      "execution_count": null,
      "metadata": {
        "colab": {
          "base_uri": "https://localhost:8080/"
        },
        "id": "fM4H3ehBS9ys",
        "outputId": "219cd257-cbcd-4592-c847-5408e26197c7"
      },
      "outputs": [
        {
          "output_type": "execute_result",
          "data": {
            "text/plain": [
              "5.176028084252758"
            ]
          },
          "metadata": {},
          "execution_count": 6
        }
      ],
      "source": [
        "Neg_Cases=144494\n",
        "pos_cases=27916\n",
        "scale_pos_weight=Neg_Cases/pos_cases\n",
        "scale_pos_weight"
      ]
    },
    {
      "cell_type": "code",
      "execution_count": null,
      "metadata": {
        "id": "7Fwp5K06txNU"
      },
      "outputs": [],
      "source": [
        "#df=df.drop(columns=['EtCO2', 'Bilirubin_direct','TroponinI','Fibrinogen','sepsisType','Unit1','Unit2'])\n",
        "#df=df.drop(columns=['sepsisType'])\n",
        "       "
      ]
    },
    {
      "cell_type": "markdown",
      "metadata": {
        "id": "T1ZnFheojfth"
      },
      "source": [
        "# **Imputing** **the Null's using Interpolation**"
      ]
    },
    {
      "cell_type": "code",
      "execution_count": null,
      "metadata": {
        "id": "QmZs4Ny1vo2J"
      },
      "outputs": [],
      "source": [
        "PIdArray=df['Patient_ID'].unique()\n",
        "df_output=pd.DataFrame()\n",
        "for i in PIdArray:\n",
        "    df_new=df[df['Patient_ID']==i].interpolate(limit_direction='both')\n",
        "    df_output=df_output.append(df_new)"
      ]
    },
    {
      "cell_type": "code",
      "execution_count": null,
      "metadata": {
        "id": "IEXZVbPPMLi8"
      },
      "outputs": [],
      "source": [
        "from sklearn.model_selection import train_test_split\n",
        "import xgboost as xgb\n",
        "from sklearn.metrics import accuracy_score"
      ]
    },
    {
      "cell_type": "code",
      "execution_count": null,
      "metadata": {
        "colab": {
          "base_uri": "https://localhost:8080/"
        },
        "id": "VkEt3DbdMjRc",
        "outputId": "c6b513df-f799-497d-a775-9b7a335d287c"
      },
      "outputs": [
        {
          "output_type": "execute_result",
          "data": {
            "text/plain": [
              "0.8527927614407517"
            ]
          },
          "metadata": {},
          "execution_count": 9
        }
      ],
      "source": [
        "#clf = LogisticRegression(solver=\"liblinear\", random_state=0).fit(X, y)\n",
        "x = df_output.drop(['sepsisType','SepsisLabel'], axis=1) # assigning features to x, y\n",
        "y = df_output['SepsisLabel']\n",
        "x_train, x_val, y_train, y_val = train_test_split(x, y, test_size=0.2, random_state=42)\n",
        "xgb_cl = xgb.XGBClassifier(objective='binary:logistic',n_estimator=6,seed=42)\n",
        "xgb_cl.fit(x_train, y_train)\n",
        "preds = xgb_cl.predict(x_val)\n",
        "accuracy = accuracy_score(y_val, preds)\n",
        "accuracy"
      ]
    },
    {
      "cell_type": "markdown",
      "source": [
        "# Estimating the value for the scale_pos_weight XGBoost hyperparameter **bold text**\n",
        "\n"
      ],
      "metadata": {
        "id": "htWDQWzYOnrw"
      }
    },
    {
      "cell_type": "code",
      "execution_count": null,
      "metadata": {
        "colab": {
          "base_uri": "https://localhost:8080/"
        },
        "id": "5mZUqI2sUV8j",
        "outputId": "6dc3a4af-21b8-40af-dfc6-48937777a368"
      },
      "outputs": [
        {
          "output_type": "stream",
          "name": "stdout",
          "text": [
            "Estimate: 5.176\n"
          ]
        }
      ],
      "source": [
        "#model = XGBClassifier(scale_pos_weight=5.176)\n",
        "from collections import Counter\n",
        "# generate dataset\n",
        "#X, y = make_classification(n_samples=10000, n_features=2, n_redundant=0,\n",
        "#\tn_clusters_per_class=2, weights=[0.99], flip_y=0, random_state=7)\n",
        "# count examples in each class\n",
        "counter = Counter(y)\n",
        "# estimate scale_pos_weight value\n",
        "estimate = counter[0] / counter[1]\n",
        "print('Estimate: %.3f' % estimate)"
      ]
    },
    {
      "cell_type": "markdown",
      "source": [
        "# Model's performance using repeated k-fold cross-validation."
      ],
      "metadata": {
        "id": "k8jOK49BPF6l"
      }
    },
    {
      "cell_type": "code",
      "execution_count": null,
      "metadata": {
        "colab": {
          "base_uri": "https://localhost:8080/"
        },
        "id": "f3cQJPL9Vh5o",
        "outputId": "129ee120-6fe7-4fce-de77-e5ae1d3aafb0"
      },
      "outputs": [
        {
          "output_type": "stream",
          "name": "stdout",
          "text": [
            "Mean ROC AUC: 0.81153\n"
          ]
        }
      ],
      "source": [
        "from xgboost import XGBClassifier\n",
        "from sklearn.model_selection import cross_val_score\n",
        "from sklearn.model_selection import RepeatedStratifiedKFold\n",
        "from numpy import mean\n",
        "model = XGBClassifier(scale_pos_weight=5.176)\n",
        "# define evaluation procedure\n",
        "cv = RepeatedStratifiedKFold(n_splits=10, n_repeats=3, random_state=1)\n",
        "# evaluate model\n",
        "scores = cross_val_score(model, x, y, scoring='roc_auc', cv=cv, n_jobs=-1)\n",
        "# summarize performance\n",
        "print('Mean ROC AUC: %.5f' % mean(scores))"
      ]
    },
    {
      "cell_type": "code",
      "source": [
        "x_train, x_val, y_train, y_val = train_test_split(x, y, test_size=0.2, random_state=42)\n",
        "#xgb_cl = xgb.XGBClassifier(objective='binary:logistic',n_estimator=6,seed=42)\n",
        "model.fit(x_train, y_train)\n",
        "preds = model.predict(x_val)\n",
        "accuracy = accuracy_score(y_val, preds)\n",
        "accuracy"
      ],
      "metadata": {
        "colab": {
          "base_uri": "https://localhost:8080/"
        },
        "id": "SfjMIuuYwaiQ",
        "outputId": "3b921641-e172-4a38-eaff-b2f048fe16ee"
      },
      "execution_count": null,
      "outputs": [
        {
          "output_type": "execute_result",
          "data": {
            "text/plain": [
              "0.7740850298706572"
            ]
          },
          "metadata": {},
          "execution_count": 12
        }
      ]
    },
    {
      "cell_type": "code",
      "execution_count": null,
      "metadata": {
        "colab": {
          "base_uri": "https://localhost:8080/",
          "height": 358
        },
        "id": "FWfmWk0XY5__",
        "outputId": "2b808d70-ef67-428a-8e26-0db9db56c2fe"
      },
      "outputs": [
        {
          "output_type": "display_data",
          "data": {
            "text/plain": [
              "<Figure size 360x360 with 1 Axes>"
            ],
            "image/png": "[encoded data removed]"
          },
          "metadata": {
            "needs_background": "light"
          }
        }
      ],
      "source": [
        "from sklearn.metrics import confusion_matrix\n",
        "cm = confusion_matrix(y_val, preds)\n",
        "fig, ax = plt.subplots(figsize=(5, 5))\n",
        "ax.matshow(cm, cmap=plt.cm.Oranges, alpha=0.3)\n",
        "for i in range(cm.shape[0]):\n",
        "    for j in range(cm.shape[1]):\n",
        "        ax.text(x=j, y=i,s=cm[i, j], va='center', ha='center', size='xx-large')\n",
        " \n",
        "plt.xlabel('Predictions', fontsize=18)\n",
        "plt.ylabel('Actuals', fontsize=18)\n",
        "plt.title('Confusion Matrix', fontsize=18)\n",
        "plt.show()"
      ]
    },
    {
      "cell_type": "markdown",
      "metadata": {
        "id": "NxqwP1vdaG4J"
      },
      "source": [
        "True Positive (TP) = 3763; meaning 3763 positive class data points were correctly classified by the model\n",
        "\n",
        "True Negative (TN) = 22929; meaning 22929 negative class data points were correctly classified by the model\n",
        "\n",
        "False Positive (FP) = 5964; meaning 5964 negative class data points were incorrectly classified as belonging to the positive class by the model\n",
        "\n",
        "False Negative (FN) = 1826; meaning 1826 positive class data points were incorrectly classified as belonging to the negative class by the model"
      ]
    },
    {
      "cell_type": "code",
      "execution_count": null,
      "metadata": {
        "colab": {
          "base_uri": "https://localhost:8080/"
        },
        "id": "JI4pGlhZY7Ac",
        "outputId": "95314bac-4a51-4af4-99e9-3a44cc6311d4"
      },
      "outputs": [
        {
          "output_type": "stream",
          "name": "stdout",
          "text": [
            "Outcome values : \n",
            " 3763 1826 5964 22929\n",
            "------------------\n",
            "Recall: 0.67\n",
            "------------------\n",
            "Precision: 0.39\n",
            "------------------\n",
            "F1 Score: 0.49\n"
          ]
        }
      ],
      "source": [
        "from sklearn.metrics import classification_report\n",
        "from sklearn.metrics import f1_score\n",
        "from sklearn.metrics import precision_score, recall_score, f1_score, accuracy_score\n",
        "#tp, fn, fp, tn = confusion_matrix(y_val, preds)\n",
        "tp, fn, fp, tn = confusion_matrix(y_val, preds,labels=[1,0]).reshape(-1)\n",
        "print('Outcome values : \\n', tp, fn, fp, tn)\n",
        "print(\"------------------\")\n",
        "\n",
        "print('Recall: %.2f' % recall_score(y_val, preds))\n",
        "print(\"------------------\")\n",
        "print('Precision: %.2f' % precision_score(y_val, preds))\n",
        "print(\"------------------\")\n",
        "print('F1 Score: %.2f' % f1_score(y_val, preds))\n",
        "#f1_score(y_val, preds, average='weighted') \n",
        "\n",
        "#classification report for precision, recall f1-score and accuracy\n",
        "#matrix = classification_report(y_val, preds,labels=[1,0])\n",
        "#print('Classification report : \\n',matrix)"
      ]
    },
    {
      "cell_type": "markdown",
      "source": [
        "# Tune the Class Weighting Hyperparameter"
      ],
      "metadata": {
        "id": "V2HIQ2z1P3tv"
      }
    },
    {
      "cell_type": "code",
      "execution_count": null,
      "metadata": {
        "colab": {
          "base_uri": "https://localhost:8080/"
        },
        "id": "Ff8QUYJXcX0f",
        "outputId": "4eee483a-4d69-4db1-f455-8dc21912d3c6"
      },
      "outputs": [
        {
          "output_type": "stream",
          "name": "stdout",
          "text": [
            "Best: 0.811370 using {'scale_pos_weight': 5}\n",
            "0.804639 (0.003242) with: {'scale_pos_weight': 1}\n",
            "0.808186 (0.003783) with: {'scale_pos_weight': 2}\n",
            "0.810030 (0.003920) with: {'scale_pos_weight': 3}\n",
            "0.810287 (0.003769) with: {'scale_pos_weight': 4}\n",
            "0.811370 (0.003901) with: {'scale_pos_weight': 5}\n",
            "0.811041 (0.003825) with: {'scale_pos_weight': 7}\n",
            "0.810099 (0.003874) with: {'scale_pos_weight': 10}\n"
          ]
        }
      ],
      "source": [
        "from numpy import mean\n",
        "from sklearn.datasets import make_classification\n",
        "from sklearn.model_selection import GridSearchCV\n",
        "from sklearn.model_selection import RepeatedStratifiedKFold\n",
        "from xgboost import XGBClassifier\n",
        "weights = [1, 2,3,4,5,7,10]\n",
        "param_grid = dict(scale_pos_weight=weights)\n",
        "# define evaluation procedure\n",
        "cv = RepeatedStratifiedKFold(n_splits=10, n_repeats=3, random_state=1)\n",
        "# define grid search\n",
        "grid = GridSearchCV(estimator=model, param_grid=param_grid, n_jobs=-1, cv=cv, scoring='roc_auc')\n",
        "# execute the grid search\n",
        "grid_result = grid.fit(x, y)\n",
        "# report the best configuration\n",
        "print(\"Best: %f using %s\" % (grid_result.best_score_, grid_result.best_params_))\n",
        "print(\"========================\")\n",
        "# report all configurations\n",
        "means = grid_result.cv_results_['mean_test_score']\n",
        "stds = grid_result.cv_results_['std_test_score']\n",
        "params = grid_result.cv_results_['params']\n",
        "for mean, stdev, param in zip(means, stds, params):\n",
        "    print(\"%f (%f) with: %r\" % (mean, stdev, param))"
      ]
    },
    {
      "cell_type": "code",
      "execution_count": null,
      "metadata": {
        "id": "zoCsJHjDcX3v"
      },
      "outputs": [],
      "source": [
        ""
      ]
    },
    {
      "cell_type": "code",
      "execution_count": null,
      "metadata": {
        "id": "7xy6ilCXcX7a"
      },
      "outputs": [],
      "source": [
        ""
      ]
    },
    {
      "cell_type": "code",
      "execution_count": null,
      "metadata": {
        "id": "pnYImcQecX-i"
      },
      "outputs": [],
      "source": [
        ""
      ]
    },
    {
      "cell_type": "code",
      "execution_count": null,
      "metadata": {
        "id": "f7Rk2wUCcYBu"
      },
      "outputs": [],
      "source": [
        ""
      ]
    },
    {
      "cell_type": "markdown",
      "source": [
        "# Metrices result before applying stratified k fold & weighted parameter"
      ],
      "metadata": {
        "id": "y9i9mm5J1sH7"
      }
    },
    {
      "cell_type": "markdown",
      "metadata": {
        "id": "jrTkmSP8jYbn"
      },
      "source": [
        "# **Confusion matrix** \n"
      ]
    },
    {
      "cell_type": "code",
      "source": [
        "#clf = LogisticRegression(solver=\"liblinear\", random_state=0).fit(X, y)\n",
        "x = df_output.drop(['sepsisType','SepsisLabel'], axis=1) # assigning features to x, y\n",
        "y = df_output['SepsisLabel']\n",
        "x_train, x_val, y_train, y_val = train_test_split(x, y, test_size=0.2, random_state=42)\n",
        "xgb_cl = xgb.XGBClassifier(objective='binary:logistic',n_estimator=6,seed=42)\n",
        "xgb_cl.fit(x_train, y_train)\n",
        "preds = xgb_cl.predict(x_val)\n",
        "accuracy = accuracy_score(y_val, preds)\n",
        "accuracy"
      ],
      "metadata": {
        "colab": {
          "base_uri": "https://localhost:8080/"
        },
        "id": "6-InApw6CKeC",
        "outputId": "085c0d85-22f2-4fc4-bfa8-d709d092c626"
      },
      "execution_count": null,
      "outputs": [
        {
          "output_type": "execute_result",
          "data": {
            "text/plain": [
              "0.8527927614407517"
            ]
          },
          "metadata": {},
          "execution_count": 14
        }
      ]
    },
    {
      "cell_type": "code",
      "execution_count": null,
      "metadata": {
        "colab": {
          "base_uri": "https://localhost:8080/",
          "height": 358
        },
        "id": "nnPFout8N-Av",
        "outputId": "540419ff-3911-474d-c365-86851c934f7f"
      },
      "outputs": [
        {
          "output_type": "display_data",
          "data": {
            "text/plain": [
              "<Figure size 360x360 with 1 Axes>"
            ],
            "image/png": "[encoded data removed]"
          },
          "metadata": {
            "needs_background": "light"
          }
        }
      ],
      "source": [
        "from sklearn.metrics import confusion_matrix\n",
        "cm = confusion_matrix(y_val, preds)\n",
        "fig, ax = plt.subplots(figsize=(5, 5))\n",
        "ax.matshow(cm, cmap=plt.cm.Oranges, alpha=0.3)\n",
        "for i in range(cm.shape[0]):\n",
        "    for j in range(cm.shape[1]):\n",
        "        ax.text(x=j, y=i,s=cm[i, j], va='center', ha='center', size='xx-large')\n",
        " \n",
        "plt.xlabel('Predictions', fontsize=18)\n",
        "plt.ylabel('Actuals', fontsize=18)\n",
        "plt.title('Confusion Matrix', fontsize=18)\n",
        "plt.show()"
      ]
    },
    {
      "cell_type": "markdown",
      "metadata": {
        "id": "aLHquZaooI1z"
      },
      "source": [
        "True Positive (TP) = 721; meaning 721 positive class data points were correctly classified by the model\n",
        "\n",
        "True Negative (TN) = 28685; meaning 28685 negative class data points were correctly classified by the model\n",
        "\n",
        "False Positive (FP) = 208; meaning 208 negative class data points were incorrectly classified as belonging to the positive class by the model\n",
        "\n",
        "False Negative (FN) = 4868; meaning 4868 positive class data points were incorrectly classified as belonging to the negative class by the model\n"
      ]
    },
    {
      "cell_type": "markdown",
      "metadata": {
        "id": "8D8Btw4QY2gw"
      },
      "source": [
        "# Recall , Precision, F1 Score \n",
        "\n",
        "*   Precision :\n",
        "\n",
        "Precision tells us how many of the correctly predicted cases actually turned out to be positive.\n",
        "\n",
        "Model precision score represents the model’s ability to correctly predict the positives out of all the positive predictions it made. \n",
        "The precision score is a useful measure of the success of prediction when the classes are very imbalanced. Mathematically,\n",
        " it represents the ratio of true positive to the sum of true positive and false positive.\n",
        "\n",
        "Precision Score = TP / (FP + TP)\n",
        "\n",
        "For example, machine learning models are used in medical diagnosis applications \n",
        "where the doctor wants machine learning models that will not provide a label of pneumonia if the patient does not have this disease. \n",
        "Oncologists ideally want models that can identify all cancerous lesions without any false-positive results, \n",
        "and hence one could use a precision score in such cases. \n",
        "Note that a greater number of false positives will result in a lot of stress for the patients in general although that may not turn\n",
        "out to be fatal from a health perspective.\n",
        " Further tests will be able to negate the false positive prediction.\n",
        "\n",
        "* Model **recall** score represents the model’s ability to correctly predict the positives out of actual positives. \n",
        "* **F1 Score ** : It is termed as a harmonic mean of Precision and Recall and it can give us better metrics of incorrectly classified classes than the Accuracy Metric.\n",
        "\n",
        "It can be a better measure to use if we need to seek a balance between Precision and Recall\n",
        "\n",
        "\n",
        "\n"
      ]
    },
    {
      "cell_type": "code",
      "execution_count": null,
      "metadata": {
        "colab": {
          "base_uri": "https://localhost:8080/"
        },
        "id": "KKf2ud01N20m",
        "outputId": "f7161916-d0ae-4dbf-ca23-3e99ba3b9b74"
      },
      "outputs": [
        {
          "name": "stdout",
          "output_type": "stream",
          "text": [
            "Outcome values : \n",
            " 721 4868 208 28685\n",
            "------------------\n",
            "Recall: 0.13\n",
            "------------------\n",
            "Precision: 0.78\n",
            "------------------\n",
            "F1 Score: 0.22\n"
          ]
        }
      ],
      "source": [
        "from sklearn.metrics import classification_report\n",
        "from sklearn.metrics import f1_score\n",
        "from sklearn.metrics import precision_score, recall_score, f1_score, accuracy_score\n",
        "#tp, fn, fp, tn = confusion_matrix(y_val, preds)\n",
        "tp, fn, fp, tn = confusion_matrix(y_val, preds,labels=[1,0]).reshape(-1)\n",
        "print('Outcome values : \\n', tp, fn, fp, tn)\n",
        "print(\"------------------\")\n",
        "\n",
        "print('Recall: %.2f' % recall_score(y_val, preds))\n",
        "print(\"------------------\")\n",
        "print('Precision: %.2f' % precision_score(y_val, preds))\n",
        "print(\"------------------\")\n",
        "print('F1 Score: %.2f' % f1_score(y_val, preds))\n",
        "#f1_score(y_val, preds, average='weighted') \n",
        "\n",
        "#classification report for precision, recall f1-score and accuracy\n",
        "#matrix = classification_report(y_val, preds,labels=[1,0])\n",
        "#print('Classification report : \\n',matrix)"
      ]
    },
    {
      "cell_type": "code",
      "execution_count": null,
      "metadata": {
        "colab": {
          "base_uri": "https://localhost:8080/"
        },
        "id": "WrX5q2qZW83D",
        "outputId": "4b65c5ee-ae2f-4a72-88e1-4e6290f2a5ab"
      },
      "outputs": [
        {
          "data": {
            "text/plain": [
              "0.1290033995348005"
            ]
          },
          "execution_count": 10,
          "metadata": {},
          "output_type": "execute_result"
        }
      ],
      "source": [
        "# Verifing\n",
        "Recall=tp/(tp+fn)\n",
        "Recall"
      ]
    },
    {
      "cell_type": "markdown",
      "metadata": {
        "id": "RvARkcwbi-bW"
      },
      "source": [
        "#Classification report for precision, recall f1-score and accuracy"
      ]
    },
    {
      "cell_type": "code",
      "execution_count": null,
      "metadata": {
        "colab": {
          "base_uri": "https://localhost:8080/"
        },
        "id": "XGeF5oh-hqU9",
        "outputId": "98ed5ca3-3b61-43c8-d7ec-db1438e3d02d"
      },
      "outputs": [
        {
          "name": "stdout",
          "output_type": "stream",
          "text": [
            "Classification report : \n",
            "               precision    recall  f1-score   support\n",
            "\n",
            "           1       0.78      0.13      0.22      5589\n",
            "           0       0.85      0.99      0.92     28893\n",
            "\n",
            "    accuracy                           0.85     34482\n",
            "   macro avg       0.82      0.56      0.57     34482\n",
            "weighted avg       0.84      0.85      0.81     34482\n",
            "\n"
          ]
        }
      ],
      "source": [
        "#classification report for precision, recall f1-score and accuracy\n",
        "from sklearn.metrics import classification_report\n",
        "matrix = classification_report(y_val, preds,labels=[1,0])\n",
        "print('Classification report : \\n',matrix)"
      ]
    },
    {
      "cell_type": "code",
      "execution_count": null,
      "metadata": {
        "colab": {
          "base_uri": "https://localhost:8080/"
        },
        "id": "AyyA2hsb7pIq",
        "outputId": "7102d273-e014-4bf1-f7c7-7587a5e8a17e"
      },
      "outputs": [
        {
          "name": "stdout",
          "output_type": "stream",
          "text": [
            "Mean ROC AUC: 0.80464\n"
          ]
        }
      ],
      "source": [
        "from sklearn.model_selection import cross_val_score\n",
        "from sklearn.model_selection import RepeatedStratifiedKFold\n",
        "from numpy import mean\n",
        "# define evaluation procedure\n",
        "cv = RepeatedStratifiedKFold(n_splits=10, n_repeats=3, random_state=1)\n",
        "# evaluate model\n",
        "scores = cross_val_score(xgb_cl, x, y, scoring='roc_auc', cv=cv, n_jobs=-1)\n",
        "# summarize performance\n",
        "print('Mean ROC AUC: %.5f' % mean(scores))"
      ]
    },
    {
      "cell_type": "markdown",
      "metadata": {
        "id": "B8YOCqjAiwDp"
      },
      "source": [
        "#  AUC - ROC Curve\n",
        "\n",
        "AUC - ROC curve is a performance measurement for the classification problems at various threshold settings. ROC is a probability curve and AUC represents the degree or measure of separability. It tells how much the model is capable of distinguishing between classes. Higher the AUC, the better the model is at predicting 0 classes as 0 and 1 classes as 1. By analogy, the Higher the AUC, the better the model is at distinguishing between patients with the disease and no disease.\n",
        "The ROC curve is plotted with TPR against the FPR where TPR is on the y-axis and FPR is on the x-axis **bold text**."
      ]
    },
    {
      "cell_type": "code",
      "execution_count": null,
      "metadata": {
        "colab": {
          "base_uri": "https://localhost:8080/",
          "height": 295
        },
        "id": "9yFG1iJDV3bU",
        "outputId": "e09445b1-0cf6-4b3b-a5c3-c50f32e665d5"
      },
      "outputs": [
        {
          "data": {
            "image/png": "[encoded data removed]",
            "text/plain": [
              "<Figure size 432x288 with 1 Axes>"
            ]
          },
          "metadata": {},
          "output_type": "display_data"
        }
      ],
      "source": [
        "from sklearn import metrics\n",
        "#use model to predict probability that given y value is 1\n",
        "y_preds = xgb_cl.predict_proba(x_val)\n",
        "# take the second column because the classifier outputs scores for\n",
        "# the 0 class as well\n",
        "predss = y_preds[:,1]\n",
        "\n",
        "#ns_probs = [0 for _ in range(len(testy))]\n",
        "#ns_auc = roc_auc_score(testy, ns_probs)\n",
        "#pyplot.plot(ns_fpr, ns_tpr, linestyle='--', label='No Skill')\n",
        "#pyplot.plot(lr_fpr, lr_tpr, marker='.', label='Logistic')\n",
        "\n",
        "#calculate AUC of model\n",
        "auc = metrics.roc_auc_score(y_val, predss)\n",
        "\n",
        "# fpr means false-positive-rate\n",
        "# tpr means true-positive-rate\n",
        "fpr, tpr, _ = metrics.roc_curve(y_val, predss)\n",
        "\n",
        "#auc_score = metrics.auc(fpr, tpr)\n",
        "\n",
        "# clear current figure\n",
        "#plt.clf()\n",
        "\n",
        "plt.title('ROC Curve')\n",
        "plt.plot(fpr, tpr, label='AUC = {:.2f}'.format(auc))\n",
        "\n",
        "plt.plot([0,1],[0,1],'r--')\n",
        "\n",
        "plt.xlim([-0.1,1.1])\n",
        "plt.ylim([-0.1,1.1])\n",
        "plt.ylabel('True Positive Rate')\n",
        "plt.xlabel('False Positive Rate')\n",
        "\n",
        "plt.legend(loc='lower right')\n",
        "plt.show()"
      ]
    },
    {
      "cell_type": "code",
      "execution_count": null,
      "metadata": {
        "colab": {
          "base_uri": "https://localhost:8080/",
          "height": 218
        },
        "id": "l0PpSIBTE4Oe",
        "outputId": "3c06481a-dcf5-40aa-a58f-5c0e1b4161ee"
      },
      "outputs": [
        {
          "data": {
            "image/png": "[encoded data removed]",
            "text/plain": [
              "<Figure size 2520x360 with 1 Axes>"
            ]
          },
          "metadata": {},
          "output_type": "display_data"
        }
      ],
      "source": [
        "import matplotlib.pyplot as plt\n",
        "importance_data = sorted(list(zip(df_output.columns,xgb_cl.feature_importances_)),key=lambda tpl:tpl[1],reverse=True)\n",
        "\n",
        "xs = range(len(importance_data))\n",
        "labels = [x for (x,_) in importance_data]\n",
        "ys = [y for (_,y) in importance_data]\n",
        "\n",
        "# plot\n",
        "#plt.xgb_cl()\n",
        "#fig = plt.figure()\n",
        "fig = plt.figure()\n",
        "\n",
        "fig.set_figheight(5)\n",
        "fig.set_figwidth(35)\n",
        "\n",
        "plt.bar(xs,ys,width=0.6)\n",
        "plt.xticks(xs,labels)\n",
        "plt.show()"
      ]
    },
    {
      "cell_type": "code",
      "execution_count": null,
      "metadata": {
        "colab": {
          "base_uri": "https://localhost:8080/",
          "height": 295
        },
        "id": "Vvgn0TeFVzuR",
        "outputId": "4540101d-9381-4a3d-bf7e-431ca65302aa"
      },
      "outputs": [
        {
          "data": {
            "image/png": "[encoded data removed]",
            "text/plain": [
              "<Figure size 432x288 with 1 Axes>"
            ]
          },
          "metadata": {},
          "output_type": "display_data"
        }
      ],
      "source": [
        "from sklearn import metrics\n",
        "from sklearn.metrics import roc_auc_score\n",
        "from sklearn.metrics import roc_curve\n",
        "from matplotlib import pyplot\n",
        "#use model to predict probability that given y value is 1\n",
        "y_preds = xgb_cl.predict_proba(x_val)\n",
        "# take the second column because the classifier outputs scores for\n",
        "# the 0 class as well\n",
        "predss = y_preds[:,1]\n",
        "\n",
        "ns_probs = [0 for _ in range(len(y_val))]\n",
        "ns_auc = roc_auc_score(y_val, ns_probs)\n",
        "ns_fpr, ns_tpr, _ = roc_curve(y_val, ns_probs)\n",
        "pyplot.plot(ns_fpr, ns_tpr, linestyle='--', label='No Skill')\n",
        "#pyplot.plot(lr_fpr, lr_tpr, marker='.', label='Logistic')\n",
        "\n",
        "#calculate AUC of model\n",
        "auc = metrics.roc_auc_score(y_val, predss)\n",
        "\n",
        "# fpr means false-positive-rate\n",
        "# tpr means true-positive-rate\n",
        "fpr, tpr, _ = metrics.roc_curve(y_val, predss)\n",
        "\n",
        "#auc_score = metrics.auc(fpr, tpr)\n",
        "\n",
        "# clear current figure\n",
        "#plt.clf()\n",
        "\n",
        "plt.title('ROC Curve')\n",
        "plt.plot(fpr, tpr, label='AUC = {:.2f}'.format(auc))\n",
        "\n",
        "#plt.plot([0,1],[0,1],'r--')\n",
        "\n",
        "plt.xlim([-0.1,1.1])\n",
        "plt.ylim([-0.1,1.1])\n",
        "plt.ylabel('True Positive Rate')\n",
        "plt.xlabel('False Positive Rate')\n",
        "\n",
        "plt.legend(loc='lower right')\n",
        "plt.show()"
      ]
    },
    {
      "cell_type": "markdown",
      "metadata": {
        "id": "vT3Dt_vXiCWY"
      },
      "source": [
        "So our model's AUC is 0.81, it means there is a 81% chance that the model will be able to distinguish between positive class and negative class."
      ]
    },
    {
      "cell_type": "markdown",
      "metadata": {
        "id": "7Vt_U9DUxN6j"
      },
      "source": [
        "Analysis \n",
        "\n",
        "-->Our model, XGBoost's ability to distinguish between positive class and negative class is 81%\n",
        "\n",
        "-->Model’s ability to correctly predict the positives out of actual positives is not good.\n",
        "\n",
        "--> This model correctly predict the positives out of all the positive predictions"
      ]
    }
  ],
  "metadata": {
    "accelerator": "GPU",
    "colab": {
      "collapsed_sections": [],
      "name": "Performance Metrices with stratified k fold.ipynb",
      "provenance": []
    },
    "kernelspec": {
      "display_name": "Python 3",
      "name": "python3"
    },
    "language_info": {
      "name": "python"
    }
  },
  "nbformat": 4,
  "nbformat_minor": 0
}