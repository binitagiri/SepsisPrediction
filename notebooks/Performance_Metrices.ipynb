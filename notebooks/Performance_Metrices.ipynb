{
  "cells": [
    {
      "cell_type": "code",
      "execution_count": 1,
      "metadata": {
        "colab": {
          "base_uri": "https://localhost:8080/"
        },
        "id": "UNlmO7GsR05T",
        "outputId": "45797806-13d5-4c3b-9471-5177b497e7f6"
      },
      "outputs": [
        {
          "output_type": "stream",
          "name": "stdout",
          "text": [
            "Mounted at /content/drive\n"
          ]
        }
      ],
      "source": [
        "#Mounting the google drive\n",
        "from google.colab import drive\n",
        "drive.mount('/content/drive')\n",
        "Path='drive/My Drive'"
      ]
    },
    {
      "cell_type": "code",
      "execution_count": 2,
      "metadata": {
        "id": "3lzMmXtjR27X"
      },
      "outputs": [],
      "source": [
        "import pandas as pd\n",
        "import numpy as np\n",
        "import seaborn as snb\n",
        "import matplotlib.pyplot as plt"
      ]
    },
    {
      "cell_type": "code",
      "execution_count": 3,
      "metadata": {
        "id": "FFLcu5maR3F2"
      },
      "outputs": [],
      "source": [
        "df=pd.read_csv(Path+'/septic_patients_data_alone.csv')"
      ]
    },
    {
      "cell_type": "code",
      "execution_count": null,
      "metadata": {
        "id": "7Fwp5K06txNU"
      },
      "outputs": [],
      "source": [
        "#df=df.drop(columns=['EtCO2', 'Bilirubin_direct','TroponinI','Fibrinogen','sepsisType','Unit1','Unit2'])\n",
        "#df=df.drop(columns=['sepsisType'])\n",
        "       "
      ]
    },
    {
      "cell_type": "markdown",
      "source": [
        "# **Imputing** **the Null's using Interpolation**"
      ],
      "metadata": {
        "id": "T1ZnFheojfth"
      }
    },
    {
      "cell_type": "code",
      "source": [
        "PIdArray=df['Patient_ID'].unique()\n",
        "df_output=pd.DataFrame()\n",
        "for i in PIdArray:\n",
        "    df_new=df[df['Patient_ID']==i].interpolate(limit_direction='both')\n",
        "    df_output=df_output.append(df_new)"
      ],
      "metadata": {
        "id": "QmZs4Ny1vo2J"
      },
      "execution_count": 4,
      "outputs": []
    },
    {
      "cell_type": "code",
      "source": [
        "df_output.isnull().sum()"
      ],
      "metadata": {
        "colab": {
          "base_uri": "https://localhost:8080/"
        },
        "id": "DBRI2MnaXaoc",
        "outputId": "f48b24e1-e17c-4bf2-c4b7-93e8833e5323"
      },
      "execution_count": 18,
      "outputs": [
        {
          "output_type": "execute_result",
          "data": {
            "text/plain": [
              "Unnamed: 0               0\n",
              "Unnamed: 0.1             0\n",
              "Hour                     0\n",
              "HR                       0\n",
              "O2Sat                   24\n",
              "Temp                   785\n",
              "SBP                   3480\n",
              "MAP                      0\n",
              "DBP                  17495\n",
              "Resp                   497\n",
              "EtCO2               134045\n",
              "BaseExcess           67325\n",
              "HCO3                 62739\n",
              "FiO2                 24645\n",
              "pH                   23026\n",
              "PaCO2                23826\n",
              "SaO2                 63600\n",
              "AST                  60546\n",
              "BUN                   2009\n",
              "Alkalinephos         61019\n",
              "Calcium               3803\n",
              "Chloride             52820\n",
              "Creatinine            2060\n",
              "Bilirubin_direct    144898\n",
              "Glucose               1268\n",
              "Lactate              45797\n",
              "Magnesium             3699\n",
              "Phosphate            12899\n",
              "Potassium             1572\n",
              "Bilirubin_total      60792\n",
              "TroponinI           141165\n",
              "Hct                   2163\n",
              "Hgb                   2424\n",
              "PTT                  42354\n",
              "WBC                   2662\n",
              "Fibrinogen          125159\n",
              "Platelets             2648\n",
              "Age                      0\n",
              "Gender                   0\n",
              "Unit1                84950\n",
              "Unit2                84950\n",
              "HospAdmTime              0\n",
              "ICULOS                   0\n",
              "SepsisLabel              0\n",
              "Patient_ID               0\n",
              "sepsisType               0\n",
              "dtype: int64"
            ]
          },
          "metadata": {},
          "execution_count": 18
        }
      ]
    },
    {
      "cell_type": "code",
      "source": [
        "from sklearn.model_selection import train_test_split\n",
        "import xgboost as xgb\n",
        "from sklearn.metrics import accuracy_score"
      ],
      "metadata": {
        "id": "IEXZVbPPMLi8"
      },
      "execution_count": 5,
      "outputs": []
    },
    {
      "cell_type": "code",
      "source": [
        "#clf = LogisticRegression(solver=\"liblinear\", random_state=0).fit(X, y)\n",
        "x = df_output.drop(['sepsisType','SepsisLabel'], axis=1) # assigning features to x, y\n",
        "y = df_output['SepsisLabel']\n",
        "x_train, x_val, y_train, y_val = train_test_split(x, y, test_size=0.2, random_state=42)\n",
        "xgb_cl = xgb.XGBClassifier(objective='binary:logistic',n_estimator=6,seed=42)\n",
        "xgb_cl.fit(x_train, y_train)\n",
        "preds = xgb_cl.predict(x_val)\n",
        "accuracy = accuracy_score(y_val, preds)\n",
        "accuracy"
      ],
      "metadata": {
        "colab": {
          "base_uri": "https://localhost:8080/"
        },
        "id": "VkEt3DbdMjRc",
        "outputId": "f3e5f51f-a5e5-46fb-d57b-4aba796aed55"
      },
      "execution_count": 6,
      "outputs": [
        {
          "output_type": "execute_result",
          "data": {
            "text/plain": [
              "0.8527927614407517"
            ]
          },
          "metadata": {},
          "execution_count": 6
        }
      ]
    },
    {
      "cell_type": "markdown",
      "source": [
        "# **Confusion matrix** \n"
      ],
      "metadata": {
        "id": "jrTkmSP8jYbn"
      }
    },
    {
      "cell_type": "code",
      "source": [
        "from sklearn.metrics import confusion_matrix\n",
        "cm = confusion_matrix(y_val, preds)\n",
        "fig, ax = plt.subplots(figsize=(5, 5))\n",
        "ax.matshow(cm, cmap=plt.cm.Oranges, alpha=0.3)\n",
        "for i in range(cm.shape[0]):\n",
        "    for j in range(cm.shape[1]):\n",
        "        ax.text(x=j, y=i,s=cm[i, j], va='center', ha='center', size='xx-large')\n",
        " \n",
        "plt.xlabel('Predictions', fontsize=18)\n",
        "plt.ylabel('Actuals', fontsize=18)\n",
        "plt.title('Confusion Matrix', fontsize=18)\n",
        "plt.show()"
      ],
      "metadata": {
        "colab": {
          "base_uri": "https://localhost:8080/",
          "height": 358
        },
        "id": "nnPFout8N-Av",
        "outputId": "d906b57e-d59a-4779-9faa-5cfb10b81ce4"
      },
      "execution_count": 7,
      "outputs": [
        {
          "output_type": "display_data",
          "data": {
            "image/png": "[encoded data removed]",
            "text/plain": [
              "<Figure size 360x360 with 1 Axes>"
            ]
          },
          "metadata": {
            "needs_background": "light"
          }
        }
      ]
    },
    {
      "cell_type": "markdown",
      "source": [
        "True Positive (TP) = 721; meaning 721 positive class data points were correctly classified by the model\n",
        "\n",
        "True Negative (TN) = 28685; meaning 28685 negative class data points were correctly classified by the model\n",
        "\n",
        "False Positive (FP) = 208; meaning 208 negative class data points were incorrectly classified as belonging to the positive class by the model\n",
        "\n",
        "False Negative (FN) = 4868; meaning 4868 positive class data points were incorrectly classified as belonging to the negative class by the model\n"
      ],
      "metadata": {
        "id": "aLHquZaooI1z"
      }
    },
    {
      "cell_type": "markdown",
      "source": [
        "# Recall , Precision, F1 Score \n",
        "\n",
        "*   Precision :\n",
        "\n",
        "Precision tells us how many of the correctly predicted cases actually turned out to be positive.\n",
        "\n",
        "Model precision score represents the model’s ability to correctly predict the positives out of all the positive predictions it made. \n",
        "The precision score is a useful measure of the success of prediction when the classes are very imbalanced. Mathematically,\n",
        " it represents the ratio of true positive to the sum of true positive and false positive.\n",
        "\n",
        "Precision Score = TP / (FP + TP)\n",
        "\n",
        "For example, machine learning models are used in medical diagnosis applications \n",
        "where the doctor wants machine learning models that will not provide a label of pneumonia if the patient does not have this disease. \n",
        "Oncologists ideally want models that can identify all cancerous lesions without any false-positive results, \n",
        "and hence one could use a precision score in such cases. \n",
        "Note that a greater number of false positives will result in a lot of stress for the patients in general although that may not turn\n",
        "out to be fatal from a health perspective.\n",
        " Further tests will be able to negate the false positive prediction.\n",
        "\n",
        "* Model **recall** score represents the model’s ability to correctly predict the positives out of actual positives. \n",
        "* **F1 Score ** : It is termed as a harmonic mean of Precision and Recall and it can give us better metrics of incorrectly classified classes than the Accuracy Metric.\n",
        "\n",
        "It can be a better measure to use if we need to seek a balance between Precision and Recall\n",
        "\n",
        "\n",
        "\n"
      ],
      "metadata": {
        "id": "8D8Btw4QY2gw"
      }
    },
    {
      "cell_type": "code",
      "source": [
        "from sklearn.metrics import classification_report\n",
        "from sklearn.metrics import f1_score\n",
        "from sklearn.metrics import precision_score, recall_score, f1_score, accuracy_score\n",
        "#tp, fn, fp, tn = confusion_matrix(y_val, preds)\n",
        "tp, fn, fp, tn = confusion_matrix(y_val, preds,labels=[1,0]).reshape(-1)\n",
        "print('Outcome values : \\n', tp, fn, fp, tn)\n",
        "print(\"------------------\")\n",
        "\n",
        "print('Recall: %.2f' % recall_score(y_val, preds))\n",
        "print(\"------------------\")\n",
        "print('Precision: %.2f' % precision_score(y_val, preds))\n",
        "print(\"------------------\")\n",
        "print('F1 Score: %.2f' % f1_score(y_val, preds))\n",
        "#f1_score(y_val, preds, average='weighted') \n",
        "\n",
        "#classification report for precision, recall f1-score and accuracy\n",
        "#matrix = classification_report(y_val, preds,labels=[1,0])\n",
        "#print('Classification report : \\n',matrix)"
      ],
      "metadata": {
        "colab": {
          "base_uri": "https://localhost:8080/"
        },
        "id": "KKf2ud01N20m",
        "outputId": "0152aa31-c169-48c5-f20d-c610cfb87d70"
      },
      "execution_count": 8,
      "outputs": [
        {
          "output_type": "stream",
          "name": "stdout",
          "text": [
            "Outcome values : \n",
            " 721 4868 208 28685\n",
            "------------------\n",
            "Recall: 0.13\n",
            "------------------\n",
            "Precision: 0.78\n",
            "------------------\n",
            "F1 Score: 0.22\n"
          ]
        }
      ]
    },
    {
      "cell_type": "code",
      "source": [
        "# Verifing\n",
        "Recall=tp/(tp+fn)\n",
        "Recall"
      ],
      "metadata": {
        "colab": {
          "base_uri": "https://localhost:8080/"
        },
        "id": "WrX5q2qZW83D",
        "outputId": "8fe8e07c-51d6-4240-95e1-ac6f328dcbef"
      },
      "execution_count": 9,
      "outputs": [
        {
          "output_type": "execute_result",
          "data": {
            "text/plain": [
              "0.1290033995348005"
            ]
          },
          "metadata": {},
          "execution_count": 9
        }
      ]
    },
    {
      "cell_type": "markdown",
      "source": [
        "#Classification report for precision, recall f1-score and accuracy"
      ],
      "metadata": {
        "id": "RvARkcwbi-bW"
      }
    },
    {
      "cell_type": "code",
      "source": [
        "#classification report for precision, recall f1-score and accuracy\n",
        "from sklearn.metrics import classification_report\n",
        "matrix = classification_report(y_val, preds,labels=[1,0])\n",
        "print('Classification report : \\n',matrix)"
      ],
      "metadata": {
        "colab": {
          "base_uri": "https://localhost:8080/"
        },
        "id": "XGeF5oh-hqU9",
        "outputId": "5a24f835-903c-4a7a-cd9d-b76441227268"
      },
      "execution_count": 10,
      "outputs": [
        {
          "output_type": "stream",
          "name": "stdout",
          "text": [
            "Classification report : \n",
            "               precision    recall  f1-score   support\n",
            "\n",
            "           1       0.78      0.13      0.22      5589\n",
            "           0       0.85      0.99      0.92     28893\n",
            "\n",
            "    accuracy                           0.85     34482\n",
            "   macro avg       0.82      0.56      0.57     34482\n",
            "weighted avg       0.84      0.85      0.81     34482\n",
            "\n"
          ]
        }
      ]
    },
    {
      "cell_type": "markdown",
      "source": [
        "#  AUC - ROC Curve\n",
        "\n",
        "AUC - ROC curve is a performance measurement for the classification problems at various threshold settings. ROC is a probability curve and AUC represents the degree or measure of separability. It tells how much the model is capable of distinguishing between classes. Higher the AUC, the better the model is at predicting 0 classes as 0 and 1 classes as 1. By analogy, the Higher the AUC, the better the model is at distinguishing between patients with the disease and no disease.\n",
        "The ROC curve is plotted with TPR against the FPR where TPR is on the y-axis and FPR is on the x-axis **bold text**."
      ],
      "metadata": {
        "id": "B8YOCqjAiwDp"
      }
    },
    {
      "cell_type": "code",
      "source": [
        "from sklearn import metrics\n",
        "#use model to predict probability that given y value is 1\n",
        "y_preds = xgb_cl.predict_proba(x_val)\n",
        "# take the second column because the classifier outputs scores for\n",
        "# the 0 class as well\n",
        "predss = y_preds[:,1]\n",
        "\n",
        "#ns_probs = [0 for _ in range(len(testy))]\n",
        "#ns_auc = roc_auc_score(testy, ns_probs)\n",
        "#pyplot.plot(ns_fpr, ns_tpr, linestyle='--', label='No Skill')\n",
        "#pyplot.plot(lr_fpr, lr_tpr, marker='.', label='Logistic')\n",
        "\n",
        "#calculate AUC of model\n",
        "auc = metrics.roc_auc_score(y_val, predss)\n",
        "\n",
        "# fpr means false-positive-rate\n",
        "# tpr means true-positive-rate\n",
        "fpr, tpr, _ = metrics.roc_curve(y_val, predss)\n",
        "\n",
        "#auc_score = metrics.auc(fpr, tpr)\n",
        "\n",
        "# clear current figure\n",
        "#plt.clf()\n",
        "\n",
        "plt.title('ROC Curve')\n",
        "plt.plot(fpr, tpr, label='AUC = {:.2f}'.format(auc))\n",
        "\n",
        "plt.plot([0,1],[0,1],'r--')\n",
        "\n",
        "plt.xlim([-0.1,1.1])\n",
        "plt.ylim([-0.1,1.1])\n",
        "plt.ylabel('True Positive Rate')\n",
        "plt.xlabel('False Positive Rate')\n",
        "\n",
        "plt.legend(loc='lower right')\n",
        "plt.show()"
      ],
      "metadata": {
        "colab": {
          "base_uri": "https://localhost:8080/",
          "height": 295
        },
        "id": "9yFG1iJDV3bU",
        "outputId": "74b3a038-f11b-4539-9a1e-0fa2d1dfedc3"
      },
      "execution_count": 12,
      "outputs": [
        {
          "output_type": "display_data",
          "data": {
            "image/png": "[encoded data removed]",
            "text/plain": [
              "<Figure size 432x288 with 1 Axes>"
            ]
          },
          "metadata": {
            "needs_background": "light"
          }
        }
      ]
    },
    {
      "cell_type": "code",
      "source": [
        "from sklearn import metrics\n",
        "from sklearn.metrics import roc_auc_score\n",
        "from sklearn.metrics import roc_curve\n",
        "from matplotlib import pyplot\n",
        "#use model to predict probability that given y value is 1\n",
        "y_preds = xgb_cl.predict_proba(x_val)\n",
        "# take the second column because the classifier outputs scores for\n",
        "# the 0 class as well\n",
        "predss = y_preds[:,1]\n",
        "\n",
        "ns_probs = [0 for _ in range(len(y_val))]\n",
        "ns_auc = roc_auc_score(y_val, ns_probs)\n",
        "ns_fpr, ns_tpr, _ = roc_curve(y_val, ns_probs)\n",
        "pyplot.plot(ns_fpr, ns_tpr, linestyle='--', label='No Skill')\n",
        "#pyplot.plot(lr_fpr, lr_tpr, marker='.', label='Logistic')\n",
        "\n",
        "#calculate AUC of model\n",
        "auc = metrics.roc_auc_score(y_val, predss)\n",
        "\n",
        "# fpr means false-positive-rate\n",
        "# tpr means true-positive-rate\n",
        "fpr, tpr, _ = metrics.roc_curve(y_val, predss)\n",
        "\n",
        "#auc_score = metrics.auc(fpr, tpr)\n",
        "\n",
        "# clear current figure\n",
        "#plt.clf()\n",
        "\n",
        "plt.title('ROC Curve')\n",
        "plt.plot(fpr, tpr, label='AUC = {:.2f}'.format(auc))\n",
        "\n",
        "#plt.plot([0,1],[0,1],'r--')\n",
        "\n",
        "plt.xlim([-0.1,1.1])\n",
        "plt.ylim([-0.1,1.1])\n",
        "plt.ylabel('True Positive Rate')\n",
        "plt.xlabel('False Positive Rate')\n",
        "\n",
        "plt.legend(loc='lower right')\n",
        "plt.show()"
      ],
      "metadata": {
        "colab": {
          "base_uri": "https://localhost:8080/",
          "height": 295
        },
        "id": "Vvgn0TeFVzuR",
        "outputId": "4540101d-9381-4a3d-bf7e-431ca65302aa"
      },
      "execution_count": 17,
      "outputs": [
        {
          "output_type": "display_data",
          "data": {
            "image/png": "[encoded data removed]",
            "text/plain": [
              "<Figure size 432x288 with 1 Axes>"
            ]
          },
          "metadata": {
            "needs_background": "light"
          }
        }
      ]
    },
    {
      "cell_type": "markdown",
      "source": [
        "So our model's AUC is 0.81, it means there is a 81% chance that the model will be able to distinguish between positive class and negative class."
      ],
      "metadata": {
        "id": "vT3Dt_vXiCWY"
      }
    },
    {
      "cell_type": "markdown",
      "source": [
        "Analysis \n",
        "\n",
        "-->Our model, XGBoost's ability to distinguish between positive class and negative class is 81%\n",
        "\n",
        "-->Model’s ability to correctly predict the positives out of actual positives is not good.\n",
        "\n",
        "--> This model correctly predict the positives out of all the positive predictions"
      ],
      "metadata": {
        "id": "7Vt_U9DUxN6j"
      }
    }
  ],
  "metadata": {
    "colab": {
      "name": "Performance Metrices.ipynb",
      "provenance": [],
      "collapsed_sections": []
    },
    "kernelspec": {
      "display_name": "Python 3",
      "name": "python3"
    },
    "language_info": {
      "name": "python"
    },
    "accelerator": "GPU"
  },
  "nbformat": 4,
  "nbformat_minor": 0
}