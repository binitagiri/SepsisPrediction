{
  "cells": [
    {
      "cell_type": "markdown",
      "source": [
        "# Connecting to Google Drive "
      ],
      "metadata": {
        "id": "mxzlVlg17mJH"
      }
    },
    {
      "cell_type": "code",
      "execution_count": null,
      "metadata": {
        "colab": {
          "base_uri": "https://localhost:8080/"
        },
        "id": "o_OM2KNJUprh",
        "outputId": "10837469-e7fd-4bd4-94ff-8e42f20991dc"
      },
      "outputs": [
        {
          "output_type": "stream",
          "name": "stdout",
          "text": [
            "Mounted at /content/drive\n"
          ]
        }
      ],
      "source": [
        "#DATA THE DATA TO YOUR DRIVE \n",
        "# we need find a way to import the data. If someone can push train.csv to main github it will work. I have problem in working with git.\n",
        "from google.colab import drive\n",
        "drive.mount('/content/drive')"
      ]
    },
    {
      "cell_type": "markdown",
      "source": [
        "# Change to directory in Drive where datasets are located"
      ],
      "metadata": {
        "id": "X3J0NeQF77mr"
      }
    },
    {
      "cell_type": "code",
      "source": [
        "#cd '/content/drive/MyDrive/datasets' #after connecting to drive and change file path\n",
        "import os\n",
        "os.chdir('/content/drive/MyDrive/Datascience')"
      ],
      "metadata": {
        "id": "n53SS-UxTlk1"
      },
      "execution_count": null,
      "outputs": []
    },
    {
      "cell_type": "markdown",
      "source": [
        "#Importing Libraries"
      ],
      "metadata": {
        "id": "Yo7MsofI8Ywu"
      }
    },
    {
      "cell_type": "code",
      "execution_count": null,
      "metadata": {
        "id": "4zYEEhfbU2F7"
      },
      "outputs": [],
      "source": [
        "#Import the required libraries\n",
        "import pandas as pd\n",
        "import matplotlib as plt\n",
        "import seaborn as snb\n",
        "import numpy as np\n",
        "%matplotlib inline\n",
        "\n",
        "from sklearn.model_selection import train_test_split\n",
        "import xgboost as xgb\n",
        "from sklearn.metrics import accuracy_score"
      ]
    },
    {
      "cell_type": "markdown",
      "source": [
        "# Dataset with all patients (with 40336 patients)"
      ],
      "metadata": {
        "id": "ljPyFXNe9NCe"
      }
    },
    {
      "cell_type": "code",
      "source": [
        "#Original dataset\n",
        "df=pd.read_csv(\"Dataset.csv\")"
      ],
      "metadata": {
        "id": "YQHhp0V53Y84"
      },
      "execution_count": null,
      "outputs": []
    },
    {
      "cell_type": "code",
      "source": [
        "df.columns"
      ],
      "metadata": {
        "colab": {
          "base_uri": "https://localhost:8080/"
        },
        "id": "AnBy-lUNjQJ0",
        "outputId": "a0e25ee0-2332-493c-ef2f-c61df71f8616"
      },
      "execution_count": null,
      "outputs": [
        {
          "output_type": "execute_result",
          "data": {
            "text/plain": [
              "Index(['Unnamed: 0', 'Hour', 'HR', 'O2Sat', 'Temp', 'SBP', 'MAP', 'DBP',\n",
              "       'Resp', 'EtCO2', 'BaseExcess', 'HCO3', 'FiO2', 'pH', 'PaCO2', 'SaO2',\n",
              "       'AST', 'BUN', 'Alkalinephos', 'Calcium', 'Chloride', 'Creatinine',\n",
              "       'Bilirubin_direct', 'Glucose', 'Lactate', 'Magnesium', 'Phosphate',\n",
              "       'Potassium', 'Bilirubin_total', 'TroponinI', 'Hct', 'Hgb', 'PTT', 'WBC',\n",
              "       'Fibrinogen', 'Platelets', 'Age', 'Gender', 'Unit1', 'Unit2',\n",
              "       'HospAdmTime', 'ICULOS', 'SepsisLabel', 'Patient_ID'],\n",
              "      dtype='object')"
            ]
          },
          "metadata": {},
          "execution_count": 5
        }
      ]
    },
    {
      "cell_type": "markdown",
      "source": [
        "# Dataset with septic patients (with 2932 patients)"
      ],
      "metadata": {
        "id": "KH814iDS9SmX"
      }
    },
    {
      "cell_type": "code",
      "execution_count": null,
      "metadata": {
        "id": "3nMIh979U5dl"
      },
      "outputs": [],
      "source": [
        "#Sepsis Only DataSet\n",
        "df_sepsis_only_dataset=pd.read_csv(\"septic_patients_data_alone_df.csv\")"
      ]
    },
    {
      "cell_type": "code",
      "source": [
        "df_sepsis_only_dataset.columns"
      ],
      "metadata": {
        "colab": {
          "base_uri": "https://localhost:8080/"
        },
        "id": "Bsz80KAhxUcS",
        "outputId": "9b05cb3a-5e2f-486c-be82-0e5adac0c15e"
      },
      "execution_count": null,
      "outputs": [
        {
          "output_type": "execute_result",
          "data": {
            "text/plain": [
              "Index(['Unnamed: 0', 'Unnamed: 0.1', 'Hour', 'HR', 'O2Sat', 'Temp', 'SBP',\n",
              "       'MAP', 'DBP', 'Resp', 'EtCO2', 'BaseExcess', 'HCO3', 'FiO2', 'pH',\n",
              "       'PaCO2', 'SaO2', 'AST', 'BUN', 'Alkalinephos', 'Calcium', 'Chloride',\n",
              "       'Creatinine', 'Bilirubin_direct', 'Glucose', 'Lactate', 'Magnesium',\n",
              "       'Phosphate', 'Potassium', 'Bilirubin_total', 'TroponinI', 'Hct', 'Hgb',\n",
              "       'PTT', 'WBC', 'Fibrinogen', 'Platelets', 'Age', 'Gender', 'Unit1',\n",
              "       'Unit2', 'HospAdmTime', 'ICULOS', 'SepsisLabel', 'Patient_ID',\n",
              "       'sepsisType'],\n",
              "      dtype='object')"
            ]
          },
          "metadata": {},
          "execution_count": 8
        }
      ]
    },
    {
      "cell_type": "markdown",
      "source": [
        "# Dataset with septic patients imputed with MICE (with 2932 patients)\n",
        "\n"
      ],
      "metadata": {
        "id": "QJyoyMWM-Elb"
      }
    },
    {
      "cell_type": "code",
      "source": [
        "#MICE DataSet\n",
        "df_MICE=pd.read_csv(\"sepsis_patients_MICE.csv\")"
      ],
      "metadata": {
        "id": "rhnORZHGqkPu"
      },
      "execution_count": null,
      "outputs": []
    },
    {
      "cell_type": "code",
      "source": [
        "df_MICE.columns"
      ],
      "metadata": {
        "colab": {
          "base_uri": "https://localhost:8080/"
        },
        "id": "3XibYMzhja5A",
        "outputId": "1b054ac8-1baf-49f8-e49a-7034331e7804"
      },
      "execution_count": null,
      "outputs": [
        {
          "output_type": "execute_result",
          "data": {
            "text/plain": [
              "Index(['Unnamed: 0', 'Unnamed: 0.1', 'Hour', 'HR', 'O2Sat', 'Temp', 'SBP',\n",
              "       'MAP', 'DBP', 'Resp', 'EtCO2', 'BaseExcess', 'HCO3', 'FiO2', 'pH',\n",
              "       'PaCO2', 'SaO2', 'AST', 'BUN', 'Alkalinephos', 'Calcium', 'Chloride',\n",
              "       'Creatinine', 'Bilirubin_direct', 'Glucose', 'Lactate', 'Magnesium',\n",
              "       'Phosphate', 'Potassium', 'Bilirubin_total', 'TroponinI', 'Hct', 'Hgb',\n",
              "       'PTT', 'WBC', 'Fibrinogen', 'Platelets', 'Age', 'Gender', 'Unit1',\n",
              "       'Unit2', 'HospAdmTime', 'ICULOS', 'SepsisLabel', 'Patient_ID',\n",
              "       'sepsisType'],\n",
              "      dtype='object')"
            ]
          },
          "metadata": {},
          "execution_count": 12
        }
      ]
    },
    {
      "cell_type": "markdown",
      "source": [
        "# Dataset with septic patients imputed with Linear Interpolation (with 2932 patients)"
      ],
      "metadata": {
        "id": "NP7SETci-NaY"
      }
    },
    {
      "cell_type": "code",
      "source": [
        "#Interpolated DataSet\n",
        "df_interpolation=pd.read_csv(\"InterpolateWithNull.csv\")"
      ],
      "metadata": {
        "id": "WbAKMkRWqljH"
      },
      "execution_count": null,
      "outputs": []
    },
    {
      "cell_type": "code",
      "source": [
        "df_interpolation.columns"
      ],
      "metadata": {
        "colab": {
          "base_uri": "https://localhost:8080/"
        },
        "id": "U-Pd4s6tjfZA",
        "outputId": "cb37bdd5-30cd-4f19-b417-2c39b5e814e5"
      },
      "execution_count": null,
      "outputs": [
        {
          "output_type": "execute_result",
          "data": {
            "text/plain": [
              "Index(['Unnamed: 0', 'Unnamed: 0.1', 'Unnamed: 0.1.1', 'Hour', 'HR', 'O2Sat',\n",
              "       'Temp', 'SBP', 'MAP', 'DBP', 'Resp', 'EtCO2', 'BaseExcess', 'HCO3',\n",
              "       'FiO2', 'pH', 'PaCO2', 'SaO2', 'AST', 'BUN', 'Alkalinephos', 'Calcium',\n",
              "       'Chloride', 'Creatinine', 'Bilirubin_direct', 'Glucose', 'Lactate',\n",
              "       'Magnesium', 'Phosphate', 'Potassium', 'Bilirubin_total', 'TroponinI',\n",
              "       'Hct', 'Hgb', 'PTT', 'WBC', 'Fibrinogen', 'Platelets', 'Age', 'Gender',\n",
              "       'Unit1', 'Unit2', 'HospAdmTime', 'ICULOS', 'SepsisLabel', 'Patient_ID',\n",
              "       'sepsisType'],\n",
              "      dtype='object')"
            ]
          },
          "metadata": {},
          "execution_count": 13
        }
      ]
    },
    {
      "cell_type": "markdown",
      "source": [
        "# Dataset with septic patients imputed with KNN (with 2932 patients)"
      ],
      "metadata": {
        "id": "988JsJhm-TBT"
      }
    },
    {
      "cell_type": "code",
      "source": [
        "#knn dataset\n",
        "df_knn=pd.read_csv(\"KNN_IMPUTE_FINALL.csv\")"
      ],
      "metadata": {
        "id": "JkZZf89j3HEl"
      },
      "execution_count": null,
      "outputs": []
    },
    {
      "cell_type": "code",
      "source": [
        "df_knn.columns"
      ],
      "metadata": {
        "colab": {
          "base_uri": "https://localhost:8080/"
        },
        "id": "6eR_P9jAjmE6",
        "outputId": "76aecf4f-7a34-48fe-903c-96ef4747c25b"
      },
      "execution_count": null,
      "outputs": [
        {
          "output_type": "execute_result",
          "data": {
            "text/plain": [
              "Index(['Unnamed: 0', 'Unnamed: 0.1', 'Unnamed: 0.1.1', 'Hour', 'HR', 'O2Sat',\n",
              "       'Temp', 'SBP', 'MAP', 'DBP', 'Resp', 'BaseExcess', 'HCO3', 'FiO2', 'pH',\n",
              "       'PaCO2', 'SaO2', 'AST', 'BUN', 'Alkalinephos', 'Calcium', 'Chloride',\n",
              "       'Creatinine', 'Glucose', 'Lactate', 'Magnesium', 'Phosphate',\n",
              "       'Potassium', 'Bilirubin_total', 'Hct', 'Hgb', 'PTT', 'WBC', 'Platelets',\n",
              "       'Age', 'Gender', 'HospAdmTime', 'ICULOS', 'SepsisLabel', 'Patient_ID'],\n",
              "      dtype='object')"
            ]
          },
          "metadata": {},
          "execution_count": 15
        }
      ]
    },
    {
      "cell_type": "markdown",
      "source": [
        "# Generic Function to drop columns with missing values > 60%"
      ],
      "metadata": {
        "id": "VSqydpCK-Wxa"
      }
    },
    {
      "cell_type": "code",
      "source": [
        "def drop_columns(drop_df):\n",
        "  drop_columns=['EtCO2','Bilirubin_direct','TroponinI','Fibrinogen','sepsisType','Unit1',\n",
        "       'Unit2']\n",
        "  drop_df=drop_df.drop(drop_columns,axis=1, errors='ignore')\n",
        "  return drop_df\n"
      ],
      "metadata": {
        "id": "glFFuafF5P9B"
      },
      "execution_count": null,
      "outputs": []
    },
    {
      "cell_type": "markdown",
      "source": [
        "# Drop the columns with missing values > 60 % from 5 dataset"
      ],
      "metadata": {
        "id": "k0rUm0VGkftu"
      }
    },
    {
      "cell_type": "code",
      "source": [
        "df=drop_columns(df)\n",
        "df_sepsis_only_dataset=drop_columns(df_sepsis_only_dataset)\n",
        "df_MICE=drop_columns(df_MICE)\n",
        "df_interpolation=drop_columns(df_interpolation)\n",
        "df_knn=drop_columns(df_knn)"
      ],
      "metadata": {
        "id": "vx_hyuhQke17"
      },
      "execution_count": null,
      "outputs": []
    },
    {
      "cell_type": "code",
      "source": [
        "df.columns"
      ],
      "metadata": {
        "colab": {
          "base_uri": "https://localhost:8080/"
        },
        "id": "9bRnRZUgjrBi",
        "outputId": "4b984bfa-af7e-4310-aaa6-79a97ac2d918"
      },
      "execution_count": null,
      "outputs": [
        {
          "output_type": "execute_result",
          "data": {
            "text/plain": [
              "Index(['Unnamed: 0', 'Hour', 'HR', 'O2Sat', 'Temp', 'SBP', 'MAP', 'DBP',\n",
              "       'Resp', 'BaseExcess', 'HCO3', 'FiO2', 'pH', 'PaCO2', 'SaO2', 'AST',\n",
              "       'BUN', 'Alkalinephos', 'Calcium', 'Chloride', 'Creatinine', 'Glucose',\n",
              "       'Lactate', 'Magnesium', 'Phosphate', 'Potassium', 'Bilirubin_total',\n",
              "       'Hct', 'Hgb', 'PTT', 'WBC', 'Platelets', 'Age', 'Gender', 'HospAdmTime',\n",
              "       'ICULOS', 'SepsisLabel', 'Patient_ID'],\n",
              "      dtype='object')"
            ]
          },
          "metadata": {},
          "execution_count": 42
        }
      ]
    },
    {
      "cell_type": "code",
      "source": [
        "df.shape"
      ],
      "metadata": {
        "colab": {
          "base_uri": "https://localhost:8080/"
        },
        "id": "XefgqIqVjyms",
        "outputId": "4887712f-c054-49ba-da64-d6dc1e4cc9d8"
      },
      "execution_count": null,
      "outputs": [
        {
          "output_type": "execute_result",
          "data": {
            "text/plain": [
              "(1552210, 44)"
            ]
          },
          "metadata": {},
          "execution_count": 18
        }
      ]
    },
    {
      "cell_type": "code",
      "source": [
        "df_sepsis_only_dataset.columns"
      ],
      "metadata": {
        "colab": {
          "base_uri": "https://localhost:8080/"
        },
        "id": "gCgeG8QIj3-n",
        "outputId": "b5b16a55-2be8-406a-e2c6-d135f27e4265"
      },
      "execution_count": null,
      "outputs": [
        {
          "output_type": "execute_result",
          "data": {
            "text/plain": [
              "Index(['Unnamed: 0', 'Unnamed: 0.1', 'Hour', 'HR', 'O2Sat', 'Temp', 'SBP',\n",
              "       'MAP', 'DBP', 'Resp', 'BaseExcess', 'HCO3', 'FiO2', 'pH', 'PaCO2',\n",
              "       'SaO2', 'AST', 'BUN', 'Alkalinephos', 'Calcium', 'Chloride',\n",
              "       'Creatinine', 'Glucose', 'Lactate', 'Magnesium', 'Phosphate',\n",
              "       'Potassium', 'Bilirubin_total', 'Hct', 'Hgb', 'PTT', 'WBC', 'Platelets',\n",
              "       'Age', 'Gender', 'HospAdmTime', 'ICULOS', 'SepsisLabel', 'Patient_ID'],\n",
              "      dtype='object')"
            ]
          },
          "metadata": {},
          "execution_count": 43
        }
      ]
    },
    {
      "cell_type": "code",
      "source": [
        "df_sepsis_only_dataset.columns"
      ],
      "metadata": {
        "colab": {
          "base_uri": "https://localhost:8080/"
        },
        "id": "ckFXf86qj59x",
        "outputId": "0ccdf91a-8c86-44e7-937d-8ccc6e0c22fc"
      },
      "execution_count": null,
      "outputs": [
        {
          "output_type": "execute_result",
          "data": {
            "text/plain": [
              "Index(['Unnamed: 0', 'Unnamed: 0.1', 'Hour', 'HR', 'O2Sat', 'Temp', 'SBP',\n",
              "       'MAP', 'DBP', 'Resp', 'BaseExcess', 'HCO3', 'FiO2', 'pH', 'PaCO2',\n",
              "       'SaO2', 'AST', 'BUN', 'Alkalinephos', 'Calcium', 'Chloride',\n",
              "       'Creatinine', 'Glucose', 'Lactate', 'Magnesium', 'Phosphate',\n",
              "       'Potassium', 'Bilirubin_total', 'Hct', 'Hgb', 'PTT', 'WBC', 'Platelets',\n",
              "       'Age', 'Gender', 'HospAdmTime', 'ICULOS', 'SepsisLabel', 'Patient_ID'],\n",
              "      dtype='object')"
            ]
          },
          "metadata": {},
          "execution_count": 44
        }
      ]
    },
    {
      "cell_type": "code",
      "source": [
        "df_MICE.columns"
      ],
      "metadata": {
        "colab": {
          "base_uri": "https://localhost:8080/"
        },
        "id": "IdfefvzYj-3O",
        "outputId": "1dde6eb8-271a-4e4c-e22d-474fd0be7769"
      },
      "execution_count": null,
      "outputs": [
        {
          "output_type": "execute_result",
          "data": {
            "text/plain": [
              "Index(['Unnamed: 0', 'Unnamed: 0.1', 'Hour', 'HR', 'O2Sat', 'Temp', 'SBP',\n",
              "       'MAP', 'DBP', 'Resp', 'BaseExcess', 'HCO3', 'FiO2', 'pH', 'PaCO2',\n",
              "       'SaO2', 'AST', 'BUN', 'Alkalinephos', 'Calcium', 'Chloride',\n",
              "       'Creatinine', 'Glucose', 'Lactate', 'Magnesium', 'Phosphate',\n",
              "       'Potassium', 'Bilirubin_total', 'Hct', 'Hgb', 'PTT', 'WBC', 'Platelets',\n",
              "       'Age', 'Gender', 'HospAdmTime', 'ICULOS', 'SepsisLabel', 'Patient_ID'],\n",
              "      dtype='object')"
            ]
          },
          "metadata": {},
          "execution_count": 45
        }
      ]
    },
    {
      "cell_type": "code",
      "source": [
        "df_MICE.shape"
      ],
      "metadata": {
        "colab": {
          "base_uri": "https://localhost:8080/"
        },
        "id": "lJ6SF6mWkAnD",
        "outputId": "a1da78d0-74d0-4adb-cc54-d52c737d1eda"
      },
      "execution_count": null,
      "outputs": [
        {
          "output_type": "execute_result",
          "data": {
            "text/plain": [
              "(172410, 46)"
            ]
          },
          "metadata": {},
          "execution_count": 22
        }
      ]
    },
    {
      "cell_type": "code",
      "source": [
        "df_interpolation.columns"
      ],
      "metadata": {
        "colab": {
          "base_uri": "https://localhost:8080/"
        },
        "id": "jBHFbkV8kEFy",
        "outputId": "2ad8fe38-119d-473b-aabb-ee318d16e6d2"
      },
      "execution_count": null,
      "outputs": [
        {
          "output_type": "execute_result",
          "data": {
            "text/plain": [
              "Index(['Unnamed: 0', 'Unnamed: 0.1', 'Unnamed: 0.1.1', 'Hour', 'HR', 'O2Sat',\n",
              "       'Temp', 'SBP', 'MAP', 'DBP', 'Resp', 'BaseExcess', 'HCO3', 'FiO2', 'pH',\n",
              "       'PaCO2', 'SaO2', 'AST', 'BUN', 'Alkalinephos', 'Calcium', 'Chloride',\n",
              "       'Creatinine', 'Glucose', 'Lactate', 'Magnesium', 'Phosphate',\n",
              "       'Potassium', 'Bilirubin_total', 'Hct', 'Hgb', 'PTT', 'WBC', 'Platelets',\n",
              "       'Age', 'Gender', 'HospAdmTime', 'ICULOS', 'SepsisLabel', 'Patient_ID'],\n",
              "      dtype='object')"
            ]
          },
          "metadata": {},
          "execution_count": 46
        }
      ]
    },
    {
      "cell_type": "code",
      "source": [
        "df_interpolation.shape"
      ],
      "metadata": {
        "colab": {
          "base_uri": "https://localhost:8080/"
        },
        "id": "ovblKM4TkHaf",
        "outputId": "78db14fd-f6bb-4f63-b564-04b5075ac7b8"
      },
      "execution_count": null,
      "outputs": [
        {
          "output_type": "execute_result",
          "data": {
            "text/plain": [
              "(172410, 40)"
            ]
          },
          "metadata": {},
          "execution_count": 47
        }
      ]
    },
    {
      "cell_type": "code",
      "source": [
        "df_knn.columns"
      ],
      "metadata": {
        "colab": {
          "base_uri": "https://localhost:8080/"
        },
        "id": "hkWR2lkKkKyI",
        "outputId": "3205a52c-8775-4f60-fa1b-fdff876a0df5"
      },
      "execution_count": null,
      "outputs": [
        {
          "output_type": "execute_result",
          "data": {
            "text/plain": [
              "Index(['Unnamed: 0', 'Unnamed: 0.1', 'Unnamed: 0.1.1', 'Hour', 'HR', 'O2Sat',\n",
              "       'Temp', 'SBP', 'MAP', 'DBP', 'Resp', 'BaseExcess', 'HCO3', 'FiO2', 'pH',\n",
              "       'PaCO2', 'SaO2', 'AST', 'BUN', 'Alkalinephos', 'Calcium', 'Chloride',\n",
              "       'Creatinine', 'Glucose', 'Lactate', 'Magnesium', 'Phosphate',\n",
              "       'Potassium', 'Bilirubin_total', 'Hct', 'Hgb', 'PTT', 'WBC', 'Platelets',\n",
              "       'Age', 'Gender', 'HospAdmTime', 'ICULOS', 'SepsisLabel', 'Patient_ID'],\n",
              "      dtype='object')"
            ]
          },
          "metadata": {},
          "execution_count": 48
        }
      ]
    },
    {
      "cell_type": "code",
      "source": [
        "df_knn.shape"
      ],
      "metadata": {
        "colab": {
          "base_uri": "https://localhost:8080/"
        },
        "id": "nD6FvtxWkTWV",
        "outputId": "085b9124-6e55-4e87-85a3-a46ce6c6c474"
      },
      "execution_count": null,
      "outputs": [
        {
          "output_type": "execute_result",
          "data": {
            "text/plain": [
              "(172410, 40)"
            ]
          },
          "metadata": {},
          "execution_count": 49
        }
      ]
    },
    {
      "cell_type": "markdown",
      "source": [
        "# followed below site for simple xgb classifier\n",
        "https://towardsdatascience.com/beginners-guide-to-xgboost-for-classification-problems-50f75aac5390"
      ],
      "metadata": {
        "id": "Mk45Ml9Icrg8"
      }
    },
    {
      "cell_type": "markdown",
      "source": [
        "# Function for Simple XGB Imputer"
      ],
      "metadata": {
        "id": "bbuFiyLoAiGo"
      }
    },
    {
      "cell_type": "code",
      "source": [
        "#function xgboost_base takes dataset as input , split to train/test , run the model , validate and return accuracy\n",
        "def xgboost_base(train):\n",
        "  x = train.drop(['SepsisLabel'], axis=1) # assigning features to x, y\n",
        "  y = train['SepsisLabel']\n",
        "  x_train, x_val, y_train, y_val = train_test_split(x, y, test_size=0.2, random_state=42)\n",
        "  xgb_cl = xgb.XGBClassifier(objective='binary:logistic',n_estimator=6,seed=42)\n",
        "  xgb_cl.fit(x_train, y_train)\n",
        "  preds = xgb_cl.predict(x_val)\n",
        "  accuracy = accuracy_score(y_val, preds)\n",
        "  return accuracy"
      ],
      "metadata": {
        "id": "Cy9wdwQVeEpG"
      },
      "execution_count": null,
      "outputs": []
    },
    {
      "cell_type": "markdown",
      "source": [
        "# Find accuracy of XGBoost for each of 5 datasets"
      ],
      "metadata": {
        "id": "omLMYaVxA5gs"
      }
    },
    {
      "cell_type": "code",
      "source": [
        "accuracy_original_dataset=xgboost_base(df)\n",
        "accuracy_sepsis_only_dataset=xgboost_base(df_sepsis_only_dataset)\n",
        "accuracy_df_MICE=xgboost_base(df_MICE)\n",
        "accuracy_df_interpolation=xgboost_base(df_interpolation)\n",
        "accuracy_df_knn=xgboost_base(df_knn)"
      ],
      "metadata": {
        "id": "l6BxZMM3ItAX"
      },
      "execution_count": null,
      "outputs": []
    },
    {
      "cell_type": "markdown",
      "source": [
        "# Print accuracy values of 5 datasets"
      ],
      "metadata": {
        "id": "vb-3Iv4jBAHL"
      }
    },
    {
      "cell_type": "code",
      "source": [
        "print(\"accuracy_original_dataset: %.2f%%\" % (accuracy_original_dataset * 100.0))\n",
        "print(\"accuracy_sepsis_only_dataset: %.2f%%\" % (accuracy_sepsis_only_dataset * 100.0))\n",
        "print(\"accuracy_df_MICE: %.2f%%\" % (accuracy_df_MICE * 100.0))\n",
        "print(\"accuracy_df_interpolation: %.2f%%\" % (accuracy_df_interpolation * 100.0))\n",
        "print(\"accuracy_df_knn: %.2f%%\" % (accuracy_df_knn * 100.0))"
      ],
      "metadata": {
        "colab": {
          "base_uri": "https://localhost:8080/"
        },
        "id": "a7gND2luJLv2",
        "outputId": "a12ca959-0189-4d43-b6a9-8ce22b84b8e4"
      },
      "execution_count": null,
      "outputs": [
        {
          "output_type": "stream",
          "name": "stdout",
          "text": [
            "accuracy_original_dataset: 98.22%\n",
            "accuracy_sepsis_only_dataset: 83.83%\n",
            "accuracy_df_MICE: 83.81%\n",
            "accuracy_df_interpolation: 85.37%\n",
            "accuracy_df_knn: 83.89%\n"
          ]
        }
      ]
    },
    {
      "cell_type": "code",
      "source": [
        "# initialize list of lists\n",
        "data = [['All_Patients_WithNull', accuracy_original_dataset*100], \n",
        "        ['Septic_Patients_WithNull', accuracy_sepsis_only_dataset*100], \n",
        "        ['Septic_Patients_MICE', accuracy_df_MICE*100],\n",
        "        ['Septic_Patients_Interpolation', accuracy_df_interpolation*100],\n",
        "        ['Septic_Patients_KNN', accuracy_df_knn*100]]\n",
        " \n",
        "# Create the pandas DataFrame\n",
        "accuracy = pd.DataFrame(data, columns = ['DataSet', 'Accuracy %'])\n",
        "accuracy"
      ],
      "metadata": {
        "colab": {
          "base_uri": "https://localhost:8080/",
          "height": 206
        },
        "id": "BGc53JG4Ch1z",
        "outputId": "d44686cf-b4d3-46c2-9285-d9ad5a674ff1"
      },
      "execution_count": null,
      "outputs": [
        {
          "output_type": "execute_result",
          "data": {
            "text/html": [
              "\n",
              "  <div id=\"df-825d8b54-ba47-4d5f-9c9d-483ce724a758\">\n",
              "    <div class=\"colab-df-container\">\n",
              "      <div>\n",
              "<style scoped>\n",
              "    .dataframe tbody tr th:only-of-type {\n",
              "        vertical-align: middle;\n",
              "    }\n",
              "\n",
              "    .dataframe tbody tr th {\n",
              "        vertical-align: top;\n",
              "    }\n",
              "\n",
              "    .dataframe thead th {\n",
              "        text-align: right;\n",
              "    }\n",
              "</style>\n",
              "<table border=\"1\" class=\"dataframe\">\n",
              "  <thead>\n",
              "    <tr style=\"text-align: right;\">\n",
              "      <th></th>\n",
              "      <th>DataSet</th>\n",
              "      <th>Accuracy %</th>\n",
              "    </tr>\n",
              "  </thead>\n",
              "  <tbody>\n",
              "    <tr>\n",
              "      <th>0</th>\n",
              "      <td>All_Patients_WithNull</td>\n",
              "      <td>98.215126</td>\n",
              "    </tr>\n",
              "    <tr>\n",
              "      <th>1</th>\n",
              "      <td>Septic_Patients_WithNull</td>\n",
              "      <td>83.826344</td>\n",
              "    </tr>\n",
              "    <tr>\n",
              "      <th>2</th>\n",
              "      <td>Septic_Patients_MICE</td>\n",
              "      <td>83.814744</td>\n",
              "    </tr>\n",
              "    <tr>\n",
              "      <th>3</th>\n",
              "      <td>Septic_Patients_Interpolation</td>\n",
              "      <td>85.374978</td>\n",
              "    </tr>\n",
              "    <tr>\n",
              "      <th>4</th>\n",
              "      <td>Septic_Patients_KNN</td>\n",
              "      <td>83.887246</td>\n",
              "    </tr>\n",
              "  </tbody>\n",
              "</table>\n",
              "</div>\n",
              "      <button class=\"colab-df-convert\" onclick=\"convertToInteractive('df-825d8b54-ba47-4d5f-9c9d-483ce724a758')\"\n",
              "              title=\"Convert this dataframe to an interactive table.\"\n",
              "              style=\"display:none;\">\n",
              "        \n",
              "  <svg xmlns=\"http://www.w3.org/2000/svg\" height=\"24px\"viewBox=\"0 0 24 24\"\n",
              "       width=\"24px\">\n",
              "    <path d=\"M0 0h24v24H0V0z\" fill=\"none\"/>\n",
              "    <path d=\"M18.56 5.44l.94 2.06.94-2.06 2.06-.94-2.06-.94-.94-2.06-.94 2.06-2.06.94zm-11 1L8.5 8.5l.94-2.06 2.06-.94-2.06-.94L8.5 2.5l-.94 2.06-2.06.94zm10 10l.94 2.06.94-2.06 2.06-.94-2.06-.94-.94-2.06-.94 2.06-2.06.94z\"/><path d=\"M17.41 7.96l-1.37-1.37c-.4-.4-.92-.59-1.43-.59-.52 0-1.04.2-1.43.59L10.3 9.45l-7.72 7.72c-.78.78-.78 2.05 0 2.83L4 21.41c.39.39.9.59 1.41.59.51 0 1.02-.2 1.41-.59l7.78-7.78 2.81-2.81c.8-.78.8-2.07 0-2.86zM5.41 20L4 18.59l7.72-7.72 1.47 1.35L5.41 20z\"/>\n",
              "  </svg>\n",
              "      </button>\n",
              "      \n",
              "  <style>\n",
              "    .colab-df-container {\n",
              "      display:flex;\n",
              "      flex-wrap:wrap;\n",
              "      gap: 12px;\n",
              "    }\n",
              "\n",
              "    .colab-df-convert {\n",
              "      background-color: #E8F0FE;\n",
              "      border: none;\n",
              "      border-radius: 50%;\n",
              "      cursor: pointer;\n",
              "      display: none;\n",
              "      fill: #1967D2;\n",
              "      height: 32px;\n",
              "      padding: 0 0 0 0;\n",
              "      width: 32px;\n",
              "    }\n",
              "\n",
              "    .colab-df-convert:hover {\n",
              "      background-color: #E2EBFA;\n",
              "      box-shadow: 0px 1px 2px rgba(60, 64, 67, 0.3), 0px 1px 3px 1px rgba(60, 64, 67, 0.15);\n",
              "      fill: #174EA6;\n",
              "    }\n",
              "\n",
              "    [theme=dark] .colab-df-convert {\n",
              "      background-color: #3B4455;\n",
              "      fill: #D2E3FC;\n",
              "    }\n",
              "\n",
              "    [theme=dark] .colab-df-convert:hover {\n",
              "      background-color: #434B5C;\n",
              "      box-shadow: 0px 1px 3px 1px rgba(0, 0, 0, 0.15);\n",
              "      filter: drop-shadow(0px 1px 2px rgba(0, 0, 0, 0.3));\n",
              "      fill: #FFFFFF;\n",
              "    }\n",
              "  </style>\n",
              "\n",
              "      <script>\n",
              "        const buttonEl =\n",
              "          document.querySelector('#df-825d8b54-ba47-4d5f-9c9d-483ce724a758 button.colab-df-convert');\n",
              "        buttonEl.style.display =\n",
              "          google.colab.kernel.accessAllowed ? 'block' : 'none';\n",
              "\n",
              "        async function convertToInteractive(key) {\n",
              "          const element = document.querySelector('#df-825d8b54-ba47-4d5f-9c9d-483ce724a758');\n",
              "          const dataTable =\n",
              "            await google.colab.kernel.invokeFunction('convertToInteractive',\n",
              "                                                     [key], {});\n",
              "          if (!dataTable) return;\n",
              "\n",
              "          const docLinkHtml = 'Like what you see? Visit the ' +\n",
              "            '<a target=\"_blank\" href=https://colab.research.google.com/notebooks/data_table.ipynb>data table notebook</a>'\n",
              "            + ' to learn more about interactive tables.';\n",
              "          element.innerHTML = '';\n",
              "          dataTable['output_type'] = 'display_data';\n",
              "          await google.colab.output.renderOutput(dataTable, element);\n",
              "          const docLink = document.createElement('div');\n",
              "          docLink.innerHTML = docLinkHtml;\n",
              "          element.appendChild(docLink);\n",
              "        }\n",
              "      </script>\n",
              "    </div>\n",
              "  </div>\n",
              "  "
            ],
            "text/plain": [
              "                         DataSet  Accuracy %\n",
              "0          All_Patients_WithNull   98.215126\n",
              "1       Septic_Patients_WithNull   83.826344\n",
              "2           Septic_Patients_MICE   83.814744\n",
              "3  Septic_Patients_Interpolation   85.374978\n",
              "4            Septic_Patients_KNN   83.887246"
            ]
          },
          "metadata": {},
          "execution_count": 53
        }
      ]
    },
    {
      "cell_type": "code",
      "source": [
        "import seaborn as sns\n",
        "sns.set(rc={'figure.figsize':(15,8.27)})\n",
        "sns.barplot(x=\"DataSet\", y=\"Accuracy %\", data=accuracy)"
      ],
      "metadata": {
        "colab": {
          "base_uri": "https://localhost:8080/",
          "height": 536
        },
        "id": "OFe4JTu5DyQD",
        "outputId": "ca4516e6-b2d5-4c1c-9331-c51255a91b5a"
      },
      "execution_count": null,
      "outputs": [
        {
          "output_type": "execute_result",
          "data": {
            "text/plain": [
              "<matplotlib.axes._subplots.AxesSubplot at 0x7f819a557490>"
            ]
          },
          "metadata": {},
          "execution_count": 54
        },
        {
          "output_type": "display_data",
          "data": {
            "image/png": "[encoded data removed]",
            "text/plain": [
              "<Figure size 1080x595.44 with 1 Axes>"
            ]
          },
          "metadata": {}
        }
      ]
    }
  ],
  "metadata": {
    "colab": {
      "name": "Xgboost_Model_Base.ipynb",
      "provenance": [],
      "collapsed_sections": [],
      "machine_shape": "hm"
    },
    "kernelspec": {
      "display_name": "Python 3",
      "name": "python3"
    },
    "language_info": {
      "name": "python"
    },
    "accelerator": "GPU"
  },
  "nbformat": 4,
  "nbformat_minor": 0
}