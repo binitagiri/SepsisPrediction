{
  "cells": [
    {
      "cell_type": "markdown",
      "source": [
        "# Connecting to Google Drive "
      ],
      "metadata": {
        "id": "mxzlVlg17mJH"
      }
    },
    {
      "cell_type": "code",
      "execution_count": null,
      "metadata": {
        "colab": {
          "base_uri": "https://localhost:8080/"
        },
        "id": "o_OM2KNJUprh",
        "outputId": "3862ced8-75ab-40be-adb4-c1a04311c3fb"
      },
      "outputs": [
        {
          "output_type": "stream",
          "name": "stdout",
          "text": [
            "Mounted at /content/drive\n"
          ]
        }
      ],
      "source": [
        "#DATA THE DATA TO YOUR DRIVE \n",
        "# we need find a way to import the data. If someone can push train.csv to main github it will work. I have problem in working with git.\n",
        "from google.colab import drive\n",
        "drive.mount('/content/drive')"
      ]
    },
    {
      "cell_type": "markdown",
      "source": [
        "# Change to directory in Drive where datasets are located"
      ],
      "metadata": {
        "id": "X3J0NeQF77mr"
      }
    },
    {
      "cell_type": "code",
      "source": [
        "#cd '/content/drive/MyDrive/datasets' #after connecting to drive and change file path\n",
        "import os\n",
        "os.chdir('/content/drive/MyDrive/Datascience')"
      ],
      "metadata": {
        "id": "n53SS-UxTlk1"
      },
      "execution_count": null,
      "outputs": []
    },
    {
      "cell_type": "markdown",
      "source": [
        "#Importing Libraries"
      ],
      "metadata": {
        "id": "Yo7MsofI8Ywu"
      }
    },
    {
      "cell_type": "code",
      "execution_count": null,
      "metadata": {
        "id": "4zYEEhfbU2F7"
      },
      "outputs": [],
      "source": [
        "#Import the required libraries\n",
        "import pandas as pd\n",
        "import matplotlib as plt\n",
        "import seaborn as snb\n",
        "import numpy as np\n",
        "%matplotlib inline\n",
        "\n",
        "from sklearn.model_selection import train_test_split\n",
        "import xgboost as xgb\n",
        "from sklearn.metrics import accuracy_score"
      ]
    },
    {
      "cell_type": "code",
      "source": [
        "#Original dataset\n",
        "original_data=pd.read_csv(\"Dataset.csv\")"
      ],
      "metadata": {
        "id": "J47oGjdIWwO0"
      },
      "execution_count": null,
      "outputs": []
    },
    {
      "cell_type": "code",
      "source": [
        "original_data['SepsisLabel'].value_counts().plot(kind='pie',autopct='%.2f',shadow=True,startangle=10)"
      ],
      "metadata": {
        "colab": {
          "base_uri": "https://localhost:8080/",
          "height": 266
        },
        "id": "gaq6_NEzXBhz",
        "outputId": "0c4d17c4-189e-41b7-afd1-d9204894d8f6"
      },
      "execution_count": null,
      "outputs": [
        {
          "output_type": "execute_result",
          "data": {
            "text/plain": [
              "<matplotlib.axes._subplots.AxesSubplot at 0x7f32dcb85450>"
            ]
          },
          "metadata": {},
          "execution_count": 17
        },
        {
          "output_type": "display_data",
          "data": {
            "image/png": "[encoded data removed]",
            "text/plain": [
              "<Figure size 432x288 with 1 Axes>"
            ]
          },
          "metadata": {}
        }
      ]
    },
    {
      "cell_type": "code",
      "source": [
        "original_data['SepsisLabel'].value_counts()"
      ],
      "metadata": {
        "colab": {
          "base_uri": "https://localhost:8080/"
        },
        "id": "kpzGniOwXg31",
        "outputId": "d19d276b-2f8c-44c2-8321-a0029d97606a"
      },
      "execution_count": null,
      "outputs": [
        {
          "output_type": "execute_result",
          "data": {
            "text/plain": [
              "0    1524294\n",
              "1      27916\n",
              "Name: SepsisLabel, dtype: int64"
            ]
          },
          "metadata": {},
          "execution_count": 18
        }
      ]
    },
    {
      "cell_type": "code",
      "source": [
        "#MICE imputed dataset\n",
        "sepsis_data=pd.read_csv(\"sepsis_patients_MICE.csv\")"
      ],
      "metadata": {
        "id": "YQHhp0V53Y84"
      },
      "execution_count": null,
      "outputs": []
    },
    {
      "cell_type": "code",
      "source": [
        "sepsis_data['SepsisLabel'].value_counts().plot(kind='pie',autopct='%.2f',shadow=True,startangle=10)"
      ],
      "metadata": {
        "colab": {
          "base_uri": "https://localhost:8080/",
          "height": 266
        },
        "id": "v_Xo-N8-Wrf4",
        "outputId": "c693c8bf-6db1-4097-cdf1-7f3fb7b2337f"
      },
      "execution_count": null,
      "outputs": [
        {
          "output_type": "execute_result",
          "data": {
            "text/plain": [
              "<matplotlib.axes._subplots.AxesSubplot at 0x7f32dcbc4590>"
            ]
          },
          "metadata": {},
          "execution_count": 20
        },
        {
          "output_type": "display_data",
          "data": {
            "image/png": "[encoded data removed]",
            "text/plain": [
              "<Figure size 432x288 with 1 Axes>"
            ]
          },
          "metadata": {}
        }
      ]
    },
    {
      "cell_type": "code",
      "source": [
        "sepsis_data['SepsisLabel'].value_counts()"
      ],
      "metadata": {
        "colab": {
          "base_uri": "https://localhost:8080/"
        },
        "id": "Yxw1wllKYeUW",
        "outputId": "9008a202-12bd-4b40-f1d0-5214e19d0e93"
      },
      "execution_count": null,
      "outputs": [
        {
          "output_type": "execute_result",
          "data": {
            "text/plain": [
              "0    144494\n",
              "1     27916\n",
              "Name: SepsisLabel, dtype: int64"
            ]
          },
          "metadata": {},
          "execution_count": 22
        }
      ]
    },
    {
      "cell_type": "code",
      "source": [
        "sepsis_data['sepsisType'].unique()"
      ],
      "metadata": {
        "colab": {
          "base_uri": "https://localhost:8080/"
        },
        "id": "mD_VX106D-_q",
        "outputId": "3a046608-e914-4ccc-d790-ec3468236dd8"
      },
      "execution_count": null,
      "outputs": [
        {
          "output_type": "execute_result",
          "data": {
            "text/plain": [
              "array(['SepsisAfterAdm', 'SepsisBeforeAdm'], dtype=object)"
            ]
          },
          "metadata": {},
          "execution_count": 39
        }
      ]
    },
    {
      "cell_type": "code",
      "source": [
        "data=sepsis_data[sepsis_data['sepsisType'] == 'SepsisAfterAdm']"
      ],
      "metadata": {
        "id": "-HPcKGkIDtmp"
      },
      "execution_count": null,
      "outputs": []
    },
    {
      "cell_type": "code",
      "source": [
        "data['sepsisType'].unique()"
      ],
      "metadata": {
        "colab": {
          "base_uri": "https://localhost:8080/"
        },
        "id": "w8fZ-SveZJTb",
        "outputId": "deb2303d-62c6-4457-de40-01ad6dc22fdb"
      },
      "execution_count": null,
      "outputs": [
        {
          "output_type": "execute_result",
          "data": {
            "text/plain": [
              "array(['SepsisAfterAdm'], dtype=object)"
            ]
          },
          "metadata": {},
          "execution_count": 40
        }
      ]
    },
    {
      "cell_type": "code",
      "source": [
        "data.columns"
      ],
      "metadata": {
        "colab": {
          "base_uri": "https://localhost:8080/"
        },
        "id": "_8petpLVA9sD",
        "outputId": "c85356fb-0f54-491c-9a76-00ce10d61e7d"
      },
      "execution_count": null,
      "outputs": [
        {
          "output_type": "execute_result",
          "data": {
            "text/plain": [
              "Index(['Unnamed: 0', 'Unnamed: 0.1', 'Hour', 'HR', 'O2Sat', 'Temp', 'SBP',\n",
              "       'MAP', 'DBP', 'Resp', 'EtCO2', 'BaseExcess', 'HCO3', 'FiO2', 'pH',\n",
              "       'PaCO2', 'SaO2', 'AST', 'BUN', 'Alkalinephos', 'Calcium', 'Chloride',\n",
              "       'Creatinine', 'Bilirubin_direct', 'Glucose', 'Lactate', 'Magnesium',\n",
              "       'Phosphate', 'Potassium', 'Bilirubin_total', 'TroponinI', 'Hct', 'Hgb',\n",
              "       'PTT', 'WBC', 'Fibrinogen', 'Platelets', 'Age', 'Gender', 'Unit1',\n",
              "       'Unit2', 'HospAdmTime', 'ICULOS', 'SepsisLabel', 'Patient_ID',\n",
              "       'sepsisType'],\n",
              "      dtype='object')"
            ]
          },
          "metadata": {},
          "execution_count": 25
        }
      ]
    },
    {
      "cell_type": "code",
      "source": [
        "data.shape"
      ],
      "metadata": {
        "colab": {
          "base_uri": "https://localhost:8080/"
        },
        "id": "erpXWGIABgxc",
        "outputId": "ee846610-a4ac-4bda-b265-f845c803cb5e"
      },
      "execution_count": null,
      "outputs": [
        {
          "output_type": "execute_result",
          "data": {
            "text/plain": [
              "(168764, 46)"
            ]
          },
          "metadata": {},
          "execution_count": 8
        }
      ]
    },
    {
      "cell_type": "code",
      "source": [
        "data['SepsisLabel'].value_counts().plot(kind='pie',autopct='%.2f',shadow=True,startangle=10)"
      ],
      "metadata": {
        "colab": {
          "base_uri": "https://localhost:8080/",
          "height": 266
        },
        "id": "lg3Z7gC7WYFh",
        "outputId": "33bbe82e-c274-4b13-c8ae-f528440a4c78"
      },
      "execution_count": null,
      "outputs": [
        {
          "output_type": "execute_result",
          "data": {
            "text/plain": [
              "<matplotlib.axes._subplots.AxesSubplot at 0x7f32dac81ad0>"
            ]
          },
          "metadata": {},
          "execution_count": 37
        },
        {
          "output_type": "display_data",
          "data": {
            "image/png": "[encoded data removed]",
            "text/plain": [
              "<Figure size 432x288 with 1 Axes>"
            ]
          },
          "metadata": {}
        }
      ]
    },
    {
      "cell_type": "code",
      "source": [
        "data['SepsisLabel'].value_counts()"
      ],
      "metadata": {
        "colab": {
          "base_uri": "https://localhost:8080/"
        },
        "id": "AED1v-WpZAJb",
        "outputId": "3e6ff09b-94ab-48b0-cbf9-00206e8656ee"
      },
      "execution_count": null,
      "outputs": [
        {
          "output_type": "execute_result",
          "data": {
            "text/plain": [
              "0    144494\n",
              "1     24270\n",
              "Name: SepsisLabel, dtype: int64"
            ]
          },
          "metadata": {},
          "execution_count": 38
        }
      ]
    },
    {
      "cell_type": "markdown",
      "source": [
        "# Generic Function to drop columns with missing values > 60%"
      ],
      "metadata": {
        "id": "VSqydpCK-Wxa"
      }
    },
    {
      "cell_type": "code",
      "source": [
        "def drop_columns(drop_df):\n",
        "  drop_columns=['EtCO2','Bilirubin_direct','TroponinI','Fibrinogen','sepsisType','Unit1',\n",
        "       'Unit2']\n",
        "  drop_df=drop_df.drop(drop_columns,axis=1, errors='ignore')\n",
        "  return drop_df\n"
      ],
      "metadata": {
        "id": "glFFuafF5P9B"
      },
      "execution_count": null,
      "outputs": []
    },
    {
      "cell_type": "markdown",
      "source": [
        "# Drop the columns with missing values > 60 % from the dataset"
      ],
      "metadata": {
        "id": "k0rUm0VGkftu"
      }
    },
    {
      "cell_type": "code",
      "source": [
        "data=drop_columns(data)"
      ],
      "metadata": {
        "id": "vx_hyuhQke17"
      },
      "execution_count": null,
      "outputs": []
    },
    {
      "cell_type": "code",
      "source": [
        "data.shape"
      ],
      "metadata": {
        "colab": {
          "base_uri": "https://localhost:8080/"
        },
        "id": "tPREm43DKjva",
        "outputId": "2733da5b-5938-4ba2-e0ea-32a82b5f7c17"
      },
      "execution_count": null,
      "outputs": [
        {
          "output_type": "execute_result",
          "data": {
            "text/plain": [
              "(168764, 39)"
            ]
          },
          "metadata": {},
          "execution_count": 12
        }
      ]
    },
    {
      "cell_type": "code",
      "source": [
        "data['SepsisLabel'].value_counts().plot.bar()"
      ],
      "metadata": {
        "colab": {
          "base_uri": "https://localhost:8080/",
          "height": 280
        },
        "id": "QHECZsUdAYm3",
        "outputId": "6f2dc5a2-f9ff-4b87-c84d-fe0084a4f2df"
      },
      "execution_count": null,
      "outputs": [
        {
          "output_type": "execute_result",
          "data": {
            "text/plain": [
              "<matplotlib.axes._subplots.AxesSubplot at 0x7f4dcdc54fd0>"
            ]
          },
          "metadata": {},
          "execution_count": 13
        },
        {
          "output_type": "display_data",
          "data": {
            "image/png": "[encoded data removed]",
            "text/plain": [
              "<Figure size 432x288 with 1 Axes>"
            ]
          },
          "metadata": {
            "needs_background": "light"
          }
        }
      ]
    },
    {
      "cell_type": "code",
      "source": [
        "print('Percentage of target variable in the data:')\n",
        "print(data['SepsisLabel'].value_counts() / len(data) * 100)"
      ],
      "metadata": {
        "colab": {
          "base_uri": "https://localhost:8080/"
        },
        "id": "8KtiNgmBAcSS",
        "outputId": "01078d5f-302e-4629-908c-8f0789efe5e1"
      },
      "execution_count": null,
      "outputs": [
        {
          "output_type": "stream",
          "name": "stdout",
          "text": [
            "Percentage of target variable in the data:\n",
            "0    85.618971\n",
            "1    14.381029\n",
            "Name: SepsisLabel, dtype: float64\n"
          ]
        }
      ]
    },
    {
      "cell_type": "markdown",
      "source": [
        "We will build a simple xgb classifer and compare the results for the classifier without SMOTE to with SMOTE."
      ],
      "metadata": {
        "id": "nCiJfqDjAwbz"
      }
    },
    {
      "cell_type": "code",
      "source": [
        "X = data.drop(['SepsisLabel'], axis=1) # assigning features to X, y\n",
        "y = data['SepsisLabel']"
      ],
      "metadata": {
        "id": "ZtdGfZUmBEXp"
      },
      "execution_count": null,
      "outputs": []
    },
    {
      "cell_type": "code",
      "source": [
        "# split into training and testing datasets\n",
        "from sklearn.model_selection import train_test_split\n",
        "X_train, X_test, y_train, y_test = train_test_split(X, y, test_size = 0.33, random_state = 2, shuffle = True, stratify = y)"
      ],
      "metadata": {
        "id": "g8FmdQ5KBBMi"
      },
      "execution_count": null,
      "outputs": []
    },
    {
      "cell_type": "code",
      "source": [
        "clf = xgb.XGBClassifier(objective='binary:logistic',n_estimator=6,seed=42)\n"
      ],
      "metadata": {
        "id": "3PaE_fo5BUYk"
      },
      "execution_count": null,
      "outputs": []
    },
    {
      "cell_type": "markdown",
      "source": [
        "Without SMOTE"
      ],
      "metadata": {
        "id": "hJQOSs2SBipZ"
      }
    },
    {
      "cell_type": "code",
      "source": [
        "# fit the model\n",
        "clf.fit(X_train, y_train.ravel())\n",
        "\n",
        "# prediction for training dataset\n",
        "train_pred = clf.predict(X_train)\n",
        "\n",
        "# prediction for testing dataset\n",
        "test_pred = clf.predict(X_test)"
      ],
      "metadata": {
        "id": "AG7glCyrBhKj"
      },
      "execution_count": null,
      "outputs": []
    },
    {
      "cell_type": "markdown",
      "source": [
        ""
      ],
      "metadata": {
        "id": "znH4dIvfBhcQ"
      }
    },
    {
      "cell_type": "code",
      "source": [
        "print('Confusion Matrix - Training Dataset')\n",
        "print(pd.crosstab(y_train.ravel(), train_pred, rownames = ['True'], colnames = ['Predicted'], margins = True))"
      ],
      "metadata": {
        "colab": {
          "base_uri": "https://localhost:8080/"
        },
        "id": "Rbc_MBstBejo",
        "outputId": "4845bcda-6580-4157-a8bb-7784a42db1d5"
      },
      "execution_count": null,
      "outputs": [
        {
          "output_type": "stream",
          "name": "stdout",
          "text": [
            "Confusion Matrix - Training Dataset\n",
            "Predicted       0   1     All\n",
            "True                         \n",
            "0           96806   4   96810\n",
            "1           16226  35   16261\n",
            "All        113032  39  113071\n"
          ]
        }
      ]
    },
    {
      "cell_type": "code",
      "source": [
        "16261/18594*100"
      ],
      "metadata": {
        "colab": {
          "base_uri": "https://localhost:8080/"
        },
        "id": "fSdlWr9nCajm",
        "outputId": "ed621421-bda5-4e1f-e0d2-fbc01428556a"
      },
      "execution_count": null,
      "outputs": [
        {
          "output_type": "execute_result",
          "data": {
            "text/plain": [
              "87.45294180918576"
            ]
          },
          "metadata": {},
          "execution_count": 42
        }
      ]
    },
    {
      "cell_type": "code",
      "source": [
        "print('Confusion Matrix - Testing Dataset')\n",
        "print(pd.crosstab(y_test.ravel(), test_pred.ravel(), rownames = ['True'], colnames = ['Predicted'], margins = True))"
      ],
      "metadata": {
        "colab": {
          "base_uri": "https://localhost:8080/"
        },
        "id": "eQey3W5wCe03",
        "outputId": "e31f4b9a-b71e-4bda-b600-36879fe19443"
      },
      "execution_count": null,
      "outputs": [
        {
          "output_type": "stream",
          "name": "stdout",
          "text": [
            "Confusion Matrix - Testing Dataset\n",
            "Predicted      0  1    All\n",
            "True                      \n",
            "0          47683  1  47684\n",
            "1           8001  8   8009\n",
            "All        55684  9  55693\n"
          ]
        }
      ]
    },
    {
      "cell_type": "code",
      "source": [
        "8001/8009*100"
      ],
      "metadata": {
        "colab": {
          "base_uri": "https://localhost:8080/"
        },
        "id": "wzb3FN4AClxA",
        "outputId": "fb6b3007-e7b8-4460-ffef-1bb85ad964f5"
      },
      "execution_count": null,
      "outputs": [
        {
          "output_type": "execute_result",
          "data": {
            "text/plain": [
              "99.90011237357972"
            ]
          },
          "metadata": {},
          "execution_count": 43
        }
      ]
    },
    {
      "cell_type": "markdown",
      "source": [
        "Using SMOTE"
      ],
      "metadata": {
        "id": "tMXy4y64C3mq"
      }
    },
    {
      "cell_type": "code",
      "source": [
        "from imblearn.over_sampling import SMOTE\n",
        "sm = SMOTE(random_state = 33)"
      ],
      "metadata": {
        "id": "f1GrcGO6C5vI"
      },
      "execution_count": null,
      "outputs": []
    },
    {
      "cell_type": "code",
      "source": [
        "X_train_new, y_train_new = sm.fit_resample(X_train, y_train.ravel())"
      ],
      "metadata": {
        "id": "2mwAixWXC9GP"
      },
      "execution_count": null,
      "outputs": []
    },
    {
      "cell_type": "code",
      "source": [
        "# observe that data has been balanced\n",
        "pd.Series(y_train_new).value_counts().plot.bar()"
      ],
      "metadata": {
        "colab": {
          "base_uri": "https://localhost:8080/",
          "height": 280
        },
        "id": "Gq2VEnlPDARq",
        "outputId": "e47b24fa-7e31-42cf-cc5e-7699fff0c16a"
      },
      "execution_count": null,
      "outputs": [
        {
          "output_type": "execute_result",
          "data": {
            "text/plain": [
              "<matplotlib.axes._subplots.AxesSubplot at 0x7f7d55fe3110>"
            ]
          },
          "metadata": {},
          "execution_count": 29
        },
        {
          "output_type": "display_data",
          "data": {
            "image/png": "[encoded data removed]",
            "text/plain": [
              "<Figure size 432x288 with 1 Axes>"
            ]
          },
          "metadata": {
            "needs_background": "light"
          }
        }
      ]
    },
    {
      "cell_type": "code",
      "source": [
        "# fit the model\n",
        "clf.fit(X_train_new, y_train_new)\n",
        "\n",
        "# prediction for Training data\n",
        "train_pred_sm = clf.predict(X_train_new)\n",
        "\n",
        "# prediction for Testing data\n",
        "test_pred_sm = clf.predict(X_test)"
      ],
      "metadata": {
        "id": "KGQ03a4xDGNj"
      },
      "execution_count": null,
      "outputs": []
    },
    {
      "cell_type": "code",
      "source": [
        "print('Accuracy score for Training Dataset = ', accuracy_score(train_pred_sm, y_train_new))\n",
        "print('Accuracy score for Testing Dataset = ', accuracy_score(test_pred_sm, y_test))"
      ],
      "metadata": {
        "colab": {
          "base_uri": "https://localhost:8080/"
        },
        "id": "X7KpyP7hDJTn",
        "outputId": "e21cef49-eae0-4910-dc9f-95c23ba591f0"
      },
      "execution_count": null,
      "outputs": [
        {
          "output_type": "stream",
          "name": "stdout",
          "text": [
            "Accuracy score for Training Dataset =  0.7530678648899907\n",
            "Accuracy score for Testing Dataset =  0.7339342466737292\n"
          ]
        }
      ]
    },
    {
      "cell_type": "code",
      "source": [
        "print('Confusion Matrix - Training Dataset')\n",
        "print(pd.crosstab(y_train_new, train_pred_sm, rownames = ['True'], colnames = ['Predicted'], margins = True))"
      ],
      "metadata": {
        "colab": {
          "base_uri": "https://localhost:8080/"
        },
        "id": "wgv0zsh7DKEY",
        "outputId": "497d9944-c218-44a1-a56c-cd4f21579fb4"
      },
      "execution_count": null,
      "outputs": [
        {
          "output_type": "stream",
          "name": "stdout",
          "text": [
            "Confusion Matrix - Training Dataset\n",
            "Predicted       0      1     All\n",
            "True                            \n",
            "0           79018  17792   96810\n",
            "1           30019  66791   96810\n",
            "All        109037  84583  193620\n"
          ]
        }
      ]
    },
    {
      "cell_type": "code",
      "source": [
        "30019/96810*100"
      ],
      "metadata": {
        "colab": {
          "base_uri": "https://localhost:8080/"
        },
        "id": "XO0qx1b-DOvG",
        "outputId": "234ccb62-61f0-48cb-f883-939737e7a13d"
      },
      "execution_count": null,
      "outputs": [
        {
          "output_type": "execute_result",
          "data": {
            "text/plain": [
              "31.008160314017147"
            ]
          },
          "metadata": {},
          "execution_count": 44
        }
      ]
    },
    {
      "cell_type": "code",
      "source": [
        "print('Confusion Matrix - Testing Dataset')\n",
        "print(pd.crosstab(y_test.ravel(), test_pred_sm, rownames = ['True'], colnames = ['Predicted'], margins = True))"
      ],
      "metadata": {
        "colab": {
          "base_uri": "https://localhost:8080/"
        },
        "id": "IslKtyT1DO4d",
        "outputId": "bc8d2985-abf5-4812-f21b-4ce34b1e4186"
      },
      "execution_count": null,
      "outputs": [
        {
          "output_type": "stream",
          "name": "stdout",
          "text": [
            "Confusion Matrix - Testing Dataset\n",
            "Predicted      0      1    All\n",
            "True                          \n",
            "0          38858   8826  47684\n",
            "1           5992   2017   8009\n",
            "All        44850  10843  55693\n"
          ]
        }
      ]
    },
    {
      "cell_type": "code",
      "source": [
        "5992/8009*100"
      ],
      "metadata": {
        "colab": {
          "base_uri": "https://localhost:8080/"
        },
        "id": "efrAVz1lDPxn",
        "outputId": "ad540fb9-805e-4f61-dc2d-cc51380e8040"
      },
      "execution_count": null,
      "outputs": [
        {
          "output_type": "execute_result",
          "data": {
            "text/plain": [
              "74.81583218878761"
            ]
          },
          "metadata": {},
          "execution_count": 45
        }
      ]
    }
  ],
  "metadata": {
    "colab": {
      "name": " Sepsisafteradm_MICE_imputed_data_Upsampling.ipynb",
      "provenance": [],
      "collapsed_sections": [],
      "machine_shape": "hm"
    },
    "kernelspec": {
      "display_name": "Python 3",
      "name": "python3"
    },
    "language_info": {
      "name": "python"
    },
    "accelerator": "GPU"
  },
  "nbformat": 4,
  "nbformat_minor": 0
}